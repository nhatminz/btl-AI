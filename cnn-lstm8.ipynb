{
 "cells": [
  {
   "cell_type": "code",
   "execution_count": 1,
   "metadata": {
    "_cell_guid": "b1076dfc-b9ad-4769-8c92-a6c4dae69d19",
    "_uuid": "8f2839f25d086af736a60e9eeb907d3b93b6e0e5",
    "execution": {
     "iopub.execute_input": "2025-04-30T11:12:12.795330Z",
     "iopub.status.busy": "2025-04-30T11:12:12.794930Z",
     "iopub.status.idle": "2025-04-30T11:12:17.763563Z",
     "shell.execute_reply": "2025-04-30T11:12:17.762182Z",
     "shell.execute_reply.started": "2025-04-30T11:12:12.795295Z"
    },
    "trusted": true
   },
   "outputs": [
    {
     "name": "stdout",
     "output_type": "stream",
     "text": [
      "Requirement already satisfied: GDAL in /usr/local/lib/python3.11/dist-packages (3.6.4)\n"
     ]
    }
   ],
   "source": [
    "!pip install GDAL"
   ]
  },
  {
   "cell_type": "code",
   "execution_count": 2,
   "metadata": {
    "execution": {
     "iopub.execute_input": "2025-04-30T11:12:17.766676Z",
     "iopub.status.busy": "2025-04-30T11:12:17.766217Z",
     "iopub.status.idle": "2025-04-30T11:12:25.849316Z",
     "shell.execute_reply": "2025-04-30T11:12:25.848394Z",
     "shell.execute_reply.started": "2025-04-30T11:12:17.766608Z"
    },
    "trusted": true
   },
   "outputs": [],
   "source": [
    "import os\n",
    "import numpy as np\n",
    "from osgeo import gdal\n",
    "import torch\n",
    "import torch.nn as nn\n",
    "import torch.optim as optim\n",
    "from torch.utils.data import DataLoader, TensorDataset\n",
    "from sklearn.model_selection import train_test_split\n",
    "from sklearn.metrics import mean_squared_error\n",
    "from datetime import datetime, timedelta\n",
    "import matplotlib.pyplot as plt\n",
    "import cartopy.crs as ccrs\n",
    "import cartopy.feature as cfeature\n",
    "import glob"
   ]
  },
  {
   "cell_type": "code",
   "execution_count": 3,
   "metadata": {
    "execution": {
     "iopub.execute_input": "2025-04-30T11:12:25.850695Z",
     "iopub.status.busy": "2025-04-30T11:12:25.850159Z",
     "iopub.status.idle": "2025-04-30T11:12:25.860245Z",
     "shell.execute_reply": "2025-04-30T11:12:25.859170Z",
     "shell.execute_reply.started": "2025-04-30T11:12:25.850666Z"
    },
    "trusted": true
   },
   "outputs": [
    {
     "name": "stdout",
     "output_type": "stream",
     "text": [
      "Using device: cpu\n"
     ]
    }
   ],
   "source": [
    "device = torch.device(\"cuda\" if torch.cuda.is_available() else \"cpu\")\n",
    "print(f\"Using device: {device}\")"
   ]
  },
  {
   "cell_type": "code",
   "execution_count": 4,
   "metadata": {
    "execution": {
     "iopub.execute_input": "2025-04-30T11:12:25.861530Z",
     "iopub.status.busy": "2025-04-30T11:12:25.861256Z",
     "iopub.status.idle": "2025-04-30T11:12:25.906924Z",
     "shell.execute_reply": "2025-04-30T11:12:25.905440Z",
     "shell.execute_reply.started": "2025-04-30T11:12:25.861509Z"
    },
    "trusted": true
   },
   "outputs": [],
   "source": [
    "# Đặt seed để tái lập kết quả\n",
    "torch.manual_seed(42)\n",
    "np.random.seed(42)\n",
    "\n",
    "# Định nghĩa các hằng số và đường dẫn\n",
    "BASE_PATH = \"/kaggle/input/btl-ai/DATA_SV\"\n",
    "HIMA_PATH = os.path.join(BASE_PATH, \"Hima\")\n",
    "ERA5_PATH = os.path.join(BASE_PATH, \"ERA5\")\n",
    "PRECIP_PATH = os.path.join(BASE_PATH, \"Precipitation/Radar\")\n",
    "OUTPUT_PATH = \"/kaggle/working/output/\"\n",
    "os.makedirs(OUTPUT_PATH, exist_ok=True)"
   ]
  },
  {
   "cell_type": "code",
   "execution_count": 5,
   "metadata": {
    "execution": {
     "iopub.execute_input": "2025-04-30T11:12:25.911831Z",
     "iopub.status.busy": "2025-04-30T11:12:25.911407Z",
     "iopub.status.idle": "2025-04-30T11:12:25.924142Z",
     "shell.execute_reply": "2025-04-30T11:12:25.922889Z",
     "shell.execute_reply.started": "2025-04-30T11:12:25.911797Z"
    },
    "trusted": true
   },
   "outputs": [],
   "source": [
    "HIMA_BANDS = ['B04B', 'B05B', 'B06B', 'B09B', 'B10B', 'B11B', 'B12B', 'B14B', 'B16B', 'I2B', 'I4B', 'IRB', 'VSB', 'WVB']  # 14 band\n",
    "ERA5_PARAMS = ['CAPE', 'CIN', 'EWSS', 'IE', 'ISOR', 'KX', 'PEV', 'R250', 'R500', 'R850', 'SLHF', 'SLOR', 'SSHF', 'TCLW', 'TCW', 'TCWV', 'U250', 'U850', 'V250', 'V850']  # 20 tham số\n",
    "HEIGHT, WIDTH = 90, 250\n",
    "\n",
    "# Chọn features để giữ lại\n",
    "SELECTED_HIMA_BANDS = ['B09B', 'B10B', 'B11B', 'B12B', 'B14B', 'B16B', 'I2B', 'IRB', 'WVB', 'I4B']\n",
    "SELECTED_ERA5_PARAMS = ['CAPE', 'CIN', 'EWSS', 'IE', 'ISOR', 'KX', 'PEV', 'R250', 'R500', 'R850', 'SLHF', 'SLOR', 'SSHF', 'TCLW', 'TCW', 'TCWV', 'U250', 'U850', 'V250', 'V850']\n",
    "\n",
    "IN_CHANNEL = len(SELECTED_HIMA_BANDS) + len(SELECTED_ERA5_PARAMS)"
   ]
  },
  {
   "cell_type": "code",
   "execution_count": 6,
   "metadata": {
    "execution": {
     "iopub.execute_input": "2025-04-30T11:12:25.926490Z",
     "iopub.status.busy": "2025-04-30T11:12:25.925592Z",
     "iopub.status.idle": "2025-04-30T11:12:25.947467Z",
     "shell.execute_reply": "2025-04-30T11:12:25.946137Z",
     "shell.execute_reply.started": "2025-04-30T11:12:25.926428Z"
    },
    "trusted": true
   },
   "outputs": [],
   "source": [
    "# 2. Hàm xử lý dữ liệu\n",
    "# Hàm đọc file GeoTIFF\n",
    "import numpy as np\n",
    "\n",
    "def read_geotiff(file_path, data_type=\"Radar\", verbose=False):\n",
    "    try:\n",
    "        ds = gdal.Open(file_path)\n",
    "        band = ds.GetRasterBand(1)\n",
    "        nodata = band.GetNoDataValue()  # Lấy giá trị nodata\n",
    "        data = band.ReadAsArray().astype(np.float32)\n",
    "        ds = None\n",
    "        \n",
    "        # Kiểm tra kích thước\n",
    "        HEIGHT, WIDTH = 90, 250  # Giả định HEIGHT và WIDTH đã được định nghĩa\n",
    "        if data.shape != (HEIGHT, WIDTH):\n",
    "            print(f\"Invalid shape {data.shape} for file {file_path}, expected ({HEIGHT}, {WIDTH})\")\n",
    "            return None\n",
    "        \n",
    "        # Kiểm tra và xử lý giá trị nodata\n",
    "        if nodata is not None:\n",
    "            nodata_count = np.sum(data == nodata)\n",
    "            # if verbose:\n",
    "            #     print(f\"Number of missing values in {file_path}: {nodata_count}\")\n",
    "            \n",
    "            # Xử lý giá trị thiếu tùy theo loại dữ liệu\n",
    "            if data_type == \"Radar\":\n",
    "                data[data == nodata] = 0  # Điền bằng 0 cho lượng mưa\n",
    "            elif data_type == \"Hima\":\n",
    "                # Điền bằng giá trị trung bình\n",
    "                mask = data != nodata\n",
    "                if np.any(mask):\n",
    "                    mean_value = np.mean(data[mask])\n",
    "                    data[data == nodata] = mean_value\n",
    "            elif data_type == \"ERA5\":\n",
    "                # Điền bằng nội suy (giống như trước)\n",
    "                mask = data == nodata\n",
    "                if np.any(mask):\n",
    "                    points = np.array([(i, j) for i in range(data.shape[0]) for j in range(data.shape[1]) if not mask[i, j]])\n",
    "                    values = data[~mask]\n",
    "                    xi = np.array([(i, j) for i in range(data.shape[0]) for j in range(data.shape[1]) if mask[i, j]])\n",
    "                    interpolated_values = griddata(points, values, xi, method='nearest')\n",
    "                    for idx, (i, j) in enumerate(xi):\n",
    "                        data[xi[idx][0], xi[idx][1]] = interpolated_values[idx]\n",
    "        \n",
    "        return data\n",
    "    except Exception as e:\n",
    "        print(f\"Error reading {file_path}: {e}\")\n",
    "        return None"
   ]
  },
  {
   "cell_type": "code",
   "execution_count": 7,
   "metadata": {
    "execution": {
     "iopub.execute_input": "2025-04-30T11:12:25.948782Z",
     "iopub.status.busy": "2025-04-30T11:12:25.948488Z",
     "iopub.status.idle": "2025-04-30T11:12:25.973138Z",
     "shell.execute_reply": "2025-04-30T11:12:25.972161Z",
     "shell.execute_reply.started": "2025-04-30T11:12:25.948759Z"
    },
    "trusted": true
   },
   "outputs": [],
   "source": [
    "# Hàm phân tích thời gian từ tên file\n",
    "def parse_datetime_from_filename(filename, data_type):\n",
    "    try:\n",
    "        if data_type == \"Hima\":\n",
    "            parts = filename.split('_')\n",
    "            if len(parts) < 2:\n",
    "                return None\n",
    "            time_part = parts[1].split('_TB.tif')[0]\n",
    "            time_part = time_part.replace('.Z', '')\n",
    "            dt = datetime.strptime(time_part, '%Y%m%d%H%M')\n",
    "        elif data_type == \"ERA5\":\n",
    "            parts = filename.split('_')\n",
    "            if len(parts) < 2:\n",
    "                return None\n",
    "            time_part = parts[1].replace('.tif', '')\n",
    "            dt = datetime.strptime(time_part, '%Y%m%d%H%M%S')\n",
    "        elif data_type == \"Radar\":\n",
    "            time_part = filename.split('_')[1].replace('.tif', '')\n",
    "            dt = datetime.strptime(time_part, '%Y%m%d%H%M%S')\n",
    "        else:\n",
    "            return None\n",
    "        return dt.replace(minute=0, second=0, microsecond=0)\n",
    "    except Exception as e:\n",
    "        global error_count\n",
    "        if error_count < 5:\n",
    "            print(f\"Error parsing datetime from {filename} (type {data_type}): {e}\")\n",
    "            error_count += 1\n",
    "        return None"
   ]
  },
  {
   "cell_type": "code",
   "execution_count": 8,
   "metadata": {
    "execution": {
     "iopub.execute_input": "2025-04-30T11:12:25.974384Z",
     "iopub.status.busy": "2025-04-30T11:12:25.974075Z",
     "iopub.status.idle": "2025-04-30T11:12:25.998698Z",
     "shell.execute_reply": "2025-04-30T11:12:25.997694Z",
     "shell.execute_reply.started": "2025-04-30T11:12:25.974344Z"
    },
    "trusted": true
   },
   "outputs": [],
   "source": [
    "error_count = 0\n",
    "\n",
    "# Hàm thu thập file\n",
    "def collect_files(base_path, expected_subdirs=None, data_type=None):\n",
    "    files_dict = {}\n",
    "    file_count = 0\n",
    "    for root, dirs, files in os.walk(base_path):\n",
    "        for file in files:\n",
    "            if file.endswith('.tif'):\n",
    "                file_path = os.path.join(root, file)\n",
    "                dt = parse_datetime_from_filename(file, data_type)\n",
    "                if dt is None:\n",
    "                    continue\n",
    "                file_count += 1\n",
    "                if expected_subdirs:\n",
    "                    subdir = os.path.basename(os.path.dirname(os.path.dirname(os.path.dirname(os.path.dirname(file_path)))))\n",
    "                    if dt not in files_dict:\n",
    "                        files_dict[dt] = {}\n",
    "                    files_dict[dt][subdir] = file_path\n",
    "                else:\n",
    "                    files_dict[dt] = file_path\n",
    "    print(f\"Found {file_count} files in {base_path}\")\n",
    "    return files_dict"
   ]
  },
  {
   "cell_type": "code",
   "execution_count": 9,
   "metadata": {
    "execution": {
     "iopub.execute_input": "2025-04-30T11:12:26.000095Z",
     "iopub.status.busy": "2025-04-30T11:12:25.999781Z",
     "iopub.status.idle": "2025-04-30T11:12:26.024571Z",
     "shell.execute_reply": "2025-04-30T11:12:26.023296Z",
     "shell.execute_reply.started": "2025-04-30T11:12:26.000063Z"
    },
    "trusted": true
   },
   "outputs": [],
   "source": [
    "# Hàm xử lý dữ liệu thiếu và chuẩn hóa\n",
    "def preprocess_data(data, data_type):\n",
    "    if data is None:\n",
    "        return None\n",
    "    # Xử lý giá trị không hợp lệ\n",
    "    data = np.where(np.isinf(data) | np.isnan(data) | (data == -9999), 0, data)\n",
    "    if data_type == \"Radar\":\n",
    "        # Log transformation cho radar\n",
    "        data = np.log1p(np.maximum(data, 0))  # log(1 + x)\n",
    "    else:\n",
    "        # Min-max scaling cho Himawari và ERA5\n",
    "        data_min, data_max = np.min(data), np.max(data)\n",
    "        if data_max > data_min:\n",
    "            data = (data - data_min) / (data_max - data_min)\n",
    "        else:\n",
    "            data = np.zeros_like(data)\n",
    "    return data"
   ]
  },
  {
   "cell_type": "code",
   "execution_count": 10,
   "metadata": {
    "execution": {
     "iopub.execute_input": "2025-04-30T11:12:26.026074Z",
     "iopub.status.busy": "2025-04-30T11:12:26.025731Z",
     "iopub.status.idle": "2025-04-30T11:12:26.050019Z",
     "shell.execute_reply": "2025-04-30T11:12:26.048899Z",
     "shell.execute_reply.started": "2025-04-30T11:12:26.026044Z"
    },
    "trusted": true
   },
   "outputs": [],
   "source": [
    "# FocalLoss\n",
    "class FocalLoss(nn.Module):\n",
    "    def __init__(self, gamma=2.0, alpha=0.25):\n",
    "        super(FocalLoss, self).__init__()\n",
    "        self.gamma = gamma\n",
    "        self.alpha = alpha\n",
    "    def forward(self, y_pred, y_true):\n",
    "        mse_loss = nn.functional.mse_loss(y_pred, y_true, reduction='none')\n",
    "        pt = torch.exp(-mse_loss)\n",
    "        focal_loss = self.alpha * (1 - pt) ** self.gamma * mse_loss\n",
    "        return focal_loss.mean()"
   ]
  },
  {
   "cell_type": "code",
   "execution_count": 11,
   "metadata": {
    "execution": {
     "iopub.execute_input": "2025-04-30T11:12:26.051431Z",
     "iopub.status.busy": "2025-04-30T11:12:26.051089Z",
     "iopub.status.idle": "2025-04-30T11:12:26.074497Z",
     "shell.execute_reply": "2025-04-30T11:12:26.073174Z",
     "shell.execute_reply.started": "2025-04-30T11:12:26.051404Z"
    },
    "trusted": true
   },
   "outputs": [],
   "source": [
    "import os\n",
    "import numpy as np\n",
    "from datetime import timedelta\n",
    "\n",
    "def create_time_sequences(hima_files, era5_files, precip_files, common_datetimes, seq_len=3, max_gap_hours=3, batch_size=200):\n",
    "    # Tính giá trị trung bình để điền dữ liệu thiếu\n",
    "    hima_sums = {band: np.zeros((HEIGHT, WIDTH), dtype=np.float64) for band in SELECTED_HIMA_BANDS}\n",
    "    era5_sums = {param: np.zeros((HEIGHT, WIDTH), dtype=np.float64) for param in SELECTED_ERA5_PARAMS}\n",
    "    radar_sum = np.zeros((HEIGHT, WIDTH), dtype=np.float64)\n",
    "    hima_counts = {band: 0 for band in SELECTED_HIMA_BANDS}\n",
    "    era5_counts = {param: 0 for param in SELECTED_ERA5_PARAMS}\n",
    "    radar_count = 0\n",
    "    \n",
    "    for dt in common_datetimes:\n",
    "        for band in SELECTED_HIMA_BANDS:\n",
    "            file_path = hima_files.get(dt, {}).get(band)\n",
    "            if file_path:\n",
    "                data = read_geotiff(file_path)\n",
    "                if data is not None:\n",
    "                    hima_sums[band] += data\n",
    "                    hima_counts[band] += 1\n",
    "        for param in SELECTED_ERA5_PARAMS:\n",
    "            file_path = era5_files.get(dt, {}).get(param)\n",
    "            if file_path:\n",
    "                data = read_geotiff(file_path)\n",
    "                if data is not None:\n",
    "                    era5_sums[param] += data\n",
    "                    era5_counts[param] += 1\n",
    "        radar_file = precip_files.get(dt)\n",
    "        if radar_file:\n",
    "            data = read_geotiff(radar_file)\n",
    "            if data is not None:\n",
    "                radar_sum += data\n",
    "                radar_count += 1\n",
    "    \n",
    "    hima_means = {band: (sums / count if count > 0 else np.zeros((HEIGHT, WIDTH))) \n",
    "                  for band, sums, count in zip(SELECTED_HIMA_BANDS, hima_sums.values(), hima_counts.values())}\n",
    "    era5_means = {param: (sums / count if count > 0 else np.zeros((HEIGHT, WIDTH))) \n",
    "                  for param, sums, count in zip(SELECTED_ERA5_PARAMS, era5_sums.values(), era5_counts.values())}\n",
    "    radar_mean = radar_sum / radar_count if radar_count > 0 else np.zeros((HEIGHT, WIDTH))\n",
    "    \n",
    "    # Tạo thư mục lưu trữ\n",
    "    if not os.path.exists('sequences'):\n",
    "        os.makedirs('sequences')\n",
    "    \n",
    "    # Xử lý theo batch\n",
    "    total_samples = 0\n",
    "    for batch_start in range(seq_len-1, len(common_datetimes), batch_size):\n",
    "        batch_end = min(batch_start + batch_size, len(common_datetimes))\n",
    "        X_batch, y_batch = [], []\n",
    "        discontinuity_count = 0\n",
    "        \n",
    "        for i in range(batch_start, batch_end):\n",
    "            dt = common_datetimes[i]\n",
    "            sequence = []\n",
    "            valid_sequence = True\n",
    "            \n",
    "            for j in range(seq_len-1, -1, -1):\n",
    "                target_dt = dt - timedelta(hours=j)\n",
    "                dt_diffs = [(abs((target_dt - dt_i).total_seconds()), dt_i) for dt_i in common_datetimes]\n",
    "                dt_diffs.sort()\n",
    "                closest_dt, closest_dt_diff = dt_diffs[0][1], dt_diffs[0][0] / 3600\n",
    "                \n",
    "                if closest_dt_diff > max_gap_hours:\n",
    "                    valid_sequence = False\n",
    "                    discontinuity_count += 1\n",
    "                    break\n",
    "                \n",
    "                hima_data = []\n",
    "                for band in SELECTED_HIMA_BANDS:\n",
    "                    file_path = hima_files.get(closest_dt, {}).get(band)\n",
    "                    if not file_path:\n",
    "                        data = hima_means[band]\n",
    "                    else:\n",
    "                        data = read_geotiff(file_path)\n",
    "                        data = preprocess_data(data, \"Hima\")\n",
    "                        if data is None:\n",
    "                            data = hima_means[band]\n",
    "                    hima_data.append(data)\n",
    "                hima_data = np.stack(hima_data, axis=-1)\n",
    "                \n",
    "                era5_data = []\n",
    "                for param in SELECTED_ERA5_PARAMS:\n",
    "                    file_path = era5_files.get(closest_dt, {}).get(param)\n",
    "                    if not file_path:\n",
    "                        data = era5_means[param]\n",
    "                    else:\n",
    "                        data = read_geotiff(file_path)\n",
    "                        data = preprocess_data(data, \"ERA5\")\n",
    "                        if data is None:\n",
    "                            data = era5_means[param]\n",
    "                    era5_data.append(data)\n",
    "                era5_data = np.stack(era5_data, axis=-1)\n",
    "                \n",
    "                combined = np.concatenate([hima_data, era5_data], axis=-1)\n",
    "                sequence.append(combined)\n",
    "            \n",
    "            if not valid_sequence:\n",
    "                continue\n",
    "            \n",
    "            radar_file = precip_files.get(dt)\n",
    "            if not radar_file:\n",
    "                radar_data = radar_mean\n",
    "            else:\n",
    "                radar_data = read_geotiff(radar_file)\n",
    "                radar_data = preprocess_data(radar_data, \"Radar\")\n",
    "                if radar_data is None:\n",
    "                    radar_data = radar_mean\n",
    "            \n",
    "            sequence = np.stack(sequence, axis=0)\n",
    "            X_batch.append(sequence)\n",
    "            y_batch.append(radar_data)\n",
    "        \n",
    "        # Lưu batch xuống đĩa với nén\n",
    "        X_batch = np.array(X_batch)\n",
    "        y_batch = np.array(y_batch)\n",
    "        X_batch = X_batch.transpose(0, 1, 4, 2, 3)  # (samples, seq_len, channels, height, width)\n",
    "        batch_idx = batch_start // batch_size\n",
    "        np.savez_compressed(f'sequences/X_batch_{batch_idx}.npz', X_batch)\n",
    "        np.savez_compressed(f'sequences/y_batch_{batch_idx}.npz', y_batch)\n",
    "        total_samples += X_batch.shape[0]\n",
    "        print(f\"Saved batch {batch_idx}, samples: {X_batch.shape[0]}\")\n",
    "    \n",
    "    print(f\"Total samples: {total_samples}\")\n",
    "    return total_samples"
   ]
  },
  {
   "cell_type": "code",
   "execution_count": 12,
   "metadata": {
    "execution": {
     "iopub.execute_input": "2025-04-30T11:12:26.077098Z",
     "iopub.status.busy": "2025-04-30T11:12:26.075928Z",
     "iopub.status.idle": "2025-04-30T11:12:26.106291Z",
     "shell.execute_reply": "2025-04-30T11:12:26.104901Z",
     "shell.execute_reply.started": "2025-04-30T11:12:26.077068Z"
    },
    "trusted": true
   },
   "outputs": [],
   "source": [
    "# Định nghĩa lớp ConvLSTMCell tùy chỉnh\n",
    "class ConvLSTMCell(nn.Module):\n",
    "    def __init__(self, in_channels, out_channels, kernel_size, padding):\n",
    "        super(ConvLSTMCell, self).__init__()\n",
    "        self.out_channels = out_channels\n",
    "        self.conv = nn.Conv2d(\n",
    "            in_channels + out_channels, 4 * out_channels, kernel_size,\n",
    "            padding=padding, bias=True\n",
    "        )\n",
    "\n",
    "    def forward(self, x, h_prev, c_prev):\n",
    "        # x: (batch, in_channels, height, width)\n",
    "        # h_prev, c_prev: (batch, out_channels, height, width)\n",
    "        combined = torch.cat([x, h_prev], dim=1)  # (batch, in_channels + out_channels, height, width)\n",
    "        conv_out = self.conv(combined)  # (batch, 4 * out_channels, height, width)\n",
    "        i, f, o, g = torch.chunk(conv_out, 4, dim=1)  # Mỗi cái: (batch, out_channels, height, width)\n",
    "        i = torch.sigmoid(i)\n",
    "        f = torch.sigmoid(f)\n",
    "        o = torch.sigmoid(o)\n",
    "        g = torch.tanh(g)\n",
    "        c_next = f * c_prev + i * g\n",
    "        h_next = o * torch.tanh(c_next)\n",
    "        return h_next, c_next"
   ]
  },
  {
   "cell_type": "code",
   "execution_count": 13,
   "metadata": {
    "execution": {
     "iopub.execute_input": "2025-04-30T11:12:26.108339Z",
     "iopub.status.busy": "2025-04-30T11:12:26.107947Z",
     "iopub.status.idle": "2025-04-30T11:12:26.132088Z",
     "shell.execute_reply": "2025-04-30T11:12:26.131130Z",
     "shell.execute_reply.started": "2025-04-30T11:12:26.108314Z"
    },
    "trusted": true
   },
   "outputs": [],
   "source": [
    "# Định nghĩa lớp ConvLSTM2d\n",
    "class ConvLSTM2d(nn.Module):\n",
    "    def __init__(self, in_channels, out_channels, kernel_size, padding):\n",
    "        super(ConvLSTM2d, self).__init__()\n",
    "        self.cell = ConvLSTMCell(in_channels, out_channels, kernel_size, padding)\n",
    "\n",
    "    def forward(self, x):\n",
    "        # Kiểm tra số chiều của đầu vào\n",
    "        if len(x.size()) == 5:\n",
    "            # x: (batch, seq_len, channels, height, width)\n",
    "            batch, seq_len, channels, height, width = x.size()\n",
    "            is_sequence = True\n",
    "        elif len(x.size()) == 4:\n",
    "            # x: (batch, channels, height, width)\n",
    "            batch, channels, height, width = x.size()\n",
    "            seq_len = 1\n",
    "            x = x.unsqueeze(1)  # Thêm chiều seq_len: (batch, 1, channels, height, width)\n",
    "            is_sequence = False\n",
    "        else:\n",
    "            raise ValueError(f\"Expected 4 or 5 dimensions, got {len(x.size())}\")\n",
    "\n",
    "        out_channels = self.cell.out_channels\n",
    "        h = torch.zeros(batch, out_channels, height, width, device=x.device)\n",
    "        c = torch.zeros(batch, out_channels, height, width, device=x.device)\n",
    "        outputs = []\n",
    "        for t in range(seq_len):\n",
    "            x_t = x[:, t, :, :, :]  # (batch, channels, height, width)\n",
    "            h, c = self.cell(x_t, h, c)\n",
    "            outputs.append(h)\n",
    "        output = outputs[-1] if is_sequence else h\n",
    "        return output, (h, c)  # Trả về output cuối và trạng thái"
   ]
  },
  {
   "cell_type": "code",
   "execution_count": 14,
   "metadata": {
    "execution": {
     "iopub.execute_input": "2025-04-30T11:12:26.135755Z",
     "iopub.status.busy": "2025-04-30T11:12:26.135364Z",
     "iopub.status.idle": "2025-04-30T11:12:26.158994Z",
     "shell.execute_reply": "2025-04-30T11:12:26.157970Z",
     "shell.execute_reply.started": "2025-04-30T11:12:26.135721Z"
    },
    "trusted": true
   },
   "outputs": [],
   "source": [
    "import torch\n",
    "import torch.optim as optim\n",
    "\n",
    "def train_model(model, train_loader, val_loader, output_path, epochs=30, patience=7, lr=0.0001):\n",
    "    criterion = FocalLoss(gamma=2.0, alpha=0.25)\n",
    "    optimizer = optim.Adam(model.parameters(), lr=lr)\n",
    "    best_loss = float('inf')\n",
    "    patience_counter = 0\n",
    "    best_model_state = None\n",
    "\n",
    "    for epoch in range(epochs):\n",
    "        model.train()\n",
    "        train_loss = 0\n",
    "        total_train_samples = 0\n",
    "        for batch_idx, (X_batch, y_batch) in enumerate(train_loader):\n",
    "            X_batch, y_batch = X_batch.to(device), y_batch.to(device)\n",
    "            optimizer.zero_grad()\n",
    "            output = model(X_batch)\n",
    "            loss = criterion(output, y_batch)\n",
    "            loss.backward()\n",
    "            optimizer.step()\n",
    "            train_loss += loss.item() * X_batch.size(0)\n",
    "            total_train_samples += X_batch.size(0)\n",
    "            if batch_idx % 10 == 0:  # In thông tin mỗi 10 batch\n",
    "                print(f\"Epoch {epoch+1}/{epochs}, Batch {batch_idx}, Batch size: {X_batch.size(0)}, Loss: {loss.item():.4f}\")\n",
    "        train_loss /= total_train_samples\n",
    "\n",
    "        model.eval()\n",
    "        val_loss = 0\n",
    "        total_val_samples = 0\n",
    "        with torch.no_grad():\n",
    "            for X_batch, y_batch in val_loader:\n",
    "                X_batch, y_batch = X_batch.to(device), y_batch.to(device)\n",
    "                output = model(X_batch)\n",
    "                loss = criterion(output, y_batch)\n",
    "                val_loss += loss.item() * X_batch.size(0)\n",
    "                total_val_samples += X_batch.size(0)\n",
    "            val_loss /= total_val_samples\n",
    "\n",
    "        print(f\"Epoch {epoch+1}/{epochs}, Train Loss: {train_loss:.4f}, Val Loss: {val_loss:.4f}\")\n",
    "\n",
    "        if val_loss < best_loss:\n",
    "            best_loss = val_loss\n",
    "            best_model_state = model.state_dict()\n",
    "            # Lưu mô hình tốt nhất\n",
    "            torch.save(best_model_state, os.path.join(output_path, \"best_convlstm_model.pth\"))\n",
    "            print(f\"Saved best model at epoch {epoch+1} with Val Loss: {best_loss:.4f}\")\n",
    "            patience_counter = 0\n",
    "        else:\n",
    "            patience_counter += 1\n",
    "            if patience_counter >= patience:\n",
    "                print(\"Early stopping\")\n",
    "                break\n",
    "\n",
    "    model.load_state_dict(best_model_state)\n",
    "    return model"
   ]
  },
  {
   "cell_type": "code",
   "execution_count": 15,
   "metadata": {
    "execution": {
     "iopub.execute_input": "2025-04-30T11:12:26.160313Z",
     "iopub.status.busy": "2025-04-30T11:12:26.159970Z",
     "iopub.status.idle": "2025-04-30T11:12:26.178754Z",
     "shell.execute_reply": "2025-04-30T11:12:26.177715Z",
     "shell.execute_reply.started": "2025-04-30T11:12:26.160289Z"
    },
    "trusted": true
   },
   "outputs": [],
   "source": [
    "# Định nghĩa mô hình ConvLSTM\n",
    "class ConvLSTMModel(nn.Module):\n",
    "    def __init__(self):\n",
    "        super(ConvLSTMModel, self).__init__()\n",
    "        self.convlstm1 = ConvLSTM2d(in_channels=IN_CHANNEL, out_channels=64, kernel_size=(5, 5), padding=(2, 2))\n",
    "        self.bn1 = nn.BatchNorm2d(64)\n",
    "        self.convlstm2 = ConvLSTM2d(in_channels=64, out_channels=32, kernel_size=(5, 5), padding=(2, 2))\n",
    "        self.bn2 = nn.BatchNorm2d(32)\n",
    "        self.dropout = nn.Dropout(0.2)\n",
    "        self.conv = nn.Conv2d(in_channels=32, out_channels=1, kernel_size=(3, 3), padding=(1, 1))\n",
    "        self.relu = nn.ReLU()\n",
    "\n",
    "    def forward(self, x):\n",
    "        # x: (batch, seq_len=5, channels=34, height=90, width=250)\n",
    "        #print(f\"Input shape: {x.shape}\")\n",
    "        x, _ = self.convlstm1(x)  # (batch, 64, height, width)\n",
    "        x = self.bn1(x)\n",
    "        #print(f\"After convlstm1: {x.shape}\")\n",
    "        x, _ = self.convlstm2(x)  # (batch, 32, height, width)\n",
    "        x = self.bn2(x)\n",
    "        x = self.dropout(x)\n",
    "        x = self.conv(x)  # (batch, 1, height, width)\n",
    "        x = self.relu(x)\n",
    "        return x.squeeze(1)  # (batch, height, width)"
   ]
  },
  {
   "cell_type": "code",
   "execution_count": 16,
   "metadata": {
    "execution": {
     "iopub.execute_input": "2025-04-30T11:12:26.180314Z",
     "iopub.status.busy": "2025-04-30T11:12:26.180008Z",
     "iopub.status.idle": "2025-04-30T11:12:26.209012Z",
     "shell.execute_reply": "2025-04-30T11:12:26.207699Z",
     "shell.execute_reply.started": "2025-04-30T11:12:26.180290Z"
    },
    "trusted": true
   },
   "outputs": [],
   "source": [
    "import torch\n",
    "from torch.utils.data import Dataset, DataLoader\n",
    "\n",
    "class SequenceDataset(Dataset):\n",
    "    def __init__(self, total_samples, batch_size=200):\n",
    "        self.total_samples = total_samples\n",
    "        self.batch_size = batch_size\n",
    "        self.num_batches = (total_samples + batch_size - 1) // batch_size\n",
    "        self.batch_sizes = []\n",
    "        for batch_idx in range(self.num_batches):\n",
    "            batch_start = batch_idx * batch_size\n",
    "            batch_end = min(batch_start + batch_size, total_samples)\n",
    "            self.batch_sizes.append(batch_end - batch_start)\n",
    "            print(f\"Batch {batch_idx}: {self.batch_sizes[-1]} sequences\")\n",
    "\n",
    "    def __len__(self):\n",
    "        return self.total_samples\n",
    "\n",
    "    def __getitem__(self, idx):\n",
    "        if idx >= self.total_samples:\n",
    "            raise IndexError(f\"Index {idx} out of range (total samples: {self.total_samples})\")\n",
    "        batch_idx = idx // self.batch_size\n",
    "        within_batch_idx = idx % self.batch_size\n",
    "        if within_batch_idx >= self.batch_sizes[batch_idx]:\n",
    "            raise IndexError(f\"Within batch index {within_batch_idx} exceeds batch size {self.batch_sizes[batch_idx]} for batch {batch_idx}\")\n",
    "        X_batch = np.load(f'sequences/X_batch_{batch_idx}.npz')['arr_0']\n",
    "        y_batch = np.load(f'sequences/y_batch_{batch_idx}.npz')['arr_0']\n",
    "        X_sample = X_batch[within_batch_idx]\n",
    "        y_sample = y_batch[within_batch_idx]\n",
    "        return torch.tensor(X_sample, dtype=torch.float32), torch.tensor(y_sample, dtype=torch.float32)\n",
    "\n",
    "def create_dataloaders(total_samples, batch_size=2, train_ratio=0.7, val_ratio=0.15):\n",
    "    dataset = SequenceDataset(total_samples, batch_size=200)\n",
    "    train_size = int(train_ratio * len(dataset))\n",
    "    val_size = int(val_ratio * len(dataset))\n",
    "    test_size = len(dataset) - train_size - val_size\n",
    "    train_dataset, val_dataset, test_dataset = torch.utils.data.random_split(dataset, [train_size, val_size, test_size])\n",
    "    train_loader = DataLoader(train_dataset, batch_size=batch_size, shuffle=True)\n",
    "    val_loader = DataLoader(val_dataset, batch_size=batch_size, shuffle=False)\n",
    "    test_loader = DataLoader(test_dataset, batch_size=batch_size, shuffle=False)\n",
    "    return train_loader, val_loader, test_loader"
   ]
  },
  {
   "cell_type": "code",
   "execution_count": 17,
   "metadata": {
    "execution": {
     "iopub.execute_input": "2025-04-30T11:12:26.210501Z",
     "iopub.status.busy": "2025-04-30T11:12:26.210222Z",
     "iopub.status.idle": "2025-04-30T11:12:26.239331Z",
     "shell.execute_reply": "2025-04-30T11:12:26.238411Z",
     "shell.execute_reply.started": "2025-04-30T11:12:26.210469Z"
    },
    "trusted": true
   },
   "outputs": [],
   "source": [
    "# Hàm tính chỉ số đánh giá\n",
    "def evaluate_model(y_true, y_pred, threshold=0.0):\n",
    "    y_true = y_true.reshape(-1)\n",
    "    y_pred = y_pred.reshape(-1)\n",
    "    rmse = np.sqrt(mean_squared_error(y_true, y_pred))\n",
    "    corr = np.corrcoef(y_true, y_pred)[0, 1] if np.std(y_true) > 0 and np.std(y_pred) > 0 else 0\n",
    "\n",
    "    y_true_bin = (y_true > threshold).astype(int)\n",
    "    y_pred_bin = (y_pred > threshold).astype(int)\n",
    "    hits = np.sum((y_true_bin == 1) & (y_pred_bin == 1))\n",
    "    misses = np.sum((y_true_bin == 1) & (y_pred_bin == 0))\n",
    "    false_alarms = np.sum((y_true_bin == 0) & (y_pred_bin == 1))\n",
    "    true_negatives = np.sum((y_true_bin == 0) & (y_pred_bin == 0))\n",
    "    total = hits + misses + false_alarms + true_negatives\n",
    "\n",
    "    accuracy = (hits + true_negatives) / total if total > 0 else 0\n",
    "    csi = hits / (hits + misses + false_alarms) if (hits + misses + false_alarms) > 0 else 0\n",
    "    far = false_alarms / (hits + false_alarms) if (hits + false_alarms) > 0 else 0\n",
    "    hss = (2 * (hits * true_negatives - misses * false_alarms)) / \\\n",
    "          ((hits + misses) * (misses + true_negatives) + (hits + false_alarms) * (false_alarms + true_negatives)) \\\n",
    "          if ((hits + misses) * (misses + true_negatives) + (hits + false_alarms) * (false_alarms + true_negatives)) > 0 else 0\n",
    "    ets = ((hits - ((hits + misses) * (hits + false_alarms) / total)) / \\\n",
    "           (hits + misses + false_alarms - ((hits + misses) * (hits + false_alarms) / total))) \\\n",
    "          if (hits + misses + false_alarms - ((hits + misses) * (hits + false_alarms) / total)) > 0 else 0\n",
    "\n",
    "    return {'rmse': rmse, 'corr': corr, 'accuracy': accuracy, 'csi': csi, 'far': far, 'hss': hss, 'ets': ets}"
   ]
  },
  {
   "cell_type": "code",
   "execution_count": 18,
   "metadata": {
    "execution": {
     "iopub.execute_input": "2025-04-30T11:12:26.240568Z",
     "iopub.status.busy": "2025-04-30T11:12:26.240292Z",
     "iopub.status.idle": "2025-04-30T11:12:26.261969Z",
     "shell.execute_reply": "2025-04-30T11:12:26.260938Z",
     "shell.execute_reply.started": "2025-04-30T11:12:26.240545Z"
    },
    "trusted": true
   },
   "outputs": [],
   "source": [
    "# Hàm vẽ scatter plot\n",
    "def plot_scatter(y_true, y_pred, output_path):\n",
    "    plt.figure(figsize=(8, 6))\n",
    "    plt.scatter(y_true.flatten(), y_pred.flatten(), alpha=0.5)\n",
    "    plt.plot([y_true.min(), y_true.max()], [y_true.min(), y_true.max()], 'r--')\n",
    "    plt.xlabel('Ground Truth (mm/h)')\n",
    "    plt.ylabel('Predicted (mm/h)')\n",
    "    plt.title('Scatter Plot: Predicted vs Ground Truth')\n",
    "    plt.savefig(output_path)\n",
    "    plt.close()"
   ]
  },
  {
   "cell_type": "code",
   "execution_count": 19,
   "metadata": {
    "execution": {
     "iopub.execute_input": "2025-04-30T11:12:26.263395Z",
     "iopub.status.busy": "2025-04-30T11:12:26.262983Z",
     "iopub.status.idle": "2025-04-30T11:12:26.289490Z",
     "shell.execute_reply": "2025-04-30T11:12:26.288190Z",
     "shell.execute_reply.started": "2025-04-30T11:12:26.263363Z"
    },
    "trusted": true
   },
   "outputs": [],
   "source": [
    "# Hàm hiển thị bản đồ\n",
    "def plot_rainfall_map(y_true, y_pred, output_path):\n",
    "    fig, (ax1, ax2) = plt.subplots(1, 2, figsize=(12, 5), subplot_kw={'projection': ccrs.PlateCarree()})\n",
    "    ax1.set_title('Ground Truth')\n",
    "    ax2.set_title('Prediction')\n",
    "    for ax, data in [(ax1, y_true), (ax2, y_pred)]:\n",
    "        ax.coastlines()\n",
    "        ax.add_feature(cfeature.BORDERS)\n",
    "        im = ax.imshow(data, cmap='Blues', origin='upper', transform=ccrs.PlateCarree())\n",
    "        plt.colorbar(im, ax=ax, label='Rainfall (mm/h)')\n",
    "    plt.savefig(output_path)\n",
    "    plt.close()"
   ]
  },
  {
   "cell_type": "code",
   "execution_count": 20,
   "metadata": {
    "execution": {
     "iopub.execute_input": "2025-04-30T11:12:26.291001Z",
     "iopub.status.busy": "2025-04-30T11:12:26.290715Z",
     "iopub.status.idle": "2025-04-30T11:12:26.311328Z",
     "shell.execute_reply": "2025-04-30T11:12:26.310100Z",
     "shell.execute_reply.started": "2025-04-30T11:12:26.290980Z"
    },
    "trusted": true
   },
   "outputs": [],
   "source": [
    "# Hàm lưu GeoTIFF\n",
    "def save_geotiff(data, output_path, reference_file):\n",
    "    ds = gdal.Open(reference_file)\n",
    "    driver = gdal.GetDriverByName('GTiff')\n",
    "    out_ds = driver.Create(output_path, WIDTH, HEIGHT, 1, gdal.GDT_Float32)\n",
    "    out_ds.SetGeoTransform(ds.GetGeoTransform())\n",
    "    out_ds.SetProjection(ds.GetProjection())\n",
    "    out_band = out_ds.GetRasterBand(1)\n",
    "    out_band.WriteArray(data)\n",
    "    out_band.FlushCache()\n",
    "    out_ds = None\n",
    "    ds = None"
   ]
  },
  {
   "cell_type": "code",
   "execution_count": 21,
   "metadata": {
    "execution": {
     "iopub.execute_input": "2025-04-30T11:12:26.313206Z",
     "iopub.status.busy": "2025-04-30T11:12:26.312564Z",
     "iopub.status.idle": "2025-04-30T11:12:26.333600Z",
     "shell.execute_reply": "2025-04-30T11:12:26.331964Z",
     "shell.execute_reply.started": "2025-04-30T11:12:26.313172Z"
    },
    "trusted": true
   },
   "outputs": [
    {
     "name": "stdout",
     "output_type": "stream",
     "text": [
      "Clearing /kaggle/working directory...\n",
      "Cleared /kaggle/working directory.\n"
     ]
    }
   ],
   "source": [
    "import shutil\n",
    "\n",
    "# Xóa toàn bộ nội dung trong /kaggle/working\n",
    "print(\"Clearing /kaggle/working directory...\")\n",
    "for item in os.listdir('/kaggle/working'):\n",
    "    item_path = os.path.join('/kaggle/working', item)\n",
    "    if os.path.isdir(item_path):\n",
    "        shutil.rmtree(item_path)\n",
    "    else:\n",
    "        os.remove(item_path)\n",
    "print(\"Cleared /kaggle/working directory.\")"
   ]
  },
  {
   "cell_type": "code",
   "execution_count": 22,
   "metadata": {
    "execution": {
     "iopub.execute_input": "2025-04-30T11:12:26.335242Z",
     "iopub.status.busy": "2025-04-30T11:12:26.334972Z",
     "iopub.status.idle": "2025-04-30T11:13:00.878218Z",
     "shell.execute_reply": "2025-04-30T11:13:00.877270Z",
     "shell.execute_reply.started": "2025-04-30T11:12:26.335222Z"
    },
    "trusted": true
   },
   "outputs": [
    {
     "name": "stdout",
     "output_type": "stream",
     "text": [
      "Collecting Himawari files...\n",
      "Found 2777 files in /kaggle/input/btl-ai/DATA_SV/Hima/B09B\n",
      "Found 2777 files in /kaggle/input/btl-ai/DATA_SV/Hima/B10B\n",
      "Found 2777 files in /kaggle/input/btl-ai/DATA_SV/Hima/B11B\n",
      "Found 2777 files in /kaggle/input/btl-ai/DATA_SV/Hima/B12B\n",
      "Found 2776 files in /kaggle/input/btl-ai/DATA_SV/Hima/B14B\n",
      "Found 2776 files in /kaggle/input/btl-ai/DATA_SV/Hima/B16B\n",
      "Found 2776 files in /kaggle/input/btl-ai/DATA_SV/Hima/I2B\n",
      "Found 2776 files in /kaggle/input/btl-ai/DATA_SV/Hima/IRB\n",
      "Found 2774 files in /kaggle/input/btl-ai/DATA_SV/Hima/WVB\n",
      "Found 2673 files in /kaggle/input/btl-ai/DATA_SV/Hima/I4B\n"
     ]
    }
   ],
   "source": [
    "# Bắt đầu chương trình\n",
    "print(\"Collecting Himawari files...\")\n",
    "hima_files = {}\n",
    "for band in SELECTED_HIMA_BANDS:\n",
    "    band_path = os.path.join(HIMA_PATH, band)\n",
    "    if not os.path.exists(band_path):\n",
    "        print(f\"Directory not found: {band_path}\")\n",
    "        continue\n",
    "    band_files = collect_files(band_path, expected_subdirs=SELECTED_HIMA_BANDS, data_type=\"Hima\")\n",
    "    for dt, paths in band_files.items():\n",
    "        if dt not in hima_files:\n",
    "            hima_files[dt] = {}\n",
    "        hima_files[dt][band] = paths[band]"
   ]
  },
  {
   "cell_type": "code",
   "execution_count": 23,
   "metadata": {
    "execution": {
     "iopub.execute_input": "2025-04-30T11:13:00.879607Z",
     "iopub.status.busy": "2025-04-30T11:13:00.879263Z",
     "iopub.status.idle": "2025-04-30T11:14:25.663578Z",
     "shell.execute_reply": "2025-04-30T11:14:25.662678Z",
     "shell.execute_reply.started": "2025-04-30T11:13:00.879579Z"
    },
    "trusted": true
   },
   "outputs": [
    {
     "name": "stdout",
     "output_type": "stream",
     "text": [
      "Collecting ERA5 files...\n",
      "Found 2928 files in /kaggle/input/btl-ai/DATA_SV/ERA5/CAPE\n",
      "Found 2928 files in /kaggle/input/btl-ai/DATA_SV/ERA5/CIN\n",
      "Found 2928 files in /kaggle/input/btl-ai/DATA_SV/ERA5/EWSS\n",
      "Found 2928 files in /kaggle/input/btl-ai/DATA_SV/ERA5/IE\n",
      "Found 2928 files in /kaggle/input/btl-ai/DATA_SV/ERA5/ISOR\n",
      "Found 2928 files in /kaggle/input/btl-ai/DATA_SV/ERA5/KX\n",
      "Found 2928 files in /kaggle/input/btl-ai/DATA_SV/ERA5/PEV\n",
      "Found 2928 files in /kaggle/input/btl-ai/DATA_SV/ERA5/R250\n",
      "Found 2928 files in /kaggle/input/btl-ai/DATA_SV/ERA5/R500\n",
      "Found 2928 files in /kaggle/input/btl-ai/DATA_SV/ERA5/R850\n",
      "Found 2928 files in /kaggle/input/btl-ai/DATA_SV/ERA5/SLHF\n",
      "Found 2928 files in /kaggle/input/btl-ai/DATA_SV/ERA5/SLOR\n",
      "Found 2928 files in /kaggle/input/btl-ai/DATA_SV/ERA5/SSHF\n",
      "Found 2928 files in /kaggle/input/btl-ai/DATA_SV/ERA5/TCLW\n",
      "Found 2928 files in /kaggle/input/btl-ai/DATA_SV/ERA5/TCW\n",
      "Found 2928 files in /kaggle/input/btl-ai/DATA_SV/ERA5/TCWV\n",
      "Found 2928 files in /kaggle/input/btl-ai/DATA_SV/ERA5/U250\n",
      "Found 2928 files in /kaggle/input/btl-ai/DATA_SV/ERA5/U850\n",
      "Found 2928 files in /kaggle/input/btl-ai/DATA_SV/ERA5/V250\n",
      "Found 2928 files in /kaggle/input/btl-ai/DATA_SV/ERA5/V850\n"
     ]
    }
   ],
   "source": [
    "print(\"Collecting ERA5 files...\")\n",
    "era5_files = {}\n",
    "for param in SELECTED_ERA5_PARAMS:\n",
    "    param_path = os.path.join(ERA5_PATH, param)\n",
    "    if not os.path.exists(param_path):\n",
    "        print(f\"Directory not found: {param_path}\")\n",
    "        continue\n",
    "    param_files = collect_files(param_path, expected_subdirs=SELECTED_ERA5_PARAMS, data_type=\"ERA5\")\n",
    "    for dt, paths in param_files.items():\n",
    "        if dt not in era5_files:\n",
    "            era5_files[dt] = {}\n",
    "        era5_files[dt][param] = paths[param]"
   ]
  },
  {
   "cell_type": "code",
   "execution_count": 24,
   "metadata": {
    "execution": {
     "iopub.execute_input": "2025-04-30T11:14:25.664873Z",
     "iopub.status.busy": "2025-04-30T11:14:25.664542Z",
     "iopub.status.idle": "2025-04-30T11:14:28.128230Z",
     "shell.execute_reply": "2025-04-30T11:14:28.127332Z",
     "shell.execute_reply.started": "2025-04-30T11:14:25.664844Z"
    },
    "trusted": true
   },
   "outputs": [
    {
     "name": "stdout",
     "output_type": "stream",
     "text": [
      "Collecting Precipitation files...\n",
      "Found 2487 files in /kaggle/input/btl-ai/DATA_SV/Precipitation/Radar\n"
     ]
    }
   ],
   "source": [
    "print(\"Collecting Precipitation files...\")\n",
    "precip_files = collect_files(PRECIP_PATH, data_type=\"Radar\")"
   ]
  },
  {
   "cell_type": "code",
   "execution_count": 25,
   "metadata": {
    "execution": {
     "iopub.execute_input": "2025-04-30T11:14:28.129380Z",
     "iopub.status.busy": "2025-04-30T11:14:28.129131Z",
     "iopub.status.idle": "2025-04-30T11:14:28.137009Z",
     "shell.execute_reply": "2025-04-30T11:14:28.136032Z",
     "shell.execute_reply.started": "2025-04-30T11:14:28.129361Z"
    },
    "trusted": true
   },
   "outputs": [
    {
     "name": "stdout",
     "output_type": "stream",
     "text": [
      "Số thời điểm đồng bộ: 2337\n"
     ]
    }
   ],
   "source": [
    "# Đồng bộ thời gian\n",
    "common_datetimes = set(hima_files.keys()) & set(era5_files.keys()) & set(precip_files.keys())\n",
    "common_datetimes = sorted(list(common_datetimes))\n",
    "print(f\"Số thời điểm đồng bộ: {len(common_datetimes)}\")"
   ]
  },
  {
   "cell_type": "code",
   "execution_count": 26,
   "metadata": {
    "execution": {
     "iopub.execute_input": "2025-04-30T11:14:28.138085Z",
     "iopub.status.busy": "2025-04-30T11:14:28.137848Z",
     "iopub.status.idle": "2025-04-30T11:14:28.154800Z",
     "shell.execute_reply": "2025-04-30T11:14:28.153856Z",
     "shell.execute_reply.started": "2025-04-30T11:14:28.138066Z"
    },
    "trusted": true
   },
   "outputs": [],
   "source": [
    "# # Kiểm tra dữ liệu thiếu\n",
    "# hima_missing = {band: 0 for band in SELECTED_HIMA_BANDS}\n",
    "# era5_missing = {param: 0 for param in ERA5_PARAMS}\n",
    "# for dt in common_datetimes:\n",
    "#     for band in SELECTED_HIMA_BANDS:\n",
    "#         if not hima_files.get(dt, {}).get(band):\n",
    "#             hima_missing[band] += 1\n",
    "#     for param in ERA5_PARAMS:\n",
    "#         if not era5_files.get(dt, {}).get(param):\n",
    "#             era5_missing[param] += 1\n",
    "# print(\"Himawari missing counts:\")\n",
    "# for band, count in hima_missing.items():\n",
    "#     print(f\"{band}: {count}/{len(common_datetimes)} ({count/len(common_datetimes)*100:.2f}%)\")\n",
    "# print(\"ERA5 missing counts:\")\n",
    "# for param, count in era5_missing.items():\n",
    "#     print(f\"{param}: {count}/{len(common_datetimes)} ({count/len(common_datetimes)*100:.2f}%)\")"
   ]
  },
  {
   "cell_type": "code",
   "execution_count": 27,
   "metadata": {
    "execution": {
     "iopub.execute_input": "2025-04-30T11:14:28.156278Z",
     "iopub.status.busy": "2025-04-30T11:14:28.155970Z",
     "iopub.status.idle": "2025-04-30T11:14:28.182082Z",
     "shell.execute_reply": "2025-04-30T11:14:28.180612Z",
     "shell.execute_reply.started": "2025-04-30T11:14:28.156253Z"
    },
    "trusted": true
   },
   "outputs": [],
   "source": [
    "# radar_missing = 0\n",
    "# for dt in common_datetimes:\n",
    "#     if not precip_files.get(dt):\n",
    "#         ra0dar_missing += 1\n",
    "# print(f\"Radar missing counts: {radar_missing}/{len(common_datetimes)} ({radar_missing/len(common_datetimes)*100:.2f}%)\")"
   ]
  },
  {
   "cell_type": "code",
   "execution_count": 28,
   "metadata": {
    "execution": {
     "iopub.execute_input": "2025-04-30T11:14:28.183653Z",
     "iopub.status.busy": "2025-04-30T11:14:28.183213Z",
     "iopub.status.idle": "2025-04-30T11:14:55.550901Z",
     "shell.execute_reply": "2025-04-30T11:14:55.549900Z",
     "shell.execute_reply.started": "2025-04-30T11:14:28.183598Z"
    },
    "trusted": true
   },
   "outputs": [
    {
     "name": "stdout",
     "output_type": "stream",
     "text": [
      "Percentage of pixels with rain: 5.98%\n",
      "Percentage of pixels without rain: 94.02%\n",
      "Min rain value: 0.01\n",
      "Max rain value: 260.00\n",
      "Mean rain value (when rain > 0): 2.03\n",
      "Median rain value (when rain > 0): 0.43\n"
     ]
    },
    {
     "data": {
      "image/png": "[encoded data removed]",
      "text/plain": [
       "<Figure size 1000x500 with 1 Axes>"
      ]
     },
     "metadata": {},
     "output_type": "display_data"
    },
    {
     "data": {
      "image/png": "[encoded data removed]",
      "text/plain": [
       "<Figure size 1000x500 with 2 Axes>"
      ]
     },
     "metadata": {},
     "output_type": "display_data"
    }
   ],
   "source": [
    "# Phân tích dữ liệu lượng mưa\n",
    "total_pixels = 0\n",
    "rain_pixels = 0\n",
    "rain_values = []\n",
    "spatial_rain_sum = np.zeros((90, 250))  # Tổng lượng mưa theo không gian\n",
    "\n",
    "for dt in common_datetimes:\n",
    "    radar_file = precip_files.get(dt)\n",
    "    if radar_file:\n",
    "        radar_data = read_geotiff(radar_file, data_type=\"Radar\", verbose=True)\n",
    "        if radar_data is not None:\n",
    "            total_pixels += radar_data.size\n",
    "            rain_pixels += np.sum(radar_data > 0)\n",
    "            rain_values.extend(radar_data[radar_data > 0].flatten())\n",
    "            spatial_rain_sum += (radar_data > 0).astype(np.float32)\n",
    "\n",
    "rain_ratio = rain_pixels / total_pixels if total_pixels > 0 else 0\n",
    "print(f\"Percentage of pixels with rain: {rain_ratio * 100:.2f}%\")\n",
    "print(f\"Percentage of pixels without rain: {(1 - rain_ratio) * 100:.2f}%\")\n",
    "\n",
    "if rain_values:\n",
    "    print(f\"Min rain value: {np.min(rain_values):.2f}\")\n",
    "    print(f\"Max rain value: {np.max(rain_values):.2f}\")\n",
    "    print(f\"Mean rain value (when rain > 0): {np.mean(rain_values):.2f}\")\n",
    "    print(f\"Median rain value (when rain > 0): {np.median(rain_values):.2f}\")\n",
    "\n",
    "plt.figure(figsize=(10, 5))\n",
    "plt.hist(rain_values, bins=50, log=True, color='blue', alpha=0.7)\n",
    "plt.title(\"Distribution of Rain Values (Log Scale)\")\n",
    "plt.xlabel(\"Rain Value\")\n",
    "plt.ylabel(\"Frequency (Log Scale)\")\n",
    "plt.grid(True) 5\n",
    "plt.show()\n",
    "\n",
    "plt.figure(figsize=(10, 5))\n",
    "plt.imshow(spatial_rain_sum, cmap='Blues')\n",
    "plt.colorbar(label='Number of time points with rain')\n",
    "plt.title(\"Spatial Distribution of Rain Occurrence\")\n",
    "plt.xlabel(\"Width\")\n",
    "plt.ylabel(\"Height\")\n",
    "plt.show()"
   ]
  },
  {
   "cell_type": "code",
   "execution_count": 29,
   "metadata": {
    "execution": {
     "iopub.execute_input": "2025-04-30T11:14:55.552325Z",
     "iopub.status.busy": "2025-04-30T11:14:55.552040Z",
     "iopub.status.idle": "2025-04-30T11:32:50.047057Z",
     "shell.execute_reply": "2025-04-30T11:32:50.042983Z",
     "shell.execute_reply.started": "2025-04-30T11:14:55.552302Z"
    },
    "trusted": true
   },
   "outputs": [
    {
     "name": "stdout",
     "output_type": "stream",
     "text": [
      "\n",
      "Feature: B09B (Himawari)\n",
      "Min value: 121.52\n",
      "Max value: 263.91\n",
      "Mean value: 244.48\n",
      "Std value: 11.04\n",
      "\n",
      "Feature: B10B (Himawari)\n",
      "Min value: 120.76\n",
      "Max value: 269.40\n",
      "Mean value: 252.04\n",
      "Std value: 12.84\n",
      "\n",
      "Feature: B11B (Himawari)\n",
      "Min value: 124.97\n",
      "Max value: 308.23\n",
      "Mean value: 275.44\n",
      "Std value: 19.84\n",
      "\n",
      "Feature: B12B (Himawari)\n",
      "Min value: 120.71\n",
      "Max value: 278.52\n",
      "Mean value: 258.04\n",
      "Std value: 12.97\n",
      "\n",
      "Feature: B14B (Himawari)\n",
      "Min value: 83.92\n",
      "Max value: 311.47\n",
      "Mean value: 276.10\n",
      "Std value: 21.40\n",
      "\n",
      "Feature: B16B (Himawari)\n",
      "Min value: 123.64\n",
      "Max value: 282.43\n",
      "Mean value: 261.41\n",
      "Std value: 16.76\n",
      "\n",
      "Feature: I2B (Himawari)\n",
      "Min value: 125.54\n",
      "Max value: 305.07\n",
      "Mean value: 272.96\n",
      "Std value: 20.72\n",
      "\n",
      "Feature: I4B (Himawari)\n",
      "Min value: 49.00\n",
      "Max value: 319.83\n",
      "Mean value: 285.40\n",
      "Std value: 17.02\n",
      "\n",
      "Feature: IRB (Himawari)\n",
      "Min value: 126.05\n",
      "Max value: 313.18\n",
      "Mean value: 277.40\n",
      "Std value: 20.84\n",
      "\n",
      "Feature: WVB (Himawari)\n",
      "Min value: 102.00\n",
      "Max value: 254.90\n",
      "Mean value: 235.23\n",
      "Std value: 9.57\n",
      "\n",
      "Feature: CAPE (ERA5)\n",
      "Min value: 0.00\n",
      "Max value: 8722.75\n",
      "Mean value: 595.70\n",
      "Std value: 856.35\n",
      "\n",
      "Feature: CIN (ERA5)\n",
      "Min value: 0.00\n",
      "Max value: 9999.00\n",
      "Mean value: 4854.24\n",
      "Std value: 4868.54\n",
      "\n",
      "Feature: EWSS (ERA5)\n",
      "Min value: -14114.93\n",
      "Max value: 7265.10\n",
      "Mean value: -283.50\n",
      "Std value: 865.32\n",
      "\n",
      "Feature: IE (ERA5)\n",
      "Min value: -0.00\n",
      "Max value: 0.00\n",
      "Mean value: -0.00\n",
      "Std value: 0.00\n",
      "\n",
      "Feature: ISOR (ERA5)\n",
      "Min value: 0.00\n",
      "Max value: 0.95\n",
      "Mean value: 0.34\n",
      "Std value: 0.28\n",
      "\n",
      "Feature: KX (ERA5)\n",
      "Min value: -31.76\n",
      "Max value: 45.26\n",
      "Mean value: 28.20\n",
      "Std value: 7.78\n",
      "\n",
      "Feature: PEV (ERA5)\n",
      "Min value: -0.00\n",
      "Max value: 0.00\n",
      "Mean value: -0.00\n",
      "Std value: 0.00\n",
      "\n",
      "Feature: R250 (ERA5)\n",
      "Min value: -2.39\n",
      "Max value: 142.96\n",
      "Mean value: 49.91\n",
      "Std value: 29.66\n",
      "\n",
      "Feature: R500 (ERA5)\n",
      "Min value: -1.85\n",
      "Max value: 116.00\n",
      "Mean value: 41.27\n",
      "Std value: 27.22\n",
      "\n",
      "Feature: R850 (ERA5)\n",
      "Min value: 1.24\n",
      "Max value: 111.21\n",
      "Mean value: 76.29\n",
      "Std value: 17.75\n",
      "Error reading /kaggle/input/btl-ai/DATA_SV/ERA5/SLHF/2019/10/12/SLHF_20191012130000.tif: name 'griddata' is not defined\n",
      "Error reading /kaggle/input/btl-ai/DATA_SV/ERA5/SLHF/2020/04/17/SLHF_20200417200000.tif: name 'griddata' is not defined\n",
      "Error reading /kaggle/input/btl-ai/DATA_SV/ERA5/SLHF/2020/04/20/SLHF_20200420200000.tif: name 'griddata' is not defined\n",
      "Error reading /kaggle/input/btl-ai/DATA_SV/ERA5/SLHF/2020/10/22/SLHF_20201022230000.tif: name 'griddata' is not defined\n",
      "Error reading /kaggle/input/btl-ai/DATA_SV/ERA5/SLHF/2020/10/24/SLHF_20201024210000.tif: name 'griddata' is not defined\n",
      "\n",
      "Feature: SLHF (ERA5)\n",
      "Min value: -2646499.00\n",
      "Max value: 132340.00\n",
      "Mean value: -398745.06\n",
      "Std value: 431109.94\n",
      "\n",
      "Feature: SLOR (ERA5)\n",
      "Min value: 0.00\n",
      "Max value: 0.06\n",
      "Mean value: 0.02\n",
      "Std value: 0.02\n",
      "Error reading /kaggle/input/btl-ai/DATA_SV/ERA5/SSHF/2019/04/05/SSHF_20190405090000.tif: name 'griddata' is not defined\n",
      "Error reading /kaggle/input/btl-ai/DATA_SV/ERA5/SSHF/2019/10/03/SSHF_20191003050000.tif: name 'griddata' is not defined\n",
      "Error reading /kaggle/input/btl-ai/DATA_SV/ERA5/SSHF/2019/10/16/SSHF_20191016000000.tif: name 'griddata' is not defined\n",
      "Error reading /kaggle/input/btl-ai/DATA_SV/ERA5/SSHF/2019/10/27/SSHF_20191027130000.tif: name 'griddata' is not defined\n",
      "Error reading /kaggle/input/btl-ai/DATA_SV/ERA5/SSHF/2020/04/14/SSHF_20200414180000.tif: name 'griddata' is not defined\n",
      "Error reading /kaggle/input/btl-ai/DATA_SV/ERA5/SSHF/2020/04/15/SSHF_20200415010000.tif: name 'griddata' is not defined\n",
      "Error reading /kaggle/input/btl-ai/DATA_SV/ERA5/SSHF/2020/10/04/SSHF_20201004140000.tif: name 'griddata' is not defined\n",
      "Error reading /kaggle/input/btl-ai/DATA_SV/ERA5/SSHF/2020/10/20/SSHF_20201020050000.tif: name 'griddata' is not defined\n",
      "Error reading /kaggle/input/btl-ai/DATA_SV/ERA5/SSHF/2020/10/24/SSHF_20201024110000.tif: name 'griddata' is not defined\n",
      "\n",
      "Feature: SSHF (ERA5)\n",
      "Min value: -1911847.00\n",
      "Max value: 709433.00\n",
      "Mean value: -91912.92\n",
      "Std value: 229070.41\n",
      "\n",
      "Feature: TCLW (ERA5)\n",
      "Min value: 0.00\n",
      "Max value: 2.13\n",
      "Mean value: 0.11\n",
      "Std value: 0.16\n",
      "\n",
      "Feature: TCW (ERA5)\n",
      "Min value: 10.29\n",
      "Max value: 94.61\n",
      "Mean value: 43.59\n",
      "Std value: 10.25\n",
      "\n",
      "Feature: TCWV (ERA5)\n",
      "Min value: 10.28\n",
      "Max value: 76.74\n",
      "Mean value: 43.38\n",
      "Std value: 10.04\n",
      "\n",
      "Feature: U250 (ERA5)\n",
      "Min value: -29.75\n",
      "Max value: 52.57\n",
      "Mean value: 10.09\n",
      "Std value: 15.04\n",
      "\n",
      "Feature: U850 (ERA5)\n",
      "Min value: -33.49\n",
      "Max value: 16.72\n",
      "Mean value: -2.15\n",
      "Std value: 6.42\n",
      "\n",
      "Feature: V250 (ERA5)\n",
      "Min value: -20.78\n",
      "Max value: 34.97\n",
      "Mean value: 3.47\n",
      "Std value: 7.80\n",
      "\n",
      "Feature: V850 (ERA5)\n",
      "Min value: -28.76\n",
      "Max value: 25.40\n",
      "Mean value: 0.79\n",
      "Std value: 4.52\n"
     ]
    }
   ],
   "source": [
    "# Phân tích dữ liệu Himawari và ERA5\n",
    "def analyze_features(files_dict, feature_list, data_type):\n",
    "    for feature in feature_list:\n",
    "        feature_values = []\n",
    "        spatial_variance = np.zeros((HEIGHT, WIDTH))\n",
    "        sample_count = 0\n",
    "        for dt in common_datetimes:\n",
    "            file_path = files_dict.get(dt, {}).get(feature)\n",
    "            if file_path:\n",
    "                data = read_geotiff(file_path, data_type=data_type, verbose=True)\n",
    "                if data is not None:\n",
    "                    feature_values.extend(data.flatten())\n",
    "                    if sample_count == 0:\n",
    "                        spatial_variance = data ** 2\n",
    "                    else:\n",
    "                        spatial_variance += data ** 2\n",
    "                    sample_count += 1\n",
    "        if feature_values:\n",
    "            feature_values = np.array(feature_values)\n",
    "            print(f\"\\nFeature: {feature} ({data_type})\")\n",
    "            print(f\"Min value: {np.min(feature_values):.2f}\")\n",
    "            print(f\"Max value: {np.max(feature_values):.2f}\")\n",
    "            print(f\"Mean value: {np.mean(feature_values):.2f}\")\n",
    "            print(f\"Std value: {np.std(feature_values):.2f}\")\n",
    "\n",
    "# Phân tích Himawari features\n",
    "analyze_features(hima_files, HIMA_BANDS, \"Himawari\")\n",
    "\n",
    "# Phân tích ERA5 features\n",
    "analyze_features(era5_files, ERA5_PARAMS, \"ERA5\")"
   ]
  },
  {
   "cell_type": "code",
   "execution_count": null,
   "metadata": {
    "trusted": true
   },
   "outputs": [],
   "source": []
  }
 ],
 "metadata": {
  "kaggle": {
   "accelerator": "none",
   "dataSources": [
    {
     "datasetId": 7020161,
     "sourceId": 11237152,
     "sourceType": "datasetVersion"
    }
   ],
   "dockerImageVersionId": 31012,
   "isGpuEnabled": false,
   "isInternetEnabled": true,
   "language": "python",
   "sourceType": "notebook"
  },
  "kernelspec": {
   "display_name": "Python 3",
   "language": "python",
   "name": "python3"
  },
  "language_info": {
   "codemirror_mode": {
    "name": "ipython",
    "version": 3
   },
   "file_extension": ".py",
   "mimetype": "text/x-python",
   "name": "python",
   "nbconvert_exporter": "python",
   "pygments_lexer": "ipython3",
   "version": "3.11.11"
  }
 },
 "nbformat": 4,
 "nbformat_minor": 4
}
