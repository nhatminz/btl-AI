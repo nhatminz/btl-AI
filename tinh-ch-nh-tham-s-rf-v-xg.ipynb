{
 "cells": [
  {
   "cell_type": "code",
   "execution_count": 1,
   "id": "d0044d5c",
   "metadata": {
    "execution": {
     "iopub.execute_input": "2025-05-02T18:25:43.777903Z",
     "iopub.status.busy": "2025-05-02T18:25:43.777563Z",
     "iopub.status.idle": "2025-05-02T20:44:42.322793Z",
     "shell.execute_reply": "2025-05-02T20:44:42.321888Z"
    },
    "papermill": {
     "duration": 8338.550995,
     "end_time": "2025-05-02T20:44:42.324185",
     "exception": false,
     "start_time": "2025-05-02T18:25:43.773190",
     "status": "completed"
    },
    "tags": []
   },
   "outputs": [
    {
     "name": "stdout",
     "output_type": "stream",
     "text": [
      "Collecting rasterio\r\n",
      "  Downloading rasterio-1.4.3-cp311-cp311-manylinux_2_17_x86_64.manylinux2014_x86_64.whl.metadata (9.1 kB)\r\n",
      "Collecting affine (from rasterio)\r\n",
      "  Downloading affine-2.4.0-py3-none-any.whl.metadata (4.0 kB)\r\n",
      "Requirement already satisfied: attrs in /usr/local/lib/python3.11/dist-packages (from rasterio) (25.3.0)\r\n",
      "Requirement already satisfied: certifi in /usr/local/lib/python3.11/dist-packages (from rasterio) (2025.1.31)\r\n",
      "Requirement already satisfied: click>=4.0 in /usr/local/lib/python3.11/dist-packages (from rasterio) (8.1.8)\r\n",
      "Requirement already satisfied: cligj>=0.5 in /usr/local/lib/python3.11/dist-packages (from rasterio) (0.7.2)\r\n",
      "Requirement already satisfied: numpy>=1.24 in /usr/local/lib/python3.11/dist-packages (from rasterio) (1.26.4)\r\n",
      "Requirement already satisfied: click-plugins in /usr/local/lib/python3.11/dist-packages (from rasterio) (1.1.1)\r\n",
      "Requirement already satisfied: pyparsing in /usr/local/lib/python3.11/dist-packages (from rasterio) (3.2.1)\r\n",
      "Requirement already satisfied: mkl_fft in /usr/local/lib/python3.11/dist-packages (from numpy>=1.24->rasterio) (1.3.8)\r\n",
      "Requirement already satisfied: mkl_random in /usr/local/lib/python3.11/dist-packages (from numpy>=1.24->rasterio) (1.2.4)\r\n",
      "Requirement already satisfied: mkl_umath in /usr/local/lib/python3.11/dist-packages (from numpy>=1.24->rasterio) (0.1.1)\r\n",
      "Requirement already satisfied: mkl in /usr/local/lib/python3.11/dist-packages (from numpy>=1.24->rasterio) (2025.1.0)\r\n",
      "Requirement already satisfied: tbb4py in /usr/local/lib/python3.11/dist-packages (from numpy>=1.24->rasterio) (2022.1.0)\r\n",
      "Requirement already satisfied: mkl-service in /usr/local/lib/python3.11/dist-packages (from numpy>=1.24->rasterio) (2.4.1)\r\n",
      "Requirement already satisfied: intel-openmp<2026,>=2024 in /usr/local/lib/python3.11/dist-packages (from mkl->numpy>=1.24->rasterio) (2024.2.0)\r\n",
      "Requirement already satisfied: tbb==2022.* in /usr/local/lib/python3.11/dist-packages (from mkl->numpy>=1.24->rasterio) (2022.1.0)\r\n",
      "Requirement already satisfied: tcmlib==1.* in /usr/local/lib/python3.11/dist-packages (from tbb==2022.*->mkl->numpy>=1.24->rasterio) (1.2.0)\r\n",
      "Requirement already satisfied: intel-cmplr-lib-rt in /usr/local/lib/python3.11/dist-packages (from mkl_umath->numpy>=1.24->rasterio) (2024.2.0)\r\n",
      "Requirement already satisfied: intel-cmplr-lib-ur==2024.2.0 in /usr/local/lib/python3.11/dist-packages (from intel-openmp<2026,>=2024->mkl->numpy>=1.24->rasterio) (2024.2.0)\r\n",
      "Downloading rasterio-1.4.3-cp311-cp311-manylinux_2_17_x86_64.manylinux2014_x86_64.whl (22.2 MB)\r\n",
      "\u001b[2K   \u001b[90m━━━━━━━━━━━━━━━━━━━━━━━━━━━━━━━━━━━━━━━━\u001b[0m \u001b[32m22.2/22.2 MB\u001b[0m \u001b[31m75.6 MB/s\u001b[0m eta \u001b[36m0:00:00\u001b[0m\r\n",
      "\u001b[?25hDownloading affine-2.4.0-py3-none-any.whl (15 kB)\r\n",
      "Installing collected packages: affine, rasterio\r\n",
      "Successfully installed affine-2.4.0 rasterio-1.4.3\r\n",
      "Requirement already satisfied: geopandas in /usr/local/lib/python3.11/dist-packages (0.14.4)\r\n",
      "Requirement already satisfied: fiona>=1.8.21 in /usr/local/lib/python3.11/dist-packages (from geopandas) (1.10.1)\r\n",
      "Requirement already satisfied: numpy>=1.22 in /usr/local/lib/python3.11/dist-packages (from geopandas) (1.26.4)\r\n",
      "Requirement already satisfied: packaging in /usr/local/lib/python3.11/dist-packages (from geopandas) (24.2)\r\n",
      "Requirement already satisfied: pandas>=1.4.0 in /usr/local/lib/python3.11/dist-packages (from geopandas) (2.2.3)\r\n",
      "Requirement already satisfied: pyproj>=3.3.0 in /usr/local/lib/python3.11/dist-packages (from geopandas) (3.7.0)\r\n",
      "Requirement already satisfied: shapely>=1.8.0 in /usr/local/lib/python3.11/dist-packages (from geopandas) (2.1.0)\r\n",
      "Requirement already satisfied: attrs>=19.2.0 in /usr/local/lib/python3.11/dist-packages (from fiona>=1.8.21->geopandas) (25.3.0)\r\n",
      "Requirement already satisfied: certifi in /usr/local/lib/python3.11/dist-packages (from fiona>=1.8.21->geopandas) (2025.1.31)\r\n",
      "Requirement already satisfied: click~=8.0 in /usr/local/lib/python3.11/dist-packages (from fiona>=1.8.21->geopandas) (8.1.8)\r\n",
      "Requirement already satisfied: click-plugins>=1.0 in /usr/local/lib/python3.11/dist-packages (from fiona>=1.8.21->geopandas) (1.1.1)\r\n",
      "Requirement already satisfied: cligj>=0.5 in /usr/local/lib/python3.11/dist-packages (from fiona>=1.8.21->geopandas) (0.7.2)\r\n",
      "Requirement already satisfied: mkl_fft in /usr/local/lib/python3.11/dist-packages (from numpy>=1.22->geopandas) (1.3.8)\r\n",
      "Requirement already satisfied: mkl_random in /usr/local/lib/python3.11/dist-packages (from numpy>=1.22->geopandas) (1.2.4)\r\n",
      "Requirement already satisfied: mkl_umath in /usr/local/lib/python3.11/dist-packages (from numpy>=1.22->geopandas) (0.1.1)\r\n",
      "Requirement already satisfied: mkl in /usr/local/lib/python3.11/dist-packages (from numpy>=1.22->geopandas) (2025.1.0)\r\n",
      "Requirement already satisfied: tbb4py in /usr/local/lib/python3.11/dist-packages (from numpy>=1.22->geopandas) (2022.1.0)\r\n",
      "Requirement already satisfied: mkl-service in /usr/local/lib/python3.11/dist-packages (from numpy>=1.22->geopandas) (2.4.1)\r\n",
      "Requirement already satisfied: python-dateutil>=2.8.2 in /usr/local/lib/python3.11/dist-packages (from pandas>=1.4.0->geopandas) (2.9.0.post0)\r\n",
      "Requirement already satisfied: pytz>=2020.1 in /usr/local/lib/python3.11/dist-packages (from pandas>=1.4.0->geopandas) (2025.2)\r\n",
      "Requirement already satisfied: tzdata>=2022.7 in /usr/local/lib/python3.11/dist-packages (from pandas>=1.4.0->geopandas) (2025.2)\r\n",
      "Requirement already satisfied: six>=1.5 in /usr/local/lib/python3.11/dist-packages (from python-dateutil>=2.8.2->pandas>=1.4.0->geopandas) (1.17.0)\r\n",
      "Requirement already satisfied: intel-openmp<2026,>=2024 in /usr/local/lib/python3.11/dist-packages (from mkl->numpy>=1.22->geopandas) (2024.2.0)\r\n",
      "Requirement already satisfied: tbb==2022.* in /usr/local/lib/python3.11/dist-packages (from mkl->numpy>=1.22->geopandas) (2022.1.0)\r\n",
      "Requirement already satisfied: tcmlib==1.* in /usr/local/lib/python3.11/dist-packages (from tbb==2022.*->mkl->numpy>=1.22->geopandas) (1.2.0)\r\n",
      "Requirement already satisfied: intel-cmplr-lib-rt in /usr/local/lib/python3.11/dist-packages (from mkl_umath->numpy>=1.22->geopandas) (2024.2.0)\r\n",
      "Requirement already satisfied: intel-cmplr-lib-ur==2024.2.0 in /usr/local/lib/python3.11/dist-packages (from intel-openmp<2026,>=2024->mkl->numpy>=1.22->geopandas) (2024.2.0)\r\n",
      "Đang đọc dữ liệu từ CSV...\n",
      "Tổng số tổ hợp Random Forest: 64\n",
      "Huấn luyện Random Forest tổ hợp 1/64\n",
      "\n",
      "Đánh giá RandomForest với tham số {'n_estimators': 50, 'max_depth': 5, 'max_samples': 0.5, 'min_samples_split': 2, 'min_samples_leaf': 1, 'max_features': 'sqrt'}:\n",
      "Train RMSE: 1.0285\n",
      "Test RMSE: 1.0300\n",
      "R2 Score (Test): 0.3933\n"
     ]
    },
    {
     "name": "stderr",
     "output_type": "stream",
     "text": [
      "/usr/local/lib/python3.11/dist-packages/cartopy/io/__init__.py:241: DownloadWarning: Downloading: https://naturalearth.s3.amazonaws.com/10m_physical/ne_10m_coastline.zip\n",
      "  warnings.warn(f'Downloading: {url}', DownloadWarning)\n",
      "/usr/local/lib/python3.11/dist-packages/cartopy/io/__init__.py:241: DownloadWarning: Downloading: https://naturalearth.s3.amazonaws.com/10m_cultural/ne_10m_admin_0_boundary_lines_land.zip\n",
      "  warnings.warn(f'Downloading: {url}', DownloadWarning)\n"
     ]
    },
    {
     "name": "stdout",
     "output_type": "stream",
     "text": [
      "Huấn luyện Random Forest tổ hợp 2/64\n",
      "\n",
      "Đánh giá RandomForest với tham số {'n_estimators': 50, 'max_depth': 5, 'max_samples': 0.5, 'min_samples_split': 2, 'min_samples_leaf': 1, 'max_features': 0.5}:\n",
      "Train RMSE: 0.9886\n",
      "Test RMSE: 0.9878\n",
      "R2 Score (Test): 0.4420\n",
      "Huấn luyện Random Forest tổ hợp 3/64\n",
      "\n",
      "Đánh giá RandomForest với tham số {'n_estimators': 50, 'max_depth': 5, 'max_samples': 0.5, 'min_samples_split': 2, 'min_samples_leaf': 2, 'max_features': 'sqrt'}:\n",
      "Train RMSE: 1.0304\n",
      "Test RMSE: 1.0289\n",
      "R2 Score (Test): 0.3946\n",
      "Huấn luyện Random Forest tổ hợp 4/64\n",
      "\n",
      "Đánh giá RandomForest với tham số {'n_estimators': 50, 'max_depth': 5, 'max_samples': 0.5, 'min_samples_split': 2, 'min_samples_leaf': 2, 'max_features': 0.5}:\n",
      "Train RMSE: 0.9887\n",
      "Test RMSE: 0.9887\n",
      "R2 Score (Test): 0.4409\n",
      "Huấn luyện Random Forest tổ hợp 5/64\n",
      "\n",
      "Đánh giá RandomForest với tham số {'n_estimators': 50, 'max_depth': 5, 'max_samples': 0.5, 'min_samples_split': 5, 'min_samples_leaf': 1, 'max_features': 'sqrt'}:\n",
      "Train RMSE: 1.0270\n",
      "Test RMSE: 1.0283\n",
      "R2 Score (Test): 0.3953\n",
      "Huấn luyện Random Forest tổ hợp 6/64\n",
      "\n",
      "Đánh giá RandomForest với tham số {'n_estimators': 50, 'max_depth': 5, 'max_samples': 0.5, 'min_samples_split': 5, 'min_samples_leaf': 1, 'max_features': 0.5}:\n",
      "Train RMSE: 0.9893\n",
      "Test RMSE: 0.9905\n",
      "R2 Score (Test): 0.4389\n",
      "Huấn luyện Random Forest tổ hợp 7/64\n",
      "\n",
      "Đánh giá RandomForest với tham số {'n_estimators': 50, 'max_depth': 5, 'max_samples': 0.5, 'min_samples_split': 5, 'min_samples_leaf': 2, 'max_features': 'sqrt'}:\n",
      "Train RMSE: 1.0273\n",
      "Test RMSE: 1.0269\n",
      "R2 Score (Test): 0.3968\n",
      "Huấn luyện Random Forest tổ hợp 8/64\n",
      "\n",
      "Đánh giá RandomForest với tham số {'n_estimators': 50, 'max_depth': 5, 'max_samples': 0.5, 'min_samples_split': 5, 'min_samples_leaf': 2, 'max_features': 0.5}:\n",
      "Train RMSE: 0.9895\n",
      "Test RMSE: 0.9900\n",
      "R2 Score (Test): 0.4394\n",
      "Huấn luyện Random Forest tổ hợp 9/64\n",
      "\n",
      "Đánh giá RandomForest với tham số {'n_estimators': 50, 'max_depth': 5, 'max_samples': 1.0, 'min_samples_split': 2, 'min_samples_leaf': 1, 'max_features': 'sqrt'}:\n",
      "Train RMSE: 1.0255\n",
      "Test RMSE: 1.0246\n",
      "R2 Score (Test): 0.3995\n",
      "Huấn luyện Random Forest tổ hợp 10/64\n",
      "\n",
      "Đánh giá RandomForest với tham số {'n_estimators': 50, 'max_depth': 5, 'max_samples': 1.0, 'min_samples_split': 2, 'min_samples_leaf': 1, 'max_features': 0.5}:\n",
      "Train RMSE: 0.9794\n",
      "Test RMSE: 0.9795\n",
      "R2 Score (Test): 0.4512\n",
      "Huấn luyện Random Forest tổ hợp 11/64\n",
      "\n",
      "Đánh giá RandomForest với tham số {'n_estimators': 50, 'max_depth': 5, 'max_samples': 1.0, 'min_samples_split': 2, 'min_samples_leaf': 2, 'max_features': 'sqrt'}:\n",
      "Train RMSE: 1.0260\n",
      "Test RMSE: 1.0240\n",
      "R2 Score (Test): 0.4002\n",
      "Huấn luyện Random Forest tổ hợp 12/64\n",
      "\n",
      "Đánh giá RandomForest với tham số {'n_estimators': 50, 'max_depth': 5, 'max_samples': 1.0, 'min_samples_split': 2, 'min_samples_leaf': 2, 'max_features': 0.5}:\n",
      "Train RMSE: 0.9797\n",
      "Test RMSE: 0.9809\n",
      "R2 Score (Test): 0.4497\n",
      "Huấn luyện Random Forest tổ hợp 13/64\n",
      "\n",
      "Đánh giá RandomForest với tham số {'n_estimators': 50, 'max_depth': 5, 'max_samples': 1.0, 'min_samples_split': 5, 'min_samples_leaf': 1, 'max_features': 'sqrt'}:\n",
      "Train RMSE: 1.0263\n",
      "Test RMSE: 1.0246\n",
      "R2 Score (Test): 0.3996\n",
      "Huấn luyện Random Forest tổ hợp 14/64\n",
      "\n",
      "Đánh giá RandomForest với tham số {'n_estimators': 50, 'max_depth': 5, 'max_samples': 1.0, 'min_samples_split': 5, 'min_samples_leaf': 1, 'max_features': 0.5}:\n",
      "Train RMSE: 0.9800\n",
      "Test RMSE: 0.9817\n",
      "R2 Score (Test): 0.4488\n",
      "Huấn luyện Random Forest tổ hợp 15/64\n",
      "\n",
      "Đánh giá RandomForest với tham số {'n_estimators': 50, 'max_depth': 5, 'max_samples': 1.0, 'min_samples_split': 5, 'min_samples_leaf': 2, 'max_features': 'sqrt'}:\n",
      "Train RMSE: 1.0276\n",
      "Test RMSE: 1.0260\n",
      "R2 Score (Test): 0.3980\n",
      "Huấn luyện Random Forest tổ hợp 16/64\n",
      "\n",
      "Đánh giá RandomForest với tham số {'n_estimators': 50, 'max_depth': 5, 'max_samples': 1.0, 'min_samples_split': 5, 'min_samples_leaf': 2, 'max_features': 0.5}:\n",
      "Train RMSE: 0.9800\n",
      "Test RMSE: 0.9813\n",
      "R2 Score (Test): 0.4492\n",
      "Huấn luyện Random Forest tổ hợp 17/64\n",
      "\n",
      "Đánh giá RandomForest với tham số {'n_estimators': 50, 'max_depth': 10, 'max_samples': 0.5, 'min_samples_split': 2, 'min_samples_leaf': 1, 'max_features': 'sqrt'}:\n",
      "Train RMSE: 0.7132\n",
      "Test RMSE: 0.8051\n",
      "R2 Score (Test): 0.6292\n",
      "Huấn luyện Random Forest tổ hợp 18/64\n",
      "\n",
      "Đánh giá RandomForest với tham số {'n_estimators': 50, 'max_depth': 10, 'max_samples': 0.5, 'min_samples_split': 2, 'min_samples_leaf': 1, 'max_features': 0.5}:\n",
      "Train RMSE: 0.6939\n",
      "Test RMSE: 0.7857\n",
      "R2 Score (Test): 0.6469\n",
      "Huấn luyện Random Forest tổ hợp 19/64\n",
      "\n",
      "Đánh giá RandomForest với tham số {'n_estimators': 50, 'max_depth': 10, 'max_samples': 0.5, 'min_samples_split': 2, 'min_samples_leaf': 2, 'max_features': 'sqrt'}:\n",
      "Train RMSE: 0.7308\n",
      "Test RMSE: 0.8016\n",
      "R2 Score (Test): 0.6325\n",
      "Huấn luyện Random Forest tổ hợp 20/64\n",
      "\n",
      "Đánh giá RandomForest với tham số {'n_estimators': 50, 'max_depth': 10, 'max_samples': 0.5, 'min_samples_split': 2, 'min_samples_leaf': 2, 'max_features': 0.5}:\n",
      "Train RMSE: 0.7093\n",
      "Test RMSE: 0.7902\n",
      "R2 Score (Test): 0.6429\n",
      "Huấn luyện Random Forest tổ hợp 21/64\n",
      "\n",
      "Đánh giá RandomForest với tham số {'n_estimators': 50, 'max_depth': 10, 'max_samples': 0.5, 'min_samples_split': 5, 'min_samples_leaf': 1, 'max_features': 'sqrt'}:\n",
      "Train RMSE: 0.7269\n",
      "Test RMSE: 0.8023\n",
      "R2 Score (Test): 0.6318\n",
      "Huấn luyện Random Forest tổ hợp 22/64\n",
      "\n",
      "Đánh giá RandomForest với tham số {'n_estimators': 50, 'max_depth': 10, 'max_samples': 0.5, 'min_samples_split': 5, 'min_samples_leaf': 1, 'max_features': 0.5}:\n",
      "Train RMSE: 0.7030\n",
      "Test RMSE: 0.7908\n",
      "R2 Score (Test): 0.6423\n",
      "Huấn luyện Random Forest tổ hợp 23/64\n",
      "\n",
      "Đánh giá RandomForest với tham số {'n_estimators': 50, 'max_depth': 10, 'max_samples': 0.5, 'min_samples_split': 5, 'min_samples_leaf': 2, 'max_features': 'sqrt'}:\n",
      "Train RMSE: 0.7382\n",
      "Test RMSE: 0.8090\n",
      "R2 Score (Test): 0.6257\n",
      "Huấn luyện Random Forest tổ hợp 24/64\n",
      "\n",
      "Đánh giá RandomForest với tham số {'n_estimators': 50, 'max_depth': 10, 'max_samples': 0.5, 'min_samples_split': 5, 'min_samples_leaf': 2, 'max_features': 0.5}:\n",
      "Train RMSE: 0.7122\n",
      "Test RMSE: 0.7910\n",
      "R2 Score (Test): 0.6421\n",
      "Huấn luyện Random Forest tổ hợp 25/64\n",
      "\n",
      "Đánh giá RandomForest với tham số {'n_estimators': 50, 'max_depth': 10, 'max_samples': 1.0, 'min_samples_split': 2, 'min_samples_leaf': 1, 'max_features': 'sqrt'}:\n",
      "Train RMSE: 0.6809\n",
      "Test RMSE: 0.7857\n",
      "R2 Score (Test): 0.6469\n",
      "Huấn luyện Random Forest tổ hợp 26/64\n",
      "\n",
      "Đánh giá RandomForest với tham số {'n_estimators': 50, 'max_depth': 10, 'max_samples': 1.0, 'min_samples_split': 2, 'min_samples_leaf': 1, 'max_features': 0.5}:\n",
      "Train RMSE: 0.6603\n",
      "Test RMSE: 0.7684\n",
      "R2 Score (Test): 0.6623\n",
      "Huấn luyện Random Forest tổ hợp 27/64\n",
      "\n",
      "Đánh giá RandomForest với tham số {'n_estimators': 50, 'max_depth': 10, 'max_samples': 1.0, 'min_samples_split': 2, 'min_samples_leaf': 2, 'max_features': 'sqrt'}:\n",
      "Train RMSE: 0.6991\n",
      "Test RMSE: 0.7891\n",
      "R2 Score (Test): 0.6438\n",
      "Huấn luyện Random Forest tổ hợp 28/64\n",
      "\n",
      "Đánh giá RandomForest với tham số {'n_estimators': 50, 'max_depth': 10, 'max_samples': 1.0, 'min_samples_split': 2, 'min_samples_leaf': 2, 'max_features': 0.5}:\n",
      "Train RMSE: 0.6697\n",
      "Test RMSE: 0.7698\n",
      "R2 Score (Test): 0.6611\n",
      "Huấn luyện Random Forest tổ hợp 29/64\n",
      "\n",
      "Đánh giá RandomForest với tham số {'n_estimators': 50, 'max_depth': 10, 'max_samples': 1.0, 'min_samples_split': 5, 'min_samples_leaf': 1, 'max_features': 'sqrt'}:\n",
      "Train RMSE: 0.6950\n",
      "Test RMSE: 0.7896\n",
      "R2 Score (Test): 0.6434\n",
      "Huấn luyện Random Forest tổ hợp 30/64\n",
      "\n",
      "Đánh giá RandomForest với tham số {'n_estimators': 50, 'max_depth': 10, 'max_samples': 1.0, 'min_samples_split': 5, 'min_samples_leaf': 1, 'max_features': 0.5}:\n",
      "Train RMSE: 0.6687\n",
      "Test RMSE: 0.7726\n",
      "R2 Score (Test): 0.6586\n",
      "Huấn luyện Random Forest tổ hợp 31/64\n",
      "\n",
      "Đánh giá RandomForest với tham số {'n_estimators': 50, 'max_depth': 10, 'max_samples': 1.0, 'min_samples_split': 5, 'min_samples_leaf': 2, 'max_features': 'sqrt'}:\n",
      "Train RMSE: 0.7029\n",
      "Test RMSE: 0.7900\n",
      "R2 Score (Test): 0.6430\n",
      "Huấn luyện Random Forest tổ hợp 32/64\n",
      "\n",
      "Đánh giá RandomForest với tham số {'n_estimators': 50, 'max_depth': 10, 'max_samples': 1.0, 'min_samples_split': 5, 'min_samples_leaf': 2, 'max_features': 0.5}:\n",
      "Train RMSE: 0.6765\n",
      "Test RMSE: 0.7757\n",
      "R2 Score (Test): 0.6559\n",
      "Huấn luyện Random Forest tổ hợp 33/64\n",
      "\n",
      "Đánh giá RandomForest với tham số {'n_estimators': 100, 'max_depth': 5, 'max_samples': 0.5, 'min_samples_split': 2, 'min_samples_leaf': 1, 'max_features': 'sqrt'}:\n",
      "Train RMSE: 1.0258\n",
      "Test RMSE: 1.0298\n",
      "R2 Score (Test): 0.3935\n",
      "Huấn luyện Random Forest tổ hợp 34/64\n",
      "\n",
      "Đánh giá RandomForest với tham số {'n_estimators': 100, 'max_depth': 5, 'max_samples': 0.5, 'min_samples_split': 2, 'min_samples_leaf': 1, 'max_features': 0.5}:\n",
      "Train RMSE: 0.9884\n",
      "Test RMSE: 0.9873\n",
      "R2 Score (Test): 0.4425\n",
      "Huấn luyện Random Forest tổ hợp 35/64\n",
      "\n",
      "Đánh giá RandomForest với tham số {'n_estimators': 100, 'max_depth': 5, 'max_samples': 0.5, 'min_samples_split': 2, 'min_samples_leaf': 2, 'max_features': 'sqrt'}:\n",
      "Train RMSE: 1.0267\n",
      "Test RMSE: 1.0285\n",
      "R2 Score (Test): 0.3950\n",
      "Huấn luyện Random Forest tổ hợp 36/64\n",
      "\n",
      "Đánh giá RandomForest với tham số {'n_estimators': 100, 'max_depth': 5, 'max_samples': 0.5, 'min_samples_split': 2, 'min_samples_leaf': 2, 'max_features': 0.5}:\n",
      "Train RMSE: 0.9891\n",
      "Test RMSE: 0.9899\n",
      "R2 Score (Test): 0.4396\n",
      "Huấn luyện Random Forest tổ hợp 37/64\n",
      "\n",
      "Đánh giá RandomForest với tham số {'n_estimators': 100, 'max_depth': 5, 'max_samples': 0.5, 'min_samples_split': 5, 'min_samples_leaf': 1, 'max_features': 'sqrt'}:\n",
      "Train RMSE: 1.0250\n",
      "Test RMSE: 1.0279\n",
      "R2 Score (Test): 0.3956\n",
      "Huấn luyện Random Forest tổ hợp 38/64\n",
      "\n",
      "Đánh giá RandomForest với tham số {'n_estimators': 100, 'max_depth': 5, 'max_samples': 0.5, 'min_samples_split': 5, 'min_samples_leaf': 1, 'max_features': 0.5}:\n",
      "Train RMSE: 0.9897\n",
      "Test RMSE: 0.9897\n",
      "R2 Score (Test): 0.4398\n",
      "Huấn luyện Random Forest tổ hợp 39/64\n",
      "\n",
      "Đánh giá RandomForest với tham số {'n_estimators': 100, 'max_depth': 5, 'max_samples': 0.5, 'min_samples_split': 5, 'min_samples_leaf': 2, 'max_features': 'sqrt'}:\n",
      "Train RMSE: 1.0255\n",
      "Test RMSE: 1.0276\n",
      "R2 Score (Test): 0.3960\n",
      "Huấn luyện Random Forest tổ hợp 40/64\n",
      "\n",
      "Đánh giá RandomForest với tham số {'n_estimators': 100, 'max_depth': 5, 'max_samples': 0.5, 'min_samples_split': 5, 'min_samples_leaf': 2, 'max_features': 0.5}:\n",
      "Train RMSE: 0.9897\n",
      "Test RMSE: 0.9898\n",
      "R2 Score (Test): 0.4397\n",
      "Huấn luyện Random Forest tổ hợp 41/64\n",
      "\n",
      "Đánh giá RandomForest với tham số {'n_estimators': 100, 'max_depth': 5, 'max_samples': 1.0, 'min_samples_split': 2, 'min_samples_leaf': 1, 'max_features': 'sqrt'}:\n",
      "Train RMSE: 1.0259\n",
      "Test RMSE: 1.0257\n",
      "R2 Score (Test): 0.3983\n",
      "Huấn luyện Random Forest tổ hợp 42/64\n",
      "\n",
      "Đánh giá RandomForest với tham số {'n_estimators': 100, 'max_depth': 5, 'max_samples': 1.0, 'min_samples_split': 2, 'min_samples_leaf': 1, 'max_features': 0.5}:\n",
      "Train RMSE: 0.9831\n",
      "Test RMSE: 0.9815\n",
      "R2 Score (Test): 0.4490\n",
      "Huấn luyện Random Forest tổ hợp 43/64\n",
      "\n",
      "Đánh giá RandomForest với tham số {'n_estimators': 100, 'max_depth': 5, 'max_samples': 1.0, 'min_samples_split': 2, 'min_samples_leaf': 2, 'max_features': 'sqrt'}:\n",
      "Train RMSE: 1.0255\n",
      "Test RMSE: 1.0243\n",
      "R2 Score (Test): 0.3999\n",
      "Huấn luyện Random Forest tổ hợp 44/64\n",
      "\n",
      "Đánh giá RandomForest với tham số {'n_estimators': 100, 'max_depth': 5, 'max_samples': 1.0, 'min_samples_split': 2, 'min_samples_leaf': 2, 'max_features': 0.5}:\n",
      "Train RMSE: 0.9829\n",
      "Test RMSE: 0.9826\n",
      "R2 Score (Test): 0.4478\n",
      "Huấn luyện Random Forest tổ hợp 45/64\n",
      "\n",
      "Đánh giá RandomForest với tham số {'n_estimators': 100, 'max_depth': 5, 'max_samples': 1.0, 'min_samples_split': 5, 'min_samples_leaf': 1, 'max_features': 'sqrt'}:\n",
      "Train RMSE: 1.0260\n",
      "Test RMSE: 1.0260\n",
      "R2 Score (Test): 0.3980\n",
      "Huấn luyện Random Forest tổ hợp 46/64\n",
      "\n",
      "Đánh giá RandomForest với tham số {'n_estimators': 100, 'max_depth': 5, 'max_samples': 1.0, 'min_samples_split': 5, 'min_samples_leaf': 1, 'max_features': 0.5}:\n",
      "Train RMSE: 0.9829\n",
      "Test RMSE: 0.9832\n",
      "R2 Score (Test): 0.4471\n",
      "Huấn luyện Random Forest tổ hợp 47/64\n",
      "\n",
      "Đánh giá RandomForest với tham số {'n_estimators': 100, 'max_depth': 5, 'max_samples': 1.0, 'min_samples_split': 5, 'min_samples_leaf': 2, 'max_features': 'sqrt'}:\n",
      "Train RMSE: 1.0264\n",
      "Test RMSE: 1.0262\n",
      "R2 Score (Test): 0.3976\n",
      "Huấn luyện Random Forest tổ hợp 48/64\n",
      "\n",
      "Đánh giá RandomForest với tham số {'n_estimators': 100, 'max_depth': 5, 'max_samples': 1.0, 'min_samples_split': 5, 'min_samples_leaf': 2, 'max_features': 0.5}:\n",
      "Train RMSE: 0.9828\n",
      "Test RMSE: 0.9831\n",
      "R2 Score (Test): 0.4473\n",
      "Huấn luyện Random Forest tổ hợp 49/64\n",
      "\n",
      "Đánh giá RandomForest với tham số {'n_estimators': 100, 'max_depth': 10, 'max_samples': 0.5, 'min_samples_split': 2, 'min_samples_leaf': 1, 'max_features': 'sqrt'}:\n",
      "Train RMSE: 0.7089\n",
      "Test RMSE: 0.7984\n",
      "R2 Score (Test): 0.6355\n",
      "Huấn luyện Random Forest tổ hợp 50/64\n",
      "\n",
      "Đánh giá RandomForest với tham số {'n_estimators': 100, 'max_depth': 10, 'max_samples': 0.5, 'min_samples_split': 2, 'min_samples_leaf': 1, 'max_features': 0.5}:\n",
      "Train RMSE: 0.6937\n",
      "Test RMSE: 0.7839\n",
      "R2 Score (Test): 0.6485\n",
      "Huấn luyện Random Forest tổ hợp 51/64\n",
      "\n",
      "Đánh giá RandomForest với tham số {'n_estimators': 100, 'max_depth': 10, 'max_samples': 0.5, 'min_samples_split': 2, 'min_samples_leaf': 2, 'max_features': 'sqrt'}:\n",
      "Train RMSE: 0.7292\n",
      "Test RMSE: 0.8029\n",
      "R2 Score (Test): 0.6313\n",
      "Huấn luyện Random Forest tổ hợp 52/64\n",
      "\n",
      "Đánh giá RandomForest với tham số {'n_estimators': 100, 'max_depth': 10, 'max_samples': 0.5, 'min_samples_split': 2, 'min_samples_leaf': 2, 'max_features': 0.5}:\n",
      "Train RMSE: 0.7081\n",
      "Test RMSE: 0.7874\n",
      "R2 Score (Test): 0.6454\n",
      "Huấn luyện Random Forest tổ hợp 53/64\n",
      "\n",
      "Đánh giá RandomForest với tham số {'n_estimators': 100, 'max_depth': 10, 'max_samples': 0.5, 'min_samples_split': 5, 'min_samples_leaf': 1, 'max_features': 'sqrt'}:\n",
      "Train RMSE: 0.7244\n",
      "Test RMSE: 0.7988\n",
      "R2 Score (Test): 0.6351\n",
      "Huấn luyện Random Forest tổ hợp 54/64\n",
      "\n",
      "Đánh giá RandomForest với tham số {'n_estimators': 100, 'max_depth': 10, 'max_samples': 0.5, 'min_samples_split': 5, 'min_samples_leaf': 1, 'max_features': 0.5}:\n",
      "Train RMSE: 0.7043\n",
      "Test RMSE: 0.7892\n",
      "R2 Score (Test): 0.6437\n",
      "Huấn luyện Random Forest tổ hợp 55/64\n",
      "\n",
      "Đánh giá RandomForest với tham số {'n_estimators': 100, 'max_depth': 10, 'max_samples': 0.5, 'min_samples_split': 5, 'min_samples_leaf': 2, 'max_features': 'sqrt'}:\n",
      "Train RMSE: 0.7350\n",
      "Test RMSE: 0.8074\n",
      "R2 Score (Test): 0.6271\n",
      "Huấn luyện Random Forest tổ hợp 56/64\n",
      "\n",
      "Đánh giá RandomForest với tham số {'n_estimators': 100, 'max_depth': 10, 'max_samples': 0.5, 'min_samples_split': 5, 'min_samples_leaf': 2, 'max_features': 0.5}:\n",
      "Train RMSE: 0.7146\n",
      "Test RMSE: 0.7904\n",
      "R2 Score (Test): 0.6427\n",
      "Huấn luyện Random Forest tổ hợp 57/64\n",
      "\n",
      "Đánh giá RandomForest với tham số {'n_estimators': 100, 'max_depth': 10, 'max_samples': 1.0, 'min_samples_split': 2, 'min_samples_leaf': 1, 'max_features': 'sqrt'}:\n",
      "Train RMSE: 0.6797\n",
      "Test RMSE: 0.7836\n",
      "R2 Score (Test): 0.6488\n",
      "Huấn luyện Random Forest tổ hợp 58/64\n",
      "\n",
      "Đánh giá RandomForest với tham số {'n_estimators': 100, 'max_depth': 10, 'max_samples': 1.0, 'min_samples_split': 2, 'min_samples_leaf': 1, 'max_features': 0.5}:\n",
      "Train RMSE: 0.6599\n",
      "Test RMSE: 0.7705\n",
      "R2 Score (Test): 0.6605\n",
      "Huấn luyện Random Forest tổ hợp 59/64\n",
      "\n",
      "Đánh giá RandomForest với tham số {'n_estimators': 100, 'max_depth': 10, 'max_samples': 1.0, 'min_samples_split': 2, 'min_samples_leaf': 2, 'max_features': 'sqrt'}:\n",
      "Train RMSE: 0.6957\n",
      "Test RMSE: 0.7862\n",
      "R2 Score (Test): 0.6465\n",
      "Huấn luyện Random Forest tổ hợp 60/64\n",
      "\n",
      "Đánh giá RandomForest với tham số {'n_estimators': 100, 'max_depth': 10, 'max_samples': 1.0, 'min_samples_split': 2, 'min_samples_leaf': 2, 'max_features': 0.5}:\n",
      "Train RMSE: 0.6730\n",
      "Test RMSE: 0.7716\n",
      "R2 Score (Test): 0.6595\n",
      "Huấn luyện Random Forest tổ hợp 61/64\n",
      "\n",
      "Đánh giá RandomForest với tham số {'n_estimators': 100, 'max_depth': 10, 'max_samples': 1.0, 'min_samples_split': 5, 'min_samples_leaf': 1, 'max_features': 'sqrt'}:\n",
      "Train RMSE: 0.6928\n",
      "Test RMSE: 0.7868\n",
      "R2 Score (Test): 0.6460\n",
      "Huấn luyện Random Forest tổ hợp 62/64\n",
      "\n",
      "Đánh giá RandomForest với tham số {'n_estimators': 100, 'max_depth': 10, 'max_samples': 1.0, 'min_samples_split': 5, 'min_samples_leaf': 1, 'max_features': 0.5}:\n",
      "Train RMSE: 0.6691\n",
      "Test RMSE: 0.7739\n",
      "R2 Score (Test): 0.6575\n",
      "Huấn luyện Random Forest tổ hợp 63/64\n",
      "\n",
      "Đánh giá RandomForest với tham số {'n_estimators': 100, 'max_depth': 10, 'max_samples': 1.0, 'min_samples_split': 5, 'min_samples_leaf': 2, 'max_features': 'sqrt'}:\n",
      "Train RMSE: 0.6992\n",
      "Test RMSE: 0.7880\n",
      "R2 Score (Test): 0.6448\n",
      "Huấn luyện Random Forest tổ hợp 64/64\n",
      "\n",
      "Đánh giá RandomForest với tham số {'n_estimators': 100, 'max_depth': 10, 'max_samples': 1.0, 'min_samples_split': 5, 'min_samples_leaf': 2, 'max_features': 0.5}:\n",
      "Train RMSE: 0.6756\n",
      "Test RMSE: 0.7729\n",
      "R2 Score (Test): 0.6583\n",
      "Tổng số tổ hợp XGBoost: 128\n",
      "Huấn luyện XGBoost tổ hợp 1/128\n"
     ]
    },
    {
     "name": "stderr",
     "output_type": "stream",
     "text": [
      "/usr/local/lib/python3.11/dist-packages/xgboost/sklearn.py:889: UserWarning: `eval_metric` in `fit` method is deprecated for better compatibility with scikit-learn, use `eval_metric` in constructor or`set_params` instead.\n",
      "  warnings.warn(\n"
     ]
    },
    {
     "name": "stdout",
     "output_type": "stream",
     "text": [
      "\n",
      "Đánh giá XGBoost với tham số {'n_estimators': 50, 'max_depth': 3, 'learning_rate': 0.01, 'subsample': 0.6, 'colsample_bytree': 0.6, 'min_child_weight': 1, 'gamma': 0}:\n",
      "Train RMSE: 1.2576\n",
      "Test RMSE: 1.2193\n",
      "R2 Score (Test): 0.1497\n",
      "Huấn luyện XGBoost tổ hợp 2/128\n"
     ]
    },
    {
     "name": "stderr",
     "output_type": "stream",
     "text": [
      "/usr/local/lib/python3.11/dist-packages/xgboost/sklearn.py:889: UserWarning: `eval_metric` in `fit` method is deprecated for better compatibility with scikit-learn, use `eval_metric` in constructor or`set_params` instead.\n",
      "  warnings.warn(\n"
     ]
    },
    {
     "name": "stdout",
     "output_type": "stream",
     "text": [
      "\n",
      "Đánh giá XGBoost với tham số {'n_estimators': 50, 'max_depth': 3, 'learning_rate': 0.01, 'subsample': 0.6, 'colsample_bytree': 0.6, 'min_child_weight': 1, 'gamma': 0.1}:\n",
      "Train RMSE: 1.2576\n",
      "Test RMSE: 1.2193\n",
      "R2 Score (Test): 0.1497\n",
      "Huấn luyện XGBoost tổ hợp 3/128\n"
     ]
    },
    {
     "name": "stderr",
     "output_type": "stream",
     "text": [
      "/usr/local/lib/python3.11/dist-packages/xgboost/sklearn.py:889: UserWarning: `eval_metric` in `fit` method is deprecated for better compatibility with scikit-learn, use `eval_metric` in constructor or`set_params` instead.\n",
      "  warnings.warn(\n"
     ]
    },
    {
     "name": "stdout",
     "output_type": "stream",
     "text": [
      "\n",
      "Đánh giá XGBoost với tham số {'n_estimators': 50, 'max_depth': 3, 'learning_rate': 0.01, 'subsample': 0.6, 'colsample_bytree': 0.6, 'min_child_weight': 3, 'gamma': 0}:\n",
      "Train RMSE: 1.2576\n",
      "Test RMSE: 1.2193\n",
      "R2 Score (Test): 0.1497\n",
      "Huấn luyện XGBoost tổ hợp 4/128\n"
     ]
    },
    {
     "name": "stderr",
     "output_type": "stream",
     "text": [
      "/usr/local/lib/python3.11/dist-packages/xgboost/sklearn.py:889: UserWarning: `eval_metric` in `fit` method is deprecated for better compatibility with scikit-learn, use `eval_metric` in constructor or`set_params` instead.\n",
      "  warnings.warn(\n"
     ]
    },
    {
     "name": "stdout",
     "output_type": "stream",
     "text": [
      "\n",
      "Đánh giá XGBoost với tham số {'n_estimators': 50, 'max_depth': 3, 'learning_rate': 0.01, 'subsample': 0.6, 'colsample_bytree': 0.6, 'min_child_weight': 3, 'gamma': 0.1}:\n",
      "Train RMSE: 1.2576\n",
      "Test RMSE: 1.2193\n",
      "R2 Score (Test): 0.1497\n",
      "Huấn luyện XGBoost tổ hợp 5/128\n"
     ]
    },
    {
     "name": "stderr",
     "output_type": "stream",
     "text": [
      "/usr/local/lib/python3.11/dist-packages/xgboost/sklearn.py:889: UserWarning: `eval_metric` in `fit` method is deprecated for better compatibility with scikit-learn, use `eval_metric` in constructor or`set_params` instead.\n",
      "  warnings.warn(\n"
     ]
    },
    {
     "name": "stdout",
     "output_type": "stream",
     "text": [
      "\n",
      "Đánh giá XGBoost với tham số {'n_estimators': 50, 'max_depth': 3, 'learning_rate': 0.01, 'subsample': 0.6, 'colsample_bytree': 1.0, 'min_child_weight': 1, 'gamma': 0}:\n",
      "Train RMSE: 1.2542\n",
      "Test RMSE: 1.2152\n",
      "R2 Score (Test): 0.1554\n",
      "Huấn luyện XGBoost tổ hợp 6/128\n"
     ]
    },
    {
     "name": "stderr",
     "output_type": "stream",
     "text": [
      "/usr/local/lib/python3.11/dist-packages/xgboost/sklearn.py:889: UserWarning: `eval_metric` in `fit` method is deprecated for better compatibility with scikit-learn, use `eval_metric` in constructor or`set_params` instead.\n",
      "  warnings.warn(\n"
     ]
    },
    {
     "name": "stdout",
     "output_type": "stream",
     "text": [
      "\n",
      "Đánh giá XGBoost với tham số {'n_estimators': 50, 'max_depth': 3, 'learning_rate': 0.01, 'subsample': 0.6, 'colsample_bytree': 1.0, 'min_child_weight': 1, 'gamma': 0.1}:\n",
      "Train RMSE: 1.2542\n",
      "Test RMSE: 1.2152\n",
      "R2 Score (Test): 0.1554\n",
      "Huấn luyện XGBoost tổ hợp 7/128\n"
     ]
    },
    {
     "name": "stderr",
     "output_type": "stream",
     "text": [
      "/usr/local/lib/python3.11/dist-packages/xgboost/sklearn.py:889: UserWarning: `eval_metric` in `fit` method is deprecated for better compatibility with scikit-learn, use `eval_metric` in constructor or`set_params` instead.\n",
      "  warnings.warn(\n"
     ]
    },
    {
     "name": "stdout",
     "output_type": "stream",
     "text": [
      "\n",
      "Đánh giá XGBoost với tham số {'n_estimators': 50, 'max_depth': 3, 'learning_rate': 0.01, 'subsample': 0.6, 'colsample_bytree': 1.0, 'min_child_weight': 3, 'gamma': 0}:\n",
      "Train RMSE: 1.2542\n",
      "Test RMSE: 1.2152\n",
      "R2 Score (Test): 0.1554\n",
      "Huấn luyện XGBoost tổ hợp 8/128\n"
     ]
    },
    {
     "name": "stderr",
     "output_type": "stream",
     "text": [
      "/usr/local/lib/python3.11/dist-packages/xgboost/sklearn.py:889: UserWarning: `eval_metric` in `fit` method is deprecated for better compatibility with scikit-learn, use `eval_metric` in constructor or`set_params` instead.\n",
      "  warnings.warn(\n"
     ]
    },
    {
     "name": "stdout",
     "output_type": "stream",
     "text": [
      "\n",
      "Đánh giá XGBoost với tham số {'n_estimators': 50, 'max_depth': 3, 'learning_rate': 0.01, 'subsample': 0.6, 'colsample_bytree': 1.0, 'min_child_weight': 3, 'gamma': 0.1}:\n",
      "Train RMSE: 1.2542\n",
      "Test RMSE: 1.2152\n",
      "R2 Score (Test): 0.1554\n",
      "Huấn luyện XGBoost tổ hợp 9/128\n"
     ]
    },
    {
     "name": "stderr",
     "output_type": "stream",
     "text": [
      "/usr/local/lib/python3.11/dist-packages/xgboost/sklearn.py:889: UserWarning: `eval_metric` in `fit` method is deprecated for better compatibility with scikit-learn, use `eval_metric` in constructor or`set_params` instead.\n",
      "  warnings.warn(\n"
     ]
    },
    {
     "name": "stdout",
     "output_type": "stream",
     "text": [
      "\n",
      "Đánh giá XGBoost với tham số {'n_estimators': 50, 'max_depth': 3, 'learning_rate': 0.01, 'subsample': 1.0, 'colsample_bytree': 0.6, 'min_child_weight': 1, 'gamma': 0}:\n",
      "Train RMSE: 1.2573\n",
      "Test RMSE: 1.2184\n",
      "R2 Score (Test): 0.1509\n",
      "Huấn luyện XGBoost tổ hợp 10/128\n"
     ]
    },
    {
     "name": "stderr",
     "output_type": "stream",
     "text": [
      "/usr/local/lib/python3.11/dist-packages/xgboost/sklearn.py:889: UserWarning: `eval_metric` in `fit` method is deprecated for better compatibility with scikit-learn, use `eval_metric` in constructor or`set_params` instead.\n",
      "  warnings.warn(\n"
     ]
    },
    {
     "name": "stdout",
     "output_type": "stream",
     "text": [
      "\n",
      "Đánh giá XGBoost với tham số {'n_estimators': 50, 'max_depth': 3, 'learning_rate': 0.01, 'subsample': 1.0, 'colsample_bytree': 0.6, 'min_child_weight': 1, 'gamma': 0.1}:\n",
      "Train RMSE: 1.2573\n",
      "Test RMSE: 1.2184\n",
      "R2 Score (Test): 0.1509\n",
      "Huấn luyện XGBoost tổ hợp 11/128\n"
     ]
    },
    {
     "name": "stderr",
     "output_type": "stream",
     "text": [
      "/usr/local/lib/python3.11/dist-packages/xgboost/sklearn.py:889: UserWarning: `eval_metric` in `fit` method is deprecated for better compatibility with scikit-learn, use `eval_metric` in constructor or`set_params` instead.\n",
      "  warnings.warn(\n"
     ]
    },
    {
     "name": "stdout",
     "output_type": "stream",
     "text": [
      "\n",
      "Đánh giá XGBoost với tham số {'n_estimators': 50, 'max_depth': 3, 'learning_rate': 0.01, 'subsample': 1.0, 'colsample_bytree': 0.6, 'min_child_weight': 3, 'gamma': 0}:\n",
      "Train RMSE: 1.2573\n",
      "Test RMSE: 1.2184\n",
      "R2 Score (Test): 0.1509\n",
      "Huấn luyện XGBoost tổ hợp 12/128\n"
     ]
    },
    {
     "name": "stderr",
     "output_type": "stream",
     "text": [
      "/usr/local/lib/python3.11/dist-packages/xgboost/sklearn.py:889: UserWarning: `eval_metric` in `fit` method is deprecated for better compatibility with scikit-learn, use `eval_metric` in constructor or`set_params` instead.\n",
      "  warnings.warn(\n"
     ]
    },
    {
     "name": "stdout",
     "output_type": "stream",
     "text": [
      "\n",
      "Đánh giá XGBoost với tham số {'n_estimators': 50, 'max_depth': 3, 'learning_rate': 0.01, 'subsample': 1.0, 'colsample_bytree': 0.6, 'min_child_weight': 3, 'gamma': 0.1}:\n",
      "Train RMSE: 1.2573\n",
      "Test RMSE: 1.2184\n",
      "R2 Score (Test): 0.1509\n",
      "Huấn luyện XGBoost tổ hợp 13/128\n"
     ]
    },
    {
     "name": "stderr",
     "output_type": "stream",
     "text": [
      "/usr/local/lib/python3.11/dist-packages/xgboost/sklearn.py:889: UserWarning: `eval_metric` in `fit` method is deprecated for better compatibility with scikit-learn, use `eval_metric` in constructor or`set_params` instead.\n",
      "  warnings.warn(\n"
     ]
    },
    {
     "name": "stdout",
     "output_type": "stream",
     "text": [
      "\n",
      "Đánh giá XGBoost với tham số {'n_estimators': 50, 'max_depth': 3, 'learning_rate': 0.01, 'subsample': 1.0, 'colsample_bytree': 1.0, 'min_child_weight': 1, 'gamma': 0}:\n",
      "Train RMSE: 1.2538\n",
      "Test RMSE: 1.2132\n",
      "R2 Score (Test): 0.1581\n",
      "Huấn luyện XGBoost tổ hợp 14/128\n"
     ]
    },
    {
     "name": "stderr",
     "output_type": "stream",
     "text": [
      "/usr/local/lib/python3.11/dist-packages/xgboost/sklearn.py:889: UserWarning: `eval_metric` in `fit` method is deprecated for better compatibility with scikit-learn, use `eval_metric` in constructor or`set_params` instead.\n",
      "  warnings.warn(\n"
     ]
    },
    {
     "name": "stdout",
     "output_type": "stream",
     "text": [
      "\n",
      "Đánh giá XGBoost với tham số {'n_estimators': 50, 'max_depth': 3, 'learning_rate': 0.01, 'subsample': 1.0, 'colsample_bytree': 1.0, 'min_child_weight': 1, 'gamma': 0.1}:\n",
      "Train RMSE: 1.2538\n",
      "Test RMSE: 1.2132\n",
      "R2 Score (Test): 0.1581\n",
      "Huấn luyện XGBoost tổ hợp 15/128\n"
     ]
    },
    {
     "name": "stderr",
     "output_type": "stream",
     "text": [
      "/usr/local/lib/python3.11/dist-packages/xgboost/sklearn.py:889: UserWarning: `eval_metric` in `fit` method is deprecated for better compatibility with scikit-learn, use `eval_metric` in constructor or`set_params` instead.\n",
      "  warnings.warn(\n"
     ]
    },
    {
     "name": "stdout",
     "output_type": "stream",
     "text": [
      "\n",
      "Đánh giá XGBoost với tham số {'n_estimators': 50, 'max_depth': 3, 'learning_rate': 0.01, 'subsample': 1.0, 'colsample_bytree': 1.0, 'min_child_weight': 3, 'gamma': 0}:\n",
      "Train RMSE: 1.2538\n",
      "Test RMSE: 1.2132\n",
      "R2 Score (Test): 0.1581\n",
      "Huấn luyện XGBoost tổ hợp 16/128\n"
     ]
    },
    {
     "name": "stderr",
     "output_type": "stream",
     "text": [
      "/usr/local/lib/python3.11/dist-packages/xgboost/sklearn.py:889: UserWarning: `eval_metric` in `fit` method is deprecated for better compatibility with scikit-learn, use `eval_metric` in constructor or`set_params` instead.\n",
      "  warnings.warn(\n"
     ]
    },
    {
     "name": "stdout",
     "output_type": "stream",
     "text": [
      "\n",
      "Đánh giá XGBoost với tham số {'n_estimators': 50, 'max_depth': 3, 'learning_rate': 0.01, 'subsample': 1.0, 'colsample_bytree': 1.0, 'min_child_weight': 3, 'gamma': 0.1}:\n",
      "Train RMSE: 1.2538\n",
      "Test RMSE: 1.2132\n",
      "R2 Score (Test): 0.1581\n",
      "Huấn luyện XGBoost tổ hợp 17/128\n"
     ]
    },
    {
     "name": "stderr",
     "output_type": "stream",
     "text": [
      "/usr/local/lib/python3.11/dist-packages/xgboost/sklearn.py:889: UserWarning: `eval_metric` in `fit` method is deprecated for better compatibility with scikit-learn, use `eval_metric` in constructor or`set_params` instead.\n",
      "  warnings.warn(\n"
     ]
    },
    {
     "name": "stdout",
     "output_type": "stream",
     "text": [
      "\n",
      "Đánh giá XGBoost với tham số {'n_estimators': 50, 'max_depth': 3, 'learning_rate': 0.1, 'subsample': 0.6, 'colsample_bytree': 0.6, 'min_child_weight': 1, 'gamma': 0}:\n",
      "Train RMSE: 1.0265\n",
      "Test RMSE: 1.0217\n",
      "R2 Score (Test): 0.4030\n",
      "Huấn luyện XGBoost tổ hợp 18/128\n"
     ]
    },
    {
     "name": "stderr",
     "output_type": "stream",
     "text": [
      "/usr/local/lib/python3.11/dist-packages/xgboost/sklearn.py:889: UserWarning: `eval_metric` in `fit` method is deprecated for better compatibility with scikit-learn, use `eval_metric` in constructor or`set_params` instead.\n",
      "  warnings.warn(\n"
     ]
    },
    {
     "name": "stdout",
     "output_type": "stream",
     "text": [
      "\n",
      "Đánh giá XGBoost với tham số {'n_estimators': 50, 'max_depth': 3, 'learning_rate': 0.1, 'subsample': 0.6, 'colsample_bytree': 0.6, 'min_child_weight': 1, 'gamma': 0.1}:\n",
      "Train RMSE: 1.0265\n",
      "Test RMSE: 1.0217\n",
      "R2 Score (Test): 0.4030\n",
      "Huấn luyện XGBoost tổ hợp 19/128\n"
     ]
    },
    {
     "name": "stderr",
     "output_type": "stream",
     "text": [
      "/usr/local/lib/python3.11/dist-packages/xgboost/sklearn.py:889: UserWarning: `eval_metric` in `fit` method is deprecated for better compatibility with scikit-learn, use `eval_metric` in constructor or`set_params` instead.\n",
      "  warnings.warn(\n"
     ]
    },
    {
     "name": "stdout",
     "output_type": "stream",
     "text": [
      "\n",
      "Đánh giá XGBoost với tham số {'n_estimators': 50, 'max_depth': 3, 'learning_rate': 0.1, 'subsample': 0.6, 'colsample_bytree': 0.6, 'min_child_weight': 3, 'gamma': 0}:\n",
      "Train RMSE: 1.0313\n",
      "Test RMSE: 1.0194\n",
      "R2 Score (Test): 0.4057\n",
      "Huấn luyện XGBoost tổ hợp 20/128\n"
     ]
    },
    {
     "name": "stderr",
     "output_type": "stream",
     "text": [
      "/usr/local/lib/python3.11/dist-packages/xgboost/sklearn.py:889: UserWarning: `eval_metric` in `fit` method is deprecated for better compatibility with scikit-learn, use `eval_metric` in constructor or`set_params` instead.\n",
      "  warnings.warn(\n"
     ]
    },
    {
     "name": "stdout",
     "output_type": "stream",
     "text": [
      "\n",
      "Đánh giá XGBoost với tham số {'n_estimators': 50, 'max_depth': 3, 'learning_rate': 0.1, 'subsample': 0.6, 'colsample_bytree': 0.6, 'min_child_weight': 3, 'gamma': 0.1}:\n",
      "Train RMSE: 1.0313\n",
      "Test RMSE: 1.0194\n",
      "R2 Score (Test): 0.4057\n",
      "Huấn luyện XGBoost tổ hợp 21/128\n"
     ]
    },
    {
     "name": "stderr",
     "output_type": "stream",
     "text": [
      "/usr/local/lib/python3.11/dist-packages/xgboost/sklearn.py:889: UserWarning: `eval_metric` in `fit` method is deprecated for better compatibility with scikit-learn, use `eval_metric` in constructor or`set_params` instead.\n",
      "  warnings.warn(\n"
     ]
    },
    {
     "name": "stdout",
     "output_type": "stream",
     "text": [
      "\n",
      "Đánh giá XGBoost với tham số {'n_estimators': 50, 'max_depth': 3, 'learning_rate': 0.1, 'subsample': 0.6, 'colsample_bytree': 1.0, 'min_child_weight': 1, 'gamma': 0}:\n",
      "Train RMSE: 1.0133\n",
      "Test RMSE: 1.0106\n",
      "R2 Score (Test): 0.4158\n",
      "Huấn luyện XGBoost tổ hợp 22/128\n"
     ]
    },
    {
     "name": "stderr",
     "output_type": "stream",
     "text": [
      "/usr/local/lib/python3.11/dist-packages/xgboost/sklearn.py:889: UserWarning: `eval_metric` in `fit` method is deprecated for better compatibility with scikit-learn, use `eval_metric` in constructor or`set_params` instead.\n",
      "  warnings.warn(\n"
     ]
    },
    {
     "name": "stdout",
     "output_type": "stream",
     "text": [
      "\n",
      "Đánh giá XGBoost với tham số {'n_estimators': 50, 'max_depth': 3, 'learning_rate': 0.1, 'subsample': 0.6, 'colsample_bytree': 1.0, 'min_child_weight': 1, 'gamma': 0.1}:\n",
      "Train RMSE: 1.0133\n",
      "Test RMSE: 1.0106\n",
      "R2 Score (Test): 0.4158\n",
      "Huấn luyện XGBoost tổ hợp 23/128\n"
     ]
    },
    {
     "name": "stderr",
     "output_type": "stream",
     "text": [
      "/usr/local/lib/python3.11/dist-packages/xgboost/sklearn.py:889: UserWarning: `eval_metric` in `fit` method is deprecated for better compatibility with scikit-learn, use `eval_metric` in constructor or`set_params` instead.\n",
      "  warnings.warn(\n"
     ]
    },
    {
     "name": "stdout",
     "output_type": "stream",
     "text": [
      "\n",
      "Đánh giá XGBoost với tham số {'n_estimators': 50, 'max_depth': 3, 'learning_rate': 0.1, 'subsample': 0.6, 'colsample_bytree': 1.0, 'min_child_weight': 3, 'gamma': 0}:\n",
      "Train RMSE: 1.0132\n",
      "Test RMSE: 1.0113\n",
      "R2 Score (Test): 0.4151\n",
      "Huấn luyện XGBoost tổ hợp 24/128\n"
     ]
    },
    {
     "name": "stderr",
     "output_type": "stream",
     "text": [
      "/usr/local/lib/python3.11/dist-packages/xgboost/sklearn.py:889: UserWarning: `eval_metric` in `fit` method is deprecated for better compatibility with scikit-learn, use `eval_metric` in constructor or`set_params` instead.\n",
      "  warnings.warn(\n"
     ]
    },
    {
     "name": "stdout",
     "output_type": "stream",
     "text": [
      "\n",
      "Đánh giá XGBoost với tham số {'n_estimators': 50, 'max_depth': 3, 'learning_rate': 0.1, 'subsample': 0.6, 'colsample_bytree': 1.0, 'min_child_weight': 3, 'gamma': 0.1}:\n",
      "Train RMSE: 1.0132\n",
      "Test RMSE: 1.0113\n",
      "R2 Score (Test): 0.4151\n",
      "Huấn luyện XGBoost tổ hợp 25/128\n"
     ]
    },
    {
     "name": "stderr",
     "output_type": "stream",
     "text": [
      "/usr/local/lib/python3.11/dist-packages/xgboost/sklearn.py:889: UserWarning: `eval_metric` in `fit` method is deprecated for better compatibility with scikit-learn, use `eval_metric` in constructor or`set_params` instead.\n",
      "  warnings.warn(\n"
     ]
    },
    {
     "name": "stdout",
     "output_type": "stream",
     "text": [
      "\n",
      "Đánh giá XGBoost với tham số {'n_estimators': 50, 'max_depth': 3, 'learning_rate': 0.1, 'subsample': 1.0, 'colsample_bytree': 0.6, 'min_child_weight': 1, 'gamma': 0}:\n",
      "Train RMSE: 1.0390\n",
      "Test RMSE: 1.0308\n",
      "R2 Score (Test): 0.3923\n",
      "Huấn luyện XGBoost tổ hợp 26/128\n"
     ]
    },
    {
     "name": "stderr",
     "output_type": "stream",
     "text": [
      "/usr/local/lib/python3.11/dist-packages/xgboost/sklearn.py:889: UserWarning: `eval_metric` in `fit` method is deprecated for better compatibility with scikit-learn, use `eval_metric` in constructor or`set_params` instead.\n",
      "  warnings.warn(\n"
     ]
    },
    {
     "name": "stdout",
     "output_type": "stream",
     "text": [
      "\n",
      "Đánh giá XGBoost với tham số {'n_estimators': 50, 'max_depth': 3, 'learning_rate': 0.1, 'subsample': 1.0, 'colsample_bytree': 0.6, 'min_child_weight': 1, 'gamma': 0.1}:\n",
      "Train RMSE: 1.0390\n",
      "Test RMSE: 1.0308\n",
      "R2 Score (Test): 0.3923\n",
      "Huấn luyện XGBoost tổ hợp 27/128\n"
     ]
    },
    {
     "name": "stderr",
     "output_type": "stream",
     "text": [
      "/usr/local/lib/python3.11/dist-packages/xgboost/sklearn.py:889: UserWarning: `eval_metric` in `fit` method is deprecated for better compatibility with scikit-learn, use `eval_metric` in constructor or`set_params` instead.\n",
      "  warnings.warn(\n"
     ]
    },
    {
     "name": "stdout",
     "output_type": "stream",
     "text": [
      "\n",
      "Đánh giá XGBoost với tham số {'n_estimators': 50, 'max_depth': 3, 'learning_rate': 0.1, 'subsample': 1.0, 'colsample_bytree': 0.6, 'min_child_weight': 3, 'gamma': 0}:\n",
      "Train RMSE: 1.0390\n",
      "Test RMSE: 1.0308\n",
      "R2 Score (Test): 0.3923\n",
      "Huấn luyện XGBoost tổ hợp 28/128\n"
     ]
    },
    {
     "name": "stderr",
     "output_type": "stream",
     "text": [
      "/usr/local/lib/python3.11/dist-packages/xgboost/sklearn.py:889: UserWarning: `eval_metric` in `fit` method is deprecated for better compatibility with scikit-learn, use `eval_metric` in constructor or`set_params` instead.\n",
      "  warnings.warn(\n"
     ]
    },
    {
     "name": "stdout",
     "output_type": "stream",
     "text": [
      "\n",
      "Đánh giá XGBoost với tham số {'n_estimators': 50, 'max_depth': 3, 'learning_rate': 0.1, 'subsample': 1.0, 'colsample_bytree': 0.6, 'min_child_weight': 3, 'gamma': 0.1}:\n",
      "Train RMSE: 1.0390\n",
      "Test RMSE: 1.0308\n",
      "R2 Score (Test): 0.3923\n",
      "Huấn luyện XGBoost tổ hợp 29/128\n"
     ]
    },
    {
     "name": "stderr",
     "output_type": "stream",
     "text": [
      "/usr/local/lib/python3.11/dist-packages/xgboost/sklearn.py:889: UserWarning: `eval_metric` in `fit` method is deprecated for better compatibility with scikit-learn, use `eval_metric` in constructor or`set_params` instead.\n",
      "  warnings.warn(\n"
     ]
    },
    {
     "name": "stdout",
     "output_type": "stream",
     "text": [
      "\n",
      "Đánh giá XGBoost với tham số {'n_estimators': 50, 'max_depth': 3, 'learning_rate': 0.1, 'subsample': 1.0, 'colsample_bytree': 1.0, 'min_child_weight': 1, 'gamma': 0}:\n",
      "Train RMSE: 1.0215\n",
      "Test RMSE: 1.0197\n",
      "R2 Score (Test): 0.4053\n",
      "Huấn luyện XGBoost tổ hợp 30/128\n"
     ]
    },
    {
     "name": "stderr",
     "output_type": "stream",
     "text": [
      "/usr/local/lib/python3.11/dist-packages/xgboost/sklearn.py:889: UserWarning: `eval_metric` in `fit` method is deprecated for better compatibility with scikit-learn, use `eval_metric` in constructor or`set_params` instead.\n",
      "  warnings.warn(\n"
     ]
    },
    {
     "name": "stdout",
     "output_type": "stream",
     "text": [
      "\n",
      "Đánh giá XGBoost với tham số {'n_estimators': 50, 'max_depth': 3, 'learning_rate': 0.1, 'subsample': 1.0, 'colsample_bytree': 1.0, 'min_child_weight': 1, 'gamma': 0.1}:\n",
      "Train RMSE: 1.0215\n",
      "Test RMSE: 1.0197\n",
      "R2 Score (Test): 0.4053\n",
      "Huấn luyện XGBoost tổ hợp 31/128\n"
     ]
    },
    {
     "name": "stderr",
     "output_type": "stream",
     "text": [
      "/usr/local/lib/python3.11/dist-packages/xgboost/sklearn.py:889: UserWarning: `eval_metric` in `fit` method is deprecated for better compatibility with scikit-learn, use `eval_metric` in constructor or`set_params` instead.\n",
      "  warnings.warn(\n"
     ]
    },
    {
     "name": "stdout",
     "output_type": "stream",
     "text": [
      "\n",
      "Đánh giá XGBoost với tham số {'n_estimators': 50, 'max_depth': 3, 'learning_rate': 0.1, 'subsample': 1.0, 'colsample_bytree': 1.0, 'min_child_weight': 3, 'gamma': 0}:\n",
      "Train RMSE: 1.0215\n",
      "Test RMSE: 1.0197\n",
      "R2 Score (Test): 0.4053\n",
      "Huấn luyện XGBoost tổ hợp 32/128\n"
     ]
    },
    {
     "name": "stderr",
     "output_type": "stream",
     "text": [
      "/usr/local/lib/python3.11/dist-packages/xgboost/sklearn.py:889: UserWarning: `eval_metric` in `fit` method is deprecated for better compatibility with scikit-learn, use `eval_metric` in constructor or`set_params` instead.\n",
      "  warnings.warn(\n"
     ]
    },
    {
     "name": "stdout",
     "output_type": "stream",
     "text": [
      "\n",
      "Đánh giá XGBoost với tham số {'n_estimators': 50, 'max_depth': 3, 'learning_rate': 0.1, 'subsample': 1.0, 'colsample_bytree': 1.0, 'min_child_weight': 3, 'gamma': 0.1}:\n",
      "Train RMSE: 1.0215\n",
      "Test RMSE: 1.0197\n",
      "R2 Score (Test): 0.4053\n",
      "Huấn luyện XGBoost tổ hợp 33/128\n"
     ]
    },
    {
     "name": "stderr",
     "output_type": "stream",
     "text": [
      "/usr/local/lib/python3.11/dist-packages/xgboost/sklearn.py:889: UserWarning: `eval_metric` in `fit` method is deprecated for better compatibility with scikit-learn, use `eval_metric` in constructor or`set_params` instead.\n",
      "  warnings.warn(\n"
     ]
    },
    {
     "name": "stdout",
     "output_type": "stream",
     "text": [
      "\n",
      "Đánh giá XGBoost với tham số {'n_estimators': 50, 'max_depth': 6, 'learning_rate': 0.01, 'subsample': 0.6, 'colsample_bytree': 0.6, 'min_child_weight': 1, 'gamma': 0}:\n",
      "Train RMSE: 1.1416\n",
      "Test RMSE: 1.1212\n",
      "R2 Score (Test): 0.2811\n",
      "Huấn luyện XGBoost tổ hợp 34/128\n"
     ]
    },
    {
     "name": "stderr",
     "output_type": "stream",
     "text": [
      "/usr/local/lib/python3.11/dist-packages/xgboost/sklearn.py:889: UserWarning: `eval_metric` in `fit` method is deprecated for better compatibility with scikit-learn, use `eval_metric` in constructor or`set_params` instead.\n",
      "  warnings.warn(\n"
     ]
    },
    {
     "name": "stdout",
     "output_type": "stream",
     "text": [
      "\n",
      "Đánh giá XGBoost với tham số {'n_estimators': 50, 'max_depth': 6, 'learning_rate': 0.01, 'subsample': 0.6, 'colsample_bytree': 0.6, 'min_child_weight': 1, 'gamma': 0.1}:\n",
      "Train RMSE: 1.1416\n",
      "Test RMSE: 1.1212\n",
      "R2 Score (Test): 0.2811\n",
      "Huấn luyện XGBoost tổ hợp 35/128\n"
     ]
    },
    {
     "name": "stderr",
     "output_type": "stream",
     "text": [
      "/usr/local/lib/python3.11/dist-packages/xgboost/sklearn.py:889: UserWarning: `eval_metric` in `fit` method is deprecated for better compatibility with scikit-learn, use `eval_metric` in constructor or`set_params` instead.\n",
      "  warnings.warn(\n"
     ]
    },
    {
     "name": "stdout",
     "output_type": "stream",
     "text": [
      "\n",
      "Đánh giá XGBoost với tham số {'n_estimators': 50, 'max_depth': 6, 'learning_rate': 0.01, 'subsample': 0.6, 'colsample_bytree': 0.6, 'min_child_weight': 3, 'gamma': 0}:\n",
      "Train RMSE: 1.1421\n",
      "Test RMSE: 1.1217\n",
      "R2 Score (Test): 0.2803\n",
      "Huấn luyện XGBoost tổ hợp 36/128\n"
     ]
    },
    {
     "name": "stderr",
     "output_type": "stream",
     "text": [
      "/usr/local/lib/python3.11/dist-packages/xgboost/sklearn.py:889: UserWarning: `eval_metric` in `fit` method is deprecated for better compatibility with scikit-learn, use `eval_metric` in constructor or`set_params` instead.\n",
      "  warnings.warn(\n"
     ]
    },
    {
     "name": "stdout",
     "output_type": "stream",
     "text": [
      "\n",
      "Đánh giá XGBoost với tham số {'n_estimators': 50, 'max_depth': 6, 'learning_rate': 0.01, 'subsample': 0.6, 'colsample_bytree': 0.6, 'min_child_weight': 3, 'gamma': 0.1}:\n",
      "Train RMSE: 1.1421\n",
      "Test RMSE: 1.1217\n",
      "R2 Score (Test): 0.2803\n",
      "Huấn luyện XGBoost tổ hợp 37/128\n"
     ]
    },
    {
     "name": "stderr",
     "output_type": "stream",
     "text": [
      "/usr/local/lib/python3.11/dist-packages/xgboost/sklearn.py:889: UserWarning: `eval_metric` in `fit` method is deprecated for better compatibility with scikit-learn, use `eval_metric` in constructor or`set_params` instead.\n",
      "  warnings.warn(\n"
     ]
    },
    {
     "name": "stdout",
     "output_type": "stream",
     "text": [
      "\n",
      "Đánh giá XGBoost với tham số {'n_estimators': 50, 'max_depth': 6, 'learning_rate': 0.01, 'subsample': 0.6, 'colsample_bytree': 1.0, 'min_child_weight': 1, 'gamma': 0}:\n",
      "Train RMSE: 1.1313\n",
      "Test RMSE: 1.1101\n",
      "R2 Score (Test): 0.2952\n",
      "Huấn luyện XGBoost tổ hợp 38/128\n"
     ]
    },
    {
     "name": "stderr",
     "output_type": "stream",
     "text": [
      "/usr/local/lib/python3.11/dist-packages/xgboost/sklearn.py:889: UserWarning: `eval_metric` in `fit` method is deprecated for better compatibility with scikit-learn, use `eval_metric` in constructor or`set_params` instead.\n",
      "  warnings.warn(\n"
     ]
    },
    {
     "name": "stdout",
     "output_type": "stream",
     "text": [
      "\n",
      "Đánh giá XGBoost với tham số {'n_estimators': 50, 'max_depth': 6, 'learning_rate': 0.01, 'subsample': 0.6, 'colsample_bytree': 1.0, 'min_child_weight': 1, 'gamma': 0.1}:\n",
      "Train RMSE: 1.1313\n",
      "Test RMSE: 1.1101\n",
      "R2 Score (Test): 0.2952\n",
      "Huấn luyện XGBoost tổ hợp 39/128\n"
     ]
    },
    {
     "name": "stderr",
     "output_type": "stream",
     "text": [
      "/usr/local/lib/python3.11/dist-packages/xgboost/sklearn.py:889: UserWarning: `eval_metric` in `fit` method is deprecated for better compatibility with scikit-learn, use `eval_metric` in constructor or`set_params` instead.\n",
      "  warnings.warn(\n"
     ]
    },
    {
     "name": "stdout",
     "output_type": "stream",
     "text": [
      "\n",
      "Đánh giá XGBoost với tham số {'n_estimators': 50, 'max_depth': 6, 'learning_rate': 0.01, 'subsample': 0.6, 'colsample_bytree': 1.0, 'min_child_weight': 3, 'gamma': 0}:\n",
      "Train RMSE: 1.1321\n",
      "Test RMSE: 1.1109\n",
      "R2 Score (Test): 0.2941\n",
      "Huấn luyện XGBoost tổ hợp 40/128\n"
     ]
    },
    {
     "name": "stderr",
     "output_type": "stream",
     "text": [
      "/usr/local/lib/python3.11/dist-packages/xgboost/sklearn.py:889: UserWarning: `eval_metric` in `fit` method is deprecated for better compatibility with scikit-learn, use `eval_metric` in constructor or`set_params` instead.\n",
      "  warnings.warn(\n"
     ]
    },
    {
     "name": "stdout",
     "output_type": "stream",
     "text": [
      "\n",
      "Đánh giá XGBoost với tham số {'n_estimators': 50, 'max_depth': 6, 'learning_rate': 0.01, 'subsample': 0.6, 'colsample_bytree': 1.0, 'min_child_weight': 3, 'gamma': 0.1}:\n",
      "Train RMSE: 1.1321\n",
      "Test RMSE: 1.1109\n",
      "R2 Score (Test): 0.2941\n",
      "Huấn luyện XGBoost tổ hợp 41/128\n"
     ]
    },
    {
     "name": "stderr",
     "output_type": "stream",
     "text": [
      "/usr/local/lib/python3.11/dist-packages/xgboost/sklearn.py:889: UserWarning: `eval_metric` in `fit` method is deprecated for better compatibility with scikit-learn, use `eval_metric` in constructor or`set_params` instead.\n",
      "  warnings.warn(\n"
     ]
    },
    {
     "name": "stdout",
     "output_type": "stream",
     "text": [
      "\n",
      "Đánh giá XGBoost với tham số {'n_estimators': 50, 'max_depth': 6, 'learning_rate': 0.01, 'subsample': 1.0, 'colsample_bytree': 0.6, 'min_child_weight': 1, 'gamma': 0}:\n",
      "Train RMSE: 1.1352\n",
      "Test RMSE: 1.1181\n",
      "R2 Score (Test): 0.2849\n",
      "Huấn luyện XGBoost tổ hợp 42/128\n"
     ]
    },
    {
     "name": "stderr",
     "output_type": "stream",
     "text": [
      "/usr/local/lib/python3.11/dist-packages/xgboost/sklearn.py:889: UserWarning: `eval_metric` in `fit` method is deprecated for better compatibility with scikit-learn, use `eval_metric` in constructor or`set_params` instead.\n",
      "  warnings.warn(\n"
     ]
    },
    {
     "name": "stdout",
     "output_type": "stream",
     "text": [
      "\n",
      "Đánh giá XGBoost với tham số {'n_estimators': 50, 'max_depth': 6, 'learning_rate': 0.01, 'subsample': 1.0, 'colsample_bytree': 0.6, 'min_child_weight': 1, 'gamma': 0.1}:\n",
      "Train RMSE: 1.1352\n",
      "Test RMSE: 1.1181\n",
      "R2 Score (Test): 0.2849\n",
      "Huấn luyện XGBoost tổ hợp 43/128\n"
     ]
    },
    {
     "name": "stderr",
     "output_type": "stream",
     "text": [
      "/usr/local/lib/python3.11/dist-packages/xgboost/sklearn.py:889: UserWarning: `eval_metric` in `fit` method is deprecated for better compatibility with scikit-learn, use `eval_metric` in constructor or`set_params` instead.\n",
      "  warnings.warn(\n"
     ]
    },
    {
     "name": "stdout",
     "output_type": "stream",
     "text": [
      "\n",
      "Đánh giá XGBoost với tham số {'n_estimators': 50, 'max_depth': 6, 'learning_rate': 0.01, 'subsample': 1.0, 'colsample_bytree': 0.6, 'min_child_weight': 3, 'gamma': 0}:\n",
      "Train RMSE: 1.1355\n",
      "Test RMSE: 1.1186\n",
      "R2 Score (Test): 0.2844\n",
      "Huấn luyện XGBoost tổ hợp 44/128\n"
     ]
    },
    {
     "name": "stderr",
     "output_type": "stream",
     "text": [
      "/usr/local/lib/python3.11/dist-packages/xgboost/sklearn.py:889: UserWarning: `eval_metric` in `fit` method is deprecated for better compatibility with scikit-learn, use `eval_metric` in constructor or`set_params` instead.\n",
      "  warnings.warn(\n"
     ]
    },
    {
     "name": "stdout",
     "output_type": "stream",
     "text": [
      "\n",
      "Đánh giá XGBoost với tham số {'n_estimators': 50, 'max_depth': 6, 'learning_rate': 0.01, 'subsample': 1.0, 'colsample_bytree': 0.6, 'min_child_weight': 3, 'gamma': 0.1}:\n",
      "Train RMSE: 1.1355\n",
      "Test RMSE: 1.1185\n",
      "R2 Score (Test): 0.2844\n",
      "Huấn luyện XGBoost tổ hợp 45/128\n"
     ]
    },
    {
     "name": "stderr",
     "output_type": "stream",
     "text": [
      "/usr/local/lib/python3.11/dist-packages/xgboost/sklearn.py:889: UserWarning: `eval_metric` in `fit` method is deprecated for better compatibility with scikit-learn, use `eval_metric` in constructor or`set_params` instead.\n",
      "  warnings.warn(\n"
     ]
    },
    {
     "name": "stdout",
     "output_type": "stream",
     "text": [
      "\n",
      "Đánh giá XGBoost với tham số {'n_estimators': 50, 'max_depth': 6, 'learning_rate': 0.01, 'subsample': 1.0, 'colsample_bytree': 1.0, 'min_child_weight': 1, 'gamma': 0}:\n",
      "Train RMSE: 1.1287\n",
      "Test RMSE: 1.1090\n",
      "R2 Score (Test): 0.2966\n",
      "Huấn luyện XGBoost tổ hợp 46/128\n"
     ]
    },
    {
     "name": "stderr",
     "output_type": "stream",
     "text": [
      "/usr/local/lib/python3.11/dist-packages/xgboost/sklearn.py:889: UserWarning: `eval_metric` in `fit` method is deprecated for better compatibility with scikit-learn, use `eval_metric` in constructor or`set_params` instead.\n",
      "  warnings.warn(\n"
     ]
    },
    {
     "name": "stdout",
     "output_type": "stream",
     "text": [
      "\n",
      "Đánh giá XGBoost với tham số {'n_estimators': 50, 'max_depth': 6, 'learning_rate': 0.01, 'subsample': 1.0, 'colsample_bytree': 1.0, 'min_child_weight': 1, 'gamma': 0.1}:\n",
      "Train RMSE: 1.1287\n",
      "Test RMSE: 1.1090\n",
      "R2 Score (Test): 0.2966\n",
      "Huấn luyện XGBoost tổ hợp 47/128\n"
     ]
    },
    {
     "name": "stderr",
     "output_type": "stream",
     "text": [
      "/usr/local/lib/python3.11/dist-packages/xgboost/sklearn.py:889: UserWarning: `eval_metric` in `fit` method is deprecated for better compatibility with scikit-learn, use `eval_metric` in constructor or`set_params` instead.\n",
      "  warnings.warn(\n"
     ]
    },
    {
     "name": "stdout",
     "output_type": "stream",
     "text": [
      "\n",
      "Đánh giá XGBoost với tham số {'n_estimators': 50, 'max_depth': 6, 'learning_rate': 0.01, 'subsample': 1.0, 'colsample_bytree': 1.0, 'min_child_weight': 3, 'gamma': 0}:\n",
      "Train RMSE: 1.1291\n",
      "Test RMSE: 1.1092\n",
      "R2 Score (Test): 0.2963\n",
      "Huấn luyện XGBoost tổ hợp 48/128\n"
     ]
    },
    {
     "name": "stderr",
     "output_type": "stream",
     "text": [
      "/usr/local/lib/python3.11/dist-packages/xgboost/sklearn.py:889: UserWarning: `eval_metric` in `fit` method is deprecated for better compatibility with scikit-learn, use `eval_metric` in constructor or`set_params` instead.\n",
      "  warnings.warn(\n"
     ]
    },
    {
     "name": "stdout",
     "output_type": "stream",
     "text": [
      "\n",
      "Đánh giá XGBoost với tham số {'n_estimators': 50, 'max_depth': 6, 'learning_rate': 0.01, 'subsample': 1.0, 'colsample_bytree': 1.0, 'min_child_weight': 3, 'gamma': 0.1}:\n",
      "Train RMSE: 1.1291\n",
      "Test RMSE: 1.1092\n",
      "R2 Score (Test): 0.2963\n",
      "Huấn luyện XGBoost tổ hợp 49/128\n"
     ]
    },
    {
     "name": "stderr",
     "output_type": "stream",
     "text": [
      "/usr/local/lib/python3.11/dist-packages/xgboost/sklearn.py:889: UserWarning: `eval_metric` in `fit` method is deprecated for better compatibility with scikit-learn, use `eval_metric` in constructor or`set_params` instead.\n",
      "  warnings.warn(\n"
     ]
    },
    {
     "name": "stdout",
     "output_type": "stream",
     "text": [
      "\n",
      "Đánh giá XGBoost với tham số {'n_estimators': 50, 'max_depth': 6, 'learning_rate': 0.1, 'subsample': 0.6, 'colsample_bytree': 0.6, 'min_child_weight': 1, 'gamma': 0}:\n",
      "Train RMSE: 0.7537\n",
      "Test RMSE: 0.8120\n",
      "R2 Score (Test): 0.6229\n",
      "Huấn luyện XGBoost tổ hợp 50/128\n"
     ]
    },
    {
     "name": "stderr",
     "output_type": "stream",
     "text": [
      "/usr/local/lib/python3.11/dist-packages/xgboost/sklearn.py:889: UserWarning: `eval_metric` in `fit` method is deprecated for better compatibility with scikit-learn, use `eval_metric` in constructor or`set_params` instead.\n",
      "  warnings.warn(\n"
     ]
    },
    {
     "name": "stdout",
     "output_type": "stream",
     "text": [
      "\n",
      "Đánh giá XGBoost với tham số {'n_estimators': 50, 'max_depth': 6, 'learning_rate': 0.1, 'subsample': 0.6, 'colsample_bytree': 0.6, 'min_child_weight': 1, 'gamma': 0.1}:\n",
      "Train RMSE: 0.7537\n",
      "Test RMSE: 0.8120\n",
      "R2 Score (Test): 0.6229\n",
      "Huấn luyện XGBoost tổ hợp 51/128\n"
     ]
    },
    {
     "name": "stderr",
     "output_type": "stream",
     "text": [
      "/usr/local/lib/python3.11/dist-packages/xgboost/sklearn.py:889: UserWarning: `eval_metric` in `fit` method is deprecated for better compatibility with scikit-learn, use `eval_metric` in constructor or`set_params` instead.\n",
      "  warnings.warn(\n"
     ]
    },
    {
     "name": "stdout",
     "output_type": "stream",
     "text": [
      "\n",
      "Đánh giá XGBoost với tham số {'n_estimators': 50, 'max_depth': 6, 'learning_rate': 0.1, 'subsample': 0.6, 'colsample_bytree': 0.6, 'min_child_weight': 3, 'gamma': 0}:\n",
      "Train RMSE: 0.7646\n",
      "Test RMSE: 0.8149\n",
      "R2 Score (Test): 0.6202\n",
      "Huấn luyện XGBoost tổ hợp 52/128\n"
     ]
    },
    {
     "name": "stderr",
     "output_type": "stream",
     "text": [
      "/usr/local/lib/python3.11/dist-packages/xgboost/sklearn.py:889: UserWarning: `eval_metric` in `fit` method is deprecated for better compatibility with scikit-learn, use `eval_metric` in constructor or`set_params` instead.\n",
      "  warnings.warn(\n"
     ]
    },
    {
     "name": "stdout",
     "output_type": "stream",
     "text": [
      "\n",
      "Đánh giá XGBoost với tham số {'n_estimators': 50, 'max_depth': 6, 'learning_rate': 0.1, 'subsample': 0.6, 'colsample_bytree': 0.6, 'min_child_weight': 3, 'gamma': 0.1}:\n",
      "Train RMSE: 0.7646\n",
      "Test RMSE: 0.8149\n",
      "R2 Score (Test): 0.6202\n",
      "Huấn luyện XGBoost tổ hợp 53/128\n"
     ]
    },
    {
     "name": "stderr",
     "output_type": "stream",
     "text": [
      "/usr/local/lib/python3.11/dist-packages/xgboost/sklearn.py:889: UserWarning: `eval_metric` in `fit` method is deprecated for better compatibility with scikit-learn, use `eval_metric` in constructor or`set_params` instead.\n",
      "  warnings.warn(\n"
     ]
    },
    {
     "name": "stdout",
     "output_type": "stream",
     "text": [
      "\n",
      "Đánh giá XGBoost với tham số {'n_estimators': 50, 'max_depth': 6, 'learning_rate': 0.1, 'subsample': 0.6, 'colsample_bytree': 1.0, 'min_child_weight': 1, 'gamma': 0}:\n",
      "Train RMSE: 0.7387\n",
      "Test RMSE: 0.8017\n",
      "R2 Score (Test): 0.6324\n",
      "Huấn luyện XGBoost tổ hợp 54/128\n"
     ]
    },
    {
     "name": "stderr",
     "output_type": "stream",
     "text": [
      "/usr/local/lib/python3.11/dist-packages/xgboost/sklearn.py:889: UserWarning: `eval_metric` in `fit` method is deprecated for better compatibility with scikit-learn, use `eval_metric` in constructor or`set_params` instead.\n",
      "  warnings.warn(\n"
     ]
    },
    {
     "name": "stdout",
     "output_type": "stream",
     "text": [
      "\n",
      "Đánh giá XGBoost với tham số {'n_estimators': 50, 'max_depth': 6, 'learning_rate': 0.1, 'subsample': 0.6, 'colsample_bytree': 1.0, 'min_child_weight': 1, 'gamma': 0.1}:\n",
      "Train RMSE: 0.7387\n",
      "Test RMSE: 0.8017\n",
      "R2 Score (Test): 0.6324\n",
      "Huấn luyện XGBoost tổ hợp 55/128\n"
     ]
    },
    {
     "name": "stderr",
     "output_type": "stream",
     "text": [
      "/usr/local/lib/python3.11/dist-packages/xgboost/sklearn.py:889: UserWarning: `eval_metric` in `fit` method is deprecated for better compatibility with scikit-learn, use `eval_metric` in constructor or`set_params` instead.\n",
      "  warnings.warn(\n"
     ]
    },
    {
     "name": "stdout",
     "output_type": "stream",
     "text": [
      "\n",
      "Đánh giá XGBoost với tham số {'n_estimators': 50, 'max_depth': 6, 'learning_rate': 0.1, 'subsample': 0.6, 'colsample_bytree': 1.0, 'min_child_weight': 3, 'gamma': 0}:\n",
      "Train RMSE: 0.7437\n",
      "Test RMSE: 0.8037\n",
      "R2 Score (Test): 0.6305\n",
      "Huấn luyện XGBoost tổ hợp 56/128\n"
     ]
    },
    {
     "name": "stderr",
     "output_type": "stream",
     "text": [
      "/usr/local/lib/python3.11/dist-packages/xgboost/sklearn.py:889: UserWarning: `eval_metric` in `fit` method is deprecated for better compatibility with scikit-learn, use `eval_metric` in constructor or`set_params` instead.\n",
      "  warnings.warn(\n"
     ]
    },
    {
     "name": "stdout",
     "output_type": "stream",
     "text": [
      "\n",
      "Đánh giá XGBoost với tham số {'n_estimators': 50, 'max_depth': 6, 'learning_rate': 0.1, 'subsample': 0.6, 'colsample_bytree': 1.0, 'min_child_weight': 3, 'gamma': 0.1}:\n",
      "Train RMSE: 0.7437\n",
      "Test RMSE: 0.8037\n",
      "R2 Score (Test): 0.6305\n",
      "Huấn luyện XGBoost tổ hợp 57/128\n"
     ]
    },
    {
     "name": "stderr",
     "output_type": "stream",
     "text": [
      "/usr/local/lib/python3.11/dist-packages/xgboost/sklearn.py:889: UserWarning: `eval_metric` in `fit` method is deprecated for better compatibility with scikit-learn, use `eval_metric` in constructor or`set_params` instead.\n",
      "  warnings.warn(\n"
     ]
    },
    {
     "name": "stdout",
     "output_type": "stream",
     "text": [
      "\n",
      "Đánh giá XGBoost với tham số {'n_estimators': 50, 'max_depth': 6, 'learning_rate': 0.1, 'subsample': 1.0, 'colsample_bytree': 0.6, 'min_child_weight': 1, 'gamma': 0}:\n",
      "Train RMSE: 0.7573\n",
      "Test RMSE: 0.8161\n",
      "R2 Score (Test): 0.6191\n",
      "Huấn luyện XGBoost tổ hợp 58/128\n"
     ]
    },
    {
     "name": "stderr",
     "output_type": "stream",
     "text": [
      "/usr/local/lib/python3.11/dist-packages/xgboost/sklearn.py:889: UserWarning: `eval_metric` in `fit` method is deprecated for better compatibility with scikit-learn, use `eval_metric` in constructor or`set_params` instead.\n",
      "  warnings.warn(\n"
     ]
    },
    {
     "name": "stdout",
     "output_type": "stream",
     "text": [
      "\n",
      "Đánh giá XGBoost với tham số {'n_estimators': 50, 'max_depth': 6, 'learning_rate': 0.1, 'subsample': 1.0, 'colsample_bytree': 0.6, 'min_child_weight': 1, 'gamma': 0.1}:\n",
      "Train RMSE: 0.7573\n",
      "Test RMSE: 0.8161\n",
      "R2 Score (Test): 0.6191\n",
      "Huấn luyện XGBoost tổ hợp 59/128\n"
     ]
    },
    {
     "name": "stderr",
     "output_type": "stream",
     "text": [
      "/usr/local/lib/python3.11/dist-packages/xgboost/sklearn.py:889: UserWarning: `eval_metric` in `fit` method is deprecated for better compatibility with scikit-learn, use `eval_metric` in constructor or`set_params` instead.\n",
      "  warnings.warn(\n"
     ]
    },
    {
     "name": "stdout",
     "output_type": "stream",
     "text": [
      "\n",
      "Đánh giá XGBoost với tham số {'n_estimators': 50, 'max_depth': 6, 'learning_rate': 0.1, 'subsample': 1.0, 'colsample_bytree': 0.6, 'min_child_weight': 3, 'gamma': 0}:\n",
      "Train RMSE: 0.7635\n",
      "Test RMSE: 0.8089\n",
      "R2 Score (Test): 0.6258\n",
      "Huấn luyện XGBoost tổ hợp 60/128\n"
     ]
    },
    {
     "name": "stderr",
     "output_type": "stream",
     "text": [
      "/usr/local/lib/python3.11/dist-packages/xgboost/sklearn.py:889: UserWarning: `eval_metric` in `fit` method is deprecated for better compatibility with scikit-learn, use `eval_metric` in constructor or`set_params` instead.\n",
      "  warnings.warn(\n"
     ]
    },
    {
     "name": "stdout",
     "output_type": "stream",
     "text": [
      "\n",
      "Đánh giá XGBoost với tham số {'n_estimators': 50, 'max_depth': 6, 'learning_rate': 0.1, 'subsample': 1.0, 'colsample_bytree': 0.6, 'min_child_weight': 3, 'gamma': 0.1}:\n",
      "Train RMSE: 0.7635\n",
      "Test RMSE: 0.8089\n",
      "R2 Score (Test): 0.6258\n",
      "Huấn luyện XGBoost tổ hợp 61/128\n"
     ]
    },
    {
     "name": "stderr",
     "output_type": "stream",
     "text": [
      "/usr/local/lib/python3.11/dist-packages/xgboost/sklearn.py:889: UserWarning: `eval_metric` in `fit` method is deprecated for better compatibility with scikit-learn, use `eval_metric` in constructor or`set_params` instead.\n",
      "  warnings.warn(\n"
     ]
    },
    {
     "name": "stdout",
     "output_type": "stream",
     "text": [
      "\n",
      "Đánh giá XGBoost với tham số {'n_estimators': 50, 'max_depth': 6, 'learning_rate': 0.1, 'subsample': 1.0, 'colsample_bytree': 1.0, 'min_child_weight': 1, 'gamma': 0}:\n",
      "Train RMSE: 0.7413\n",
      "Test RMSE: 0.8148\n",
      "R2 Score (Test): 0.6203\n",
      "Huấn luyện XGBoost tổ hợp 62/128\n"
     ]
    },
    {
     "name": "stderr",
     "output_type": "stream",
     "text": [
      "/usr/local/lib/python3.11/dist-packages/xgboost/sklearn.py:889: UserWarning: `eval_metric` in `fit` method is deprecated for better compatibility with scikit-learn, use `eval_metric` in constructor or`set_params` instead.\n",
      "  warnings.warn(\n"
     ]
    },
    {
     "name": "stdout",
     "output_type": "stream",
     "text": [
      "\n",
      "Đánh giá XGBoost với tham số {'n_estimators': 50, 'max_depth': 6, 'learning_rate': 0.1, 'subsample': 1.0, 'colsample_bytree': 1.0, 'min_child_weight': 1, 'gamma': 0.1}:\n",
      "Train RMSE: 0.7413\n",
      "Test RMSE: 0.8148\n",
      "R2 Score (Test): 0.6203\n",
      "Huấn luyện XGBoost tổ hợp 63/128\n"
     ]
    },
    {
     "name": "stderr",
     "output_type": "stream",
     "text": [
      "/usr/local/lib/python3.11/dist-packages/xgboost/sklearn.py:889: UserWarning: `eval_metric` in `fit` method is deprecated for better compatibility with scikit-learn, use `eval_metric` in constructor or`set_params` instead.\n",
      "  warnings.warn(\n"
     ]
    },
    {
     "name": "stdout",
     "output_type": "stream",
     "text": [
      "\n",
      "Đánh giá XGBoost với tham số {'n_estimators': 50, 'max_depth': 6, 'learning_rate': 0.1, 'subsample': 1.0, 'colsample_bytree': 1.0, 'min_child_weight': 3, 'gamma': 0}:\n",
      "Train RMSE: 0.7426\n",
      "Test RMSE: 0.8046\n",
      "R2 Score (Test): 0.6297\n",
      "Huấn luyện XGBoost tổ hợp 64/128\n"
     ]
    },
    {
     "name": "stderr",
     "output_type": "stream",
     "text": [
      "/usr/local/lib/python3.11/dist-packages/xgboost/sklearn.py:889: UserWarning: `eval_metric` in `fit` method is deprecated for better compatibility with scikit-learn, use `eval_metric` in constructor or`set_params` instead.\n",
      "  warnings.warn(\n"
     ]
    },
    {
     "name": "stdout",
     "output_type": "stream",
     "text": [
      "\n",
      "Đánh giá XGBoost với tham số {'n_estimators': 50, 'max_depth': 6, 'learning_rate': 0.1, 'subsample': 1.0, 'colsample_bytree': 1.0, 'min_child_weight': 3, 'gamma': 0.1}:\n",
      "Train RMSE: 0.7431\n",
      "Test RMSE: 0.8046\n",
      "R2 Score (Test): 0.6297\n",
      "Huấn luyện XGBoost tổ hợp 65/128\n"
     ]
    },
    {
     "name": "stderr",
     "output_type": "stream",
     "text": [
      "/usr/local/lib/python3.11/dist-packages/xgboost/sklearn.py:889: UserWarning: `eval_metric` in `fit` method is deprecated for better compatibility with scikit-learn, use `eval_metric` in constructor or`set_params` instead.\n",
      "  warnings.warn(\n"
     ]
    },
    {
     "name": "stdout",
     "output_type": "stream",
     "text": [
      "\n",
      "Đánh giá XGBoost với tham số {'n_estimators': 100, 'max_depth': 3, 'learning_rate': 0.01, 'subsample': 0.6, 'colsample_bytree': 0.6, 'min_child_weight': 1, 'gamma': 0}:\n",
      "Train RMSE: 1.1918\n",
      "Test RMSE: 1.1619\n",
      "R2 Score (Test): 0.2279\n",
      "Huấn luyện XGBoost tổ hợp 66/128\n"
     ]
    },
    {
     "name": "stderr",
     "output_type": "stream",
     "text": [
      "/usr/local/lib/python3.11/dist-packages/xgboost/sklearn.py:889: UserWarning: `eval_metric` in `fit` method is deprecated for better compatibility with scikit-learn, use `eval_metric` in constructor or`set_params` instead.\n",
      "  warnings.warn(\n"
     ]
    },
    {
     "name": "stdout",
     "output_type": "stream",
     "text": [
      "\n",
      "Đánh giá XGBoost với tham số {'n_estimators': 100, 'max_depth': 3, 'learning_rate': 0.01, 'subsample': 0.6, 'colsample_bytree': 0.6, 'min_child_weight': 1, 'gamma': 0.1}:\n",
      "Train RMSE: 1.1918\n",
      "Test RMSE: 1.1619\n",
      "R2 Score (Test): 0.2279\n",
      "Huấn luyện XGBoost tổ hợp 67/128\n"
     ]
    },
    {
     "name": "stderr",
     "output_type": "stream",
     "text": [
      "/usr/local/lib/python3.11/dist-packages/xgboost/sklearn.py:889: UserWarning: `eval_metric` in `fit` method is deprecated for better compatibility with scikit-learn, use `eval_metric` in constructor or`set_params` instead.\n",
      "  warnings.warn(\n"
     ]
    },
    {
     "name": "stdout",
     "output_type": "stream",
     "text": [
      "\n",
      "Đánh giá XGBoost với tham số {'n_estimators': 100, 'max_depth': 3, 'learning_rate': 0.01, 'subsample': 0.6, 'colsample_bytree': 0.6, 'min_child_weight': 3, 'gamma': 0}:\n",
      "Train RMSE: 1.1918\n",
      "Test RMSE: 1.1619\n",
      "R2 Score (Test): 0.2279\n",
      "Huấn luyện XGBoost tổ hợp 68/128\n"
     ]
    },
    {
     "name": "stderr",
     "output_type": "stream",
     "text": [
      "/usr/local/lib/python3.11/dist-packages/xgboost/sklearn.py:889: UserWarning: `eval_metric` in `fit` method is deprecated for better compatibility with scikit-learn, use `eval_metric` in constructor or`set_params` instead.\n",
      "  warnings.warn(\n"
     ]
    },
    {
     "name": "stdout",
     "output_type": "stream",
     "text": [
      "\n",
      "Đánh giá XGBoost với tham số {'n_estimators': 100, 'max_depth': 3, 'learning_rate': 0.01, 'subsample': 0.6, 'colsample_bytree': 0.6, 'min_child_weight': 3, 'gamma': 0.1}:\n",
      "Train RMSE: 1.1918\n",
      "Test RMSE: 1.1619\n",
      "R2 Score (Test): 0.2279\n",
      "Huấn luyện XGBoost tổ hợp 69/128\n"
     ]
    },
    {
     "name": "stderr",
     "output_type": "stream",
     "text": [
      "/usr/local/lib/python3.11/dist-packages/xgboost/sklearn.py:889: UserWarning: `eval_metric` in `fit` method is deprecated for better compatibility with scikit-learn, use `eval_metric` in constructor or`set_params` instead.\n",
      "  warnings.warn(\n"
     ]
    },
    {
     "name": "stdout",
     "output_type": "stream",
     "text": [
      "\n",
      "Đánh giá XGBoost với tham số {'n_estimators': 100, 'max_depth': 3, 'learning_rate': 0.01, 'subsample': 0.6, 'colsample_bytree': 1.0, 'min_child_weight': 1, 'gamma': 0}:\n",
      "Train RMSE: 1.1869\n",
      "Test RMSE: 1.1556\n",
      "R2 Score (Test): 0.2362\n",
      "Huấn luyện XGBoost tổ hợp 70/128\n"
     ]
    },
    {
     "name": "stderr",
     "output_type": "stream",
     "text": [
      "/usr/local/lib/python3.11/dist-packages/xgboost/sklearn.py:889: UserWarning: `eval_metric` in `fit` method is deprecated for better compatibility with scikit-learn, use `eval_metric` in constructor or`set_params` instead.\n",
      "  warnings.warn(\n"
     ]
    },
    {
     "name": "stdout",
     "output_type": "stream",
     "text": [
      "\n",
      "Đánh giá XGBoost với tham số {'n_estimators': 100, 'max_depth': 3, 'learning_rate': 0.01, 'subsample': 0.6, 'colsample_bytree': 1.0, 'min_child_weight': 1, 'gamma': 0.1}:\n",
      "Train RMSE: 1.1869\n",
      "Test RMSE: 1.1556\n",
      "R2 Score (Test): 0.2362\n",
      "Huấn luyện XGBoost tổ hợp 71/128\n"
     ]
    },
    {
     "name": "stderr",
     "output_type": "stream",
     "text": [
      "/usr/local/lib/python3.11/dist-packages/xgboost/sklearn.py:889: UserWarning: `eval_metric` in `fit` method is deprecated for better compatibility with scikit-learn, use `eval_metric` in constructor or`set_params` instead.\n",
      "  warnings.warn(\n"
     ]
    },
    {
     "name": "stdout",
     "output_type": "stream",
     "text": [
      "\n",
      "Đánh giá XGBoost với tham số {'n_estimators': 100, 'max_depth': 3, 'learning_rate': 0.01, 'subsample': 0.6, 'colsample_bytree': 1.0, 'min_child_weight': 3, 'gamma': 0}:\n",
      "Train RMSE: 1.1869\n",
      "Test RMSE: 1.1556\n",
      "R2 Score (Test): 0.2362\n",
      "Huấn luyện XGBoost tổ hợp 72/128\n"
     ]
    },
    {
     "name": "stderr",
     "output_type": "stream",
     "text": [
      "/usr/local/lib/python3.11/dist-packages/xgboost/sklearn.py:889: UserWarning: `eval_metric` in `fit` method is deprecated for better compatibility with scikit-learn, use `eval_metric` in constructor or`set_params` instead.\n",
      "  warnings.warn(\n"
     ]
    },
    {
     "name": "stdout",
     "output_type": "stream",
     "text": [
      "\n",
      "Đánh giá XGBoost với tham số {'n_estimators': 100, 'max_depth': 3, 'learning_rate': 0.01, 'subsample': 0.6, 'colsample_bytree': 1.0, 'min_child_weight': 3, 'gamma': 0.1}:\n",
      "Train RMSE: 1.1869\n",
      "Test RMSE: 1.1556\n",
      "R2 Score (Test): 0.2362\n",
      "Huấn luyện XGBoost tổ hợp 73/128\n"
     ]
    },
    {
     "name": "stderr",
     "output_type": "stream",
     "text": [
      "/usr/local/lib/python3.11/dist-packages/xgboost/sklearn.py:889: UserWarning: `eval_metric` in `fit` method is deprecated for better compatibility with scikit-learn, use `eval_metric` in constructor or`set_params` instead.\n",
      "  warnings.warn(\n"
     ]
    },
    {
     "name": "stdout",
     "output_type": "stream",
     "text": [
      "\n",
      "Đánh giá XGBoost với tham số {'n_estimators': 100, 'max_depth': 3, 'learning_rate': 0.01, 'subsample': 1.0, 'colsample_bytree': 0.6, 'min_child_weight': 1, 'gamma': 0}:\n",
      "Train RMSE: 1.1918\n",
      "Test RMSE: 1.1596\n",
      "R2 Score (Test): 0.2309\n",
      "Huấn luyện XGBoost tổ hợp 74/128\n"
     ]
    },
    {
     "name": "stderr",
     "output_type": "stream",
     "text": [
      "/usr/local/lib/python3.11/dist-packages/xgboost/sklearn.py:889: UserWarning: `eval_metric` in `fit` method is deprecated for better compatibility with scikit-learn, use `eval_metric` in constructor or`set_params` instead.\n",
      "  warnings.warn(\n"
     ]
    },
    {
     "name": "stdout",
     "output_type": "stream",
     "text": [
      "\n",
      "Đánh giá XGBoost với tham số {'n_estimators': 100, 'max_depth': 3, 'learning_rate': 0.01, 'subsample': 1.0, 'colsample_bytree': 0.6, 'min_child_weight': 1, 'gamma': 0.1}:\n",
      "Train RMSE: 1.1918\n",
      "Test RMSE: 1.1596\n",
      "R2 Score (Test): 0.2309\n",
      "Huấn luyện XGBoost tổ hợp 75/128\n"
     ]
    },
    {
     "name": "stderr",
     "output_type": "stream",
     "text": [
      "/usr/local/lib/python3.11/dist-packages/xgboost/sklearn.py:889: UserWarning: `eval_metric` in `fit` method is deprecated for better compatibility with scikit-learn, use `eval_metric` in constructor or`set_params` instead.\n",
      "  warnings.warn(\n"
     ]
    },
    {
     "name": "stdout",
     "output_type": "stream",
     "text": [
      "\n",
      "Đánh giá XGBoost với tham số {'n_estimators': 100, 'max_depth': 3, 'learning_rate': 0.01, 'subsample': 1.0, 'colsample_bytree': 0.6, 'min_child_weight': 3, 'gamma': 0}:\n",
      "Train RMSE: 1.1918\n",
      "Test RMSE: 1.1596\n",
      "R2 Score (Test): 0.2309\n",
      "Huấn luyện XGBoost tổ hợp 76/128\n"
     ]
    },
    {
     "name": "stderr",
     "output_type": "stream",
     "text": [
      "/usr/local/lib/python3.11/dist-packages/xgboost/sklearn.py:889: UserWarning: `eval_metric` in `fit` method is deprecated for better compatibility with scikit-learn, use `eval_metric` in constructor or`set_params` instead.\n",
      "  warnings.warn(\n"
     ]
    },
    {
     "name": "stdout",
     "output_type": "stream",
     "text": [
      "\n",
      "Đánh giá XGBoost với tham số {'n_estimators': 100, 'max_depth': 3, 'learning_rate': 0.01, 'subsample': 1.0, 'colsample_bytree': 0.6, 'min_child_weight': 3, 'gamma': 0.1}:\n",
      "Train RMSE: 1.1918\n",
      "Test RMSE: 1.1596\n",
      "R2 Score (Test): 0.2309\n",
      "Huấn luyện XGBoost tổ hợp 77/128\n"
     ]
    },
    {
     "name": "stderr",
     "output_type": "stream",
     "text": [
      "/usr/local/lib/python3.11/dist-packages/xgboost/sklearn.py:889: UserWarning: `eval_metric` in `fit` method is deprecated for better compatibility with scikit-learn, use `eval_metric` in constructor or`set_params` instead.\n",
      "  warnings.warn(\n"
     ]
    },
    {
     "name": "stdout",
     "output_type": "stream",
     "text": [
      "\n",
      "Đánh giá XGBoost với tham số {'n_estimators': 100, 'max_depth': 3, 'learning_rate': 0.01, 'subsample': 1.0, 'colsample_bytree': 1.0, 'min_child_weight': 1, 'gamma': 0}:\n",
      "Train RMSE: 1.1885\n",
      "Test RMSE: 1.1536\n",
      "R2 Score (Test): 0.2388\n",
      "Huấn luyện XGBoost tổ hợp 78/128\n"
     ]
    },
    {
     "name": "stderr",
     "output_type": "stream",
     "text": [
      "/usr/local/lib/python3.11/dist-packages/xgboost/sklearn.py:889: UserWarning: `eval_metric` in `fit` method is deprecated for better compatibility with scikit-learn, use `eval_metric` in constructor or`set_params` instead.\n",
      "  warnings.warn(\n"
     ]
    },
    {
     "name": "stdout",
     "output_type": "stream",
     "text": [
      "\n",
      "Đánh giá XGBoost với tham số {'n_estimators': 100, 'max_depth': 3, 'learning_rate': 0.01, 'subsample': 1.0, 'colsample_bytree': 1.0, 'min_child_weight': 1, 'gamma': 0.1}:\n",
      "Train RMSE: 1.1885\n",
      "Test RMSE: 1.1536\n",
      "R2 Score (Test): 0.2388\n",
      "Huấn luyện XGBoost tổ hợp 79/128\n"
     ]
    },
    {
     "name": "stderr",
     "output_type": "stream",
     "text": [
      "/usr/local/lib/python3.11/dist-packages/xgboost/sklearn.py:889: UserWarning: `eval_metric` in `fit` method is deprecated for better compatibility with scikit-learn, use `eval_metric` in constructor or`set_params` instead.\n",
      "  warnings.warn(\n"
     ]
    },
    {
     "name": "stdout",
     "output_type": "stream",
     "text": [
      "\n",
      "Đánh giá XGBoost với tham số {'n_estimators': 100, 'max_depth': 3, 'learning_rate': 0.01, 'subsample': 1.0, 'colsample_bytree': 1.0, 'min_child_weight': 3, 'gamma': 0}:\n",
      "Train RMSE: 1.1885\n",
      "Test RMSE: 1.1536\n",
      "R2 Score (Test): 0.2388\n",
      "Huấn luyện XGBoost tổ hợp 80/128\n"
     ]
    },
    {
     "name": "stderr",
     "output_type": "stream",
     "text": [
      "/usr/local/lib/python3.11/dist-packages/xgboost/sklearn.py:889: UserWarning: `eval_metric` in `fit` method is deprecated for better compatibility with scikit-learn, use `eval_metric` in constructor or`set_params` instead.\n",
      "  warnings.warn(\n"
     ]
    },
    {
     "name": "stdout",
     "output_type": "stream",
     "text": [
      "\n",
      "Đánh giá XGBoost với tham số {'n_estimators': 100, 'max_depth': 3, 'learning_rate': 0.01, 'subsample': 1.0, 'colsample_bytree': 1.0, 'min_child_weight': 3, 'gamma': 0.1}:\n",
      "Train RMSE: 1.1885\n",
      "Test RMSE: 1.1536\n",
      "R2 Score (Test): 0.2388\n",
      "Huấn luyện XGBoost tổ hợp 81/128\n"
     ]
    },
    {
     "name": "stderr",
     "output_type": "stream",
     "text": [
      "/usr/local/lib/python3.11/dist-packages/xgboost/sklearn.py:889: UserWarning: `eval_metric` in `fit` method is deprecated for better compatibility with scikit-learn, use `eval_metric` in constructor or`set_params` instead.\n",
      "  warnings.warn(\n"
     ]
    },
    {
     "name": "stdout",
     "output_type": "stream",
     "text": [
      "\n",
      "Đánh giá XGBoost với tham số {'n_estimators': 100, 'max_depth': 3, 'learning_rate': 0.1, 'subsample': 0.6, 'colsample_bytree': 0.6, 'min_child_weight': 1, 'gamma': 0}:\n",
      "Train RMSE: 0.9623\n",
      "Test RMSE: 0.9675\n",
      "R2 Score (Test): 0.4646\n",
      "Huấn luyện XGBoost tổ hợp 82/128\n"
     ]
    },
    {
     "name": "stderr",
     "output_type": "stream",
     "text": [
      "/usr/local/lib/python3.11/dist-packages/xgboost/sklearn.py:889: UserWarning: `eval_metric` in `fit` method is deprecated for better compatibility with scikit-learn, use `eval_metric` in constructor or`set_params` instead.\n",
      "  warnings.warn(\n"
     ]
    },
    {
     "name": "stdout",
     "output_type": "stream",
     "text": [
      "\n",
      "Đánh giá XGBoost với tham số {'n_estimators': 100, 'max_depth': 3, 'learning_rate': 0.1, 'subsample': 0.6, 'colsample_bytree': 0.6, 'min_child_weight': 1, 'gamma': 0.1}:\n",
      "Train RMSE: 0.9623\n",
      "Test RMSE: 0.9675\n",
      "R2 Score (Test): 0.4646\n",
      "Huấn luyện XGBoost tổ hợp 83/128\n"
     ]
    },
    {
     "name": "stderr",
     "output_type": "stream",
     "text": [
      "/usr/local/lib/python3.11/dist-packages/xgboost/sklearn.py:889: UserWarning: `eval_metric` in `fit` method is deprecated for better compatibility with scikit-learn, use `eval_metric` in constructor or`set_params` instead.\n",
      "  warnings.warn(\n"
     ]
    },
    {
     "name": "stdout",
     "output_type": "stream",
     "text": [
      "\n",
      "Đánh giá XGBoost với tham số {'n_estimators': 100, 'max_depth': 3, 'learning_rate': 0.1, 'subsample': 0.6, 'colsample_bytree': 0.6, 'min_child_weight': 3, 'gamma': 0}:\n",
      "Train RMSE: 0.9631\n",
      "Test RMSE: 0.9627\n",
      "R2 Score (Test): 0.4699\n",
      "Huấn luyện XGBoost tổ hợp 84/128\n"
     ]
    },
    {
     "name": "stderr",
     "output_type": "stream",
     "text": [
      "/usr/local/lib/python3.11/dist-packages/xgboost/sklearn.py:889: UserWarning: `eval_metric` in `fit` method is deprecated for better compatibility with scikit-learn, use `eval_metric` in constructor or`set_params` instead.\n",
      "  warnings.warn(\n"
     ]
    },
    {
     "name": "stdout",
     "output_type": "stream",
     "text": [
      "\n",
      "Đánh giá XGBoost với tham số {'n_estimators': 100, 'max_depth': 3, 'learning_rate': 0.1, 'subsample': 0.6, 'colsample_bytree': 0.6, 'min_child_weight': 3, 'gamma': 0.1}:\n",
      "Train RMSE: 0.9631\n",
      "Test RMSE: 0.9627\n",
      "R2 Score (Test): 0.4699\n",
      "Huấn luyện XGBoost tổ hợp 85/128\n"
     ]
    },
    {
     "name": "stderr",
     "output_type": "stream",
     "text": [
      "/usr/local/lib/python3.11/dist-packages/xgboost/sklearn.py:889: UserWarning: `eval_metric` in `fit` method is deprecated for better compatibility with scikit-learn, use `eval_metric` in constructor or`set_params` instead.\n",
      "  warnings.warn(\n"
     ]
    },
    {
     "name": "stdout",
     "output_type": "stream",
     "text": [
      "\n",
      "Đánh giá XGBoost với tham số {'n_estimators': 100, 'max_depth': 3, 'learning_rate': 0.1, 'subsample': 0.6, 'colsample_bytree': 1.0, 'min_child_weight': 1, 'gamma': 0}:\n",
      "Train RMSE: 0.9459\n",
      "Test RMSE: 0.9521\n",
      "R2 Score (Test): 0.4815\n",
      "Huấn luyện XGBoost tổ hợp 86/128\n"
     ]
    },
    {
     "name": "stderr",
     "output_type": "stream",
     "text": [
      "/usr/local/lib/python3.11/dist-packages/xgboost/sklearn.py:889: UserWarning: `eval_metric` in `fit` method is deprecated for better compatibility with scikit-learn, use `eval_metric` in constructor or`set_params` instead.\n",
      "  warnings.warn(\n"
     ]
    },
    {
     "name": "stdout",
     "output_type": "stream",
     "text": [
      "\n",
      "Đánh giá XGBoost với tham số {'n_estimators': 100, 'max_depth': 3, 'learning_rate': 0.1, 'subsample': 0.6, 'colsample_bytree': 1.0, 'min_child_weight': 1, 'gamma': 0.1}:\n",
      "Train RMSE: 0.9459\n",
      "Test RMSE: 0.9521\n",
      "R2 Score (Test): 0.4815\n",
      "Huấn luyện XGBoost tổ hợp 87/128\n"
     ]
    },
    {
     "name": "stderr",
     "output_type": "stream",
     "text": [
      "/usr/local/lib/python3.11/dist-packages/xgboost/sklearn.py:889: UserWarning: `eval_metric` in `fit` method is deprecated for better compatibility with scikit-learn, use `eval_metric` in constructor or`set_params` instead.\n",
      "  warnings.warn(\n"
     ]
    },
    {
     "name": "stdout",
     "output_type": "stream",
     "text": [
      "\n",
      "Đánh giá XGBoost với tham số {'n_estimators': 100, 'max_depth': 3, 'learning_rate': 0.1, 'subsample': 0.6, 'colsample_bytree': 1.0, 'min_child_weight': 3, 'gamma': 0}:\n",
      "Train RMSE: 0.9423\n",
      "Test RMSE: 0.9500\n",
      "R2 Score (Test): 0.4838\n",
      "Huấn luyện XGBoost tổ hợp 88/128\n"
     ]
    },
    {
     "name": "stderr",
     "output_type": "stream",
     "text": [
      "/usr/local/lib/python3.11/dist-packages/xgboost/sklearn.py:889: UserWarning: `eval_metric` in `fit` method is deprecated for better compatibility with scikit-learn, use `eval_metric` in constructor or`set_params` instead.\n",
      "  warnings.warn(\n"
     ]
    },
    {
     "name": "stdout",
     "output_type": "stream",
     "text": [
      "\n",
      "Đánh giá XGBoost với tham số {'n_estimators': 100, 'max_depth': 3, 'learning_rate': 0.1, 'subsample': 0.6, 'colsample_bytree': 1.0, 'min_child_weight': 3, 'gamma': 0.1}:\n",
      "Train RMSE: 0.9423\n",
      "Test RMSE: 0.9500\n",
      "R2 Score (Test): 0.4838\n",
      "Huấn luyện XGBoost tổ hợp 89/128\n"
     ]
    },
    {
     "name": "stderr",
     "output_type": "stream",
     "text": [
      "/usr/local/lib/python3.11/dist-packages/xgboost/sklearn.py:889: UserWarning: `eval_metric` in `fit` method is deprecated for better compatibility with scikit-learn, use `eval_metric` in constructor or`set_params` instead.\n",
      "  warnings.warn(\n"
     ]
    },
    {
     "name": "stdout",
     "output_type": "stream",
     "text": [
      "\n",
      "Đánh giá XGBoost với tham số {'n_estimators': 100, 'max_depth': 3, 'learning_rate': 0.1, 'subsample': 1.0, 'colsample_bytree': 0.6, 'min_child_weight': 1, 'gamma': 0}:\n",
      "Train RMSE: 0.9678\n",
      "Test RMSE: 0.9700\n",
      "R2 Score (Test): 0.4618\n",
      "Huấn luyện XGBoost tổ hợp 90/128\n"
     ]
    },
    {
     "name": "stderr",
     "output_type": "stream",
     "text": [
      "/usr/local/lib/python3.11/dist-packages/xgboost/sklearn.py:889: UserWarning: `eval_metric` in `fit` method is deprecated for better compatibility with scikit-learn, use `eval_metric` in constructor or`set_params` instead.\n",
      "  warnings.warn(\n"
     ]
    },
    {
     "name": "stdout",
     "output_type": "stream",
     "text": [
      "\n",
      "Đánh giá XGBoost với tham số {'n_estimators': 100, 'max_depth': 3, 'learning_rate': 0.1, 'subsample': 1.0, 'colsample_bytree': 0.6, 'min_child_weight': 1, 'gamma': 0.1}:\n",
      "Train RMSE: 0.9678\n",
      "Test RMSE: 0.9700\n",
      "R2 Score (Test): 0.4618\n",
      "Huấn luyện XGBoost tổ hợp 91/128\n"
     ]
    },
    {
     "name": "stderr",
     "output_type": "stream",
     "text": [
      "/usr/local/lib/python3.11/dist-packages/xgboost/sklearn.py:889: UserWarning: `eval_metric` in `fit` method is deprecated for better compatibility with scikit-learn, use `eval_metric` in constructor or`set_params` instead.\n",
      "  warnings.warn(\n"
     ]
    },
    {
     "name": "stdout",
     "output_type": "stream",
     "text": [
      "\n",
      "Đánh giá XGBoost với tham số {'n_estimators': 100, 'max_depth': 3, 'learning_rate': 0.1, 'subsample': 1.0, 'colsample_bytree': 0.6, 'min_child_weight': 3, 'gamma': 0}:\n",
      "Train RMSE: 0.9678\n",
      "Test RMSE: 0.9700\n",
      "R2 Score (Test): 0.4618\n",
      "Huấn luyện XGBoost tổ hợp 92/128\n"
     ]
    },
    {
     "name": "stderr",
     "output_type": "stream",
     "text": [
      "/usr/local/lib/python3.11/dist-packages/xgboost/sklearn.py:889: UserWarning: `eval_metric` in `fit` method is deprecated for better compatibility with scikit-learn, use `eval_metric` in constructor or`set_params` instead.\n",
      "  warnings.warn(\n"
     ]
    },
    {
     "name": "stdout",
     "output_type": "stream",
     "text": [
      "\n",
      "Đánh giá XGBoost với tham số {'n_estimators': 100, 'max_depth': 3, 'learning_rate': 0.1, 'subsample': 1.0, 'colsample_bytree': 0.6, 'min_child_weight': 3, 'gamma': 0.1}:\n",
      "Train RMSE: 0.9678\n",
      "Test RMSE: 0.9700\n",
      "R2 Score (Test): 0.4618\n",
      "Huấn luyện XGBoost tổ hợp 93/128\n"
     ]
    },
    {
     "name": "stderr",
     "output_type": "stream",
     "text": [
      "/usr/local/lib/python3.11/dist-packages/xgboost/sklearn.py:889: UserWarning: `eval_metric` in `fit` method is deprecated for better compatibility with scikit-learn, use `eval_metric` in constructor or`set_params` instead.\n",
      "  warnings.warn(\n"
     ]
    },
    {
     "name": "stdout",
     "output_type": "stream",
     "text": [
      "\n",
      "Đánh giá XGBoost với tham số {'n_estimators': 100, 'max_depth': 3, 'learning_rate': 0.1, 'subsample': 1.0, 'colsample_bytree': 1.0, 'min_child_weight': 1, 'gamma': 0}:\n",
      "Train RMSE: 0.9523\n",
      "Test RMSE: 0.9626\n",
      "R2 Score (Test): 0.4700\n",
      "Huấn luyện XGBoost tổ hợp 94/128\n"
     ]
    },
    {
     "name": "stderr",
     "output_type": "stream",
     "text": [
      "/usr/local/lib/python3.11/dist-packages/xgboost/sklearn.py:889: UserWarning: `eval_metric` in `fit` method is deprecated for better compatibility with scikit-learn, use `eval_metric` in constructor or`set_params` instead.\n",
      "  warnings.warn(\n"
     ]
    },
    {
     "name": "stdout",
     "output_type": "stream",
     "text": [
      "\n",
      "Đánh giá XGBoost với tham số {'n_estimators': 100, 'max_depth': 3, 'learning_rate': 0.1, 'subsample': 1.0, 'colsample_bytree': 1.0, 'min_child_weight': 1, 'gamma': 0.1}:\n",
      "Train RMSE: 0.9523\n",
      "Test RMSE: 0.9626\n",
      "R2 Score (Test): 0.4700\n",
      "Huấn luyện XGBoost tổ hợp 95/128\n"
     ]
    },
    {
     "name": "stderr",
     "output_type": "stream",
     "text": [
      "/usr/local/lib/python3.11/dist-packages/xgboost/sklearn.py:889: UserWarning: `eval_metric` in `fit` method is deprecated for better compatibility with scikit-learn, use `eval_metric` in constructor or`set_params` instead.\n",
      "  warnings.warn(\n"
     ]
    },
    {
     "name": "stdout",
     "output_type": "stream",
     "text": [
      "\n",
      "Đánh giá XGBoost với tham số {'n_estimators': 100, 'max_depth': 3, 'learning_rate': 0.1, 'subsample': 1.0, 'colsample_bytree': 1.0, 'min_child_weight': 3, 'gamma': 0}:\n",
      "Train RMSE: 0.9523\n",
      "Test RMSE: 0.9626\n",
      "R2 Score (Test): 0.4700\n",
      "Huấn luyện XGBoost tổ hợp 96/128\n"
     ]
    },
    {
     "name": "stderr",
     "output_type": "stream",
     "text": [
      "/usr/local/lib/python3.11/dist-packages/xgboost/sklearn.py:889: UserWarning: `eval_metric` in `fit` method is deprecated for better compatibility with scikit-learn, use `eval_metric` in constructor or`set_params` instead.\n",
      "  warnings.warn(\n"
     ]
    },
    {
     "name": "stdout",
     "output_type": "stream",
     "text": [
      "\n",
      "Đánh giá XGBoost với tham số {'n_estimators': 100, 'max_depth': 3, 'learning_rate': 0.1, 'subsample': 1.0, 'colsample_bytree': 1.0, 'min_child_weight': 3, 'gamma': 0.1}:\n",
      "Train RMSE: 0.9523\n",
      "Test RMSE: 0.9626\n",
      "R2 Score (Test): 0.4700\n",
      "Huấn luyện XGBoost tổ hợp 97/128\n"
     ]
    },
    {
     "name": "stderr",
     "output_type": "stream",
     "text": [
      "/usr/local/lib/python3.11/dist-packages/xgboost/sklearn.py:889: UserWarning: `eval_metric` in `fit` method is deprecated for better compatibility with scikit-learn, use `eval_metric` in constructor or`set_params` instead.\n",
      "  warnings.warn(\n"
     ]
    },
    {
     "name": "stdout",
     "output_type": "stream",
     "text": [
      "\n",
      "Đánh giá XGBoost với tham số {'n_estimators': 100, 'max_depth': 6, 'learning_rate': 0.01, 'subsample': 0.6, 'colsample_bytree': 0.6, 'min_child_weight': 1, 'gamma': 0}:\n",
      "Train RMSE: 1.0105\n",
      "Test RMSE: 1.0097\n",
      "R2 Score (Test): 0.4169\n",
      "Huấn luyện XGBoost tổ hợp 98/128\n"
     ]
    },
    {
     "name": "stderr",
     "output_type": "stream",
     "text": [
      "/usr/local/lib/python3.11/dist-packages/xgboost/sklearn.py:889: UserWarning: `eval_metric` in `fit` method is deprecated for better compatibility with scikit-learn, use `eval_metric` in constructor or`set_params` instead.\n",
      "  warnings.warn(\n"
     ]
    },
    {
     "name": "stdout",
     "output_type": "stream",
     "text": [
      "\n",
      "Đánh giá XGBoost với tham số {'n_estimators': 100, 'max_depth': 6, 'learning_rate': 0.01, 'subsample': 0.6, 'colsample_bytree': 0.6, 'min_child_weight': 1, 'gamma': 0.1}:\n",
      "Train RMSE: 1.0105\n",
      "Test RMSE: 1.0097\n",
      "R2 Score (Test): 0.4169\n",
      "Huấn luyện XGBoost tổ hợp 99/128\n"
     ]
    },
    {
     "name": "stderr",
     "output_type": "stream",
     "text": [
      "/usr/local/lib/python3.11/dist-packages/xgboost/sklearn.py:889: UserWarning: `eval_metric` in `fit` method is deprecated for better compatibility with scikit-learn, use `eval_metric` in constructor or`set_params` instead.\n",
      "  warnings.warn(\n"
     ]
    },
    {
     "name": "stdout",
     "output_type": "stream",
     "text": [
      "\n",
      "Đánh giá XGBoost với tham số {'n_estimators': 100, 'max_depth': 6, 'learning_rate': 0.01, 'subsample': 0.6, 'colsample_bytree': 0.6, 'min_child_weight': 3, 'gamma': 0}:\n",
      "Train RMSE: 1.0115\n",
      "Test RMSE: 1.0106\n",
      "R2 Score (Test): 0.4159\n",
      "Huấn luyện XGBoost tổ hợp 100/128\n"
     ]
    },
    {
     "name": "stderr",
     "output_type": "stream",
     "text": [
      "/usr/local/lib/python3.11/dist-packages/xgboost/sklearn.py:889: UserWarning: `eval_metric` in `fit` method is deprecated for better compatibility with scikit-learn, use `eval_metric` in constructor or`set_params` instead.\n",
      "  warnings.warn(\n"
     ]
    },
    {
     "name": "stdout",
     "output_type": "stream",
     "text": [
      "\n",
      "Đánh giá XGBoost với tham số {'n_estimators': 100, 'max_depth': 6, 'learning_rate': 0.01, 'subsample': 0.6, 'colsample_bytree': 0.6, 'min_child_weight': 3, 'gamma': 0.1}:\n",
      "Train RMSE: 1.0115\n",
      "Test RMSE: 1.0106\n",
      "R2 Score (Test): 0.4159\n",
      "Huấn luyện XGBoost tổ hợp 101/128\n"
     ]
    },
    {
     "name": "stderr",
     "output_type": "stream",
     "text": [
      "/usr/local/lib/python3.11/dist-packages/xgboost/sklearn.py:889: UserWarning: `eval_metric` in `fit` method is deprecated for better compatibility with scikit-learn, use `eval_metric` in constructor or`set_params` instead.\n",
      "  warnings.warn(\n"
     ]
    },
    {
     "name": "stdout",
     "output_type": "stream",
     "text": [
      "\n",
      "Đánh giá XGBoost với tham số {'n_estimators': 100, 'max_depth': 6, 'learning_rate': 0.01, 'subsample': 0.6, 'colsample_bytree': 1.0, 'min_child_weight': 1, 'gamma': 0}:\n",
      "Train RMSE: 1.0004\n",
      "Test RMSE: 0.9979\n",
      "R2 Score (Test): 0.4304\n",
      "Huấn luyện XGBoost tổ hợp 102/128\n"
     ]
    },
    {
     "name": "stderr",
     "output_type": "stream",
     "text": [
      "/usr/local/lib/python3.11/dist-packages/xgboost/sklearn.py:889: UserWarning: `eval_metric` in `fit` method is deprecated for better compatibility with scikit-learn, use `eval_metric` in constructor or`set_params` instead.\n",
      "  warnings.warn(\n"
     ]
    },
    {
     "name": "stdout",
     "output_type": "stream",
     "text": [
      "\n",
      "Đánh giá XGBoost với tham số {'n_estimators': 100, 'max_depth': 6, 'learning_rate': 0.01, 'subsample': 0.6, 'colsample_bytree': 1.0, 'min_child_weight': 1, 'gamma': 0.1}:\n",
      "Train RMSE: 1.0004\n",
      "Test RMSE: 0.9979\n",
      "R2 Score (Test): 0.4304\n",
      "Huấn luyện XGBoost tổ hợp 103/128\n"
     ]
    },
    {
     "name": "stderr",
     "output_type": "stream",
     "text": [
      "/usr/local/lib/python3.11/dist-packages/xgboost/sklearn.py:889: UserWarning: `eval_metric` in `fit` method is deprecated for better compatibility with scikit-learn, use `eval_metric` in constructor or`set_params` instead.\n",
      "  warnings.warn(\n"
     ]
    },
    {
     "name": "stdout",
     "output_type": "stream",
     "text": [
      "\n",
      "Đánh giá XGBoost với tham số {'n_estimators': 100, 'max_depth': 6, 'learning_rate': 0.01, 'subsample': 0.6, 'colsample_bytree': 1.0, 'min_child_weight': 3, 'gamma': 0}:\n",
      "Train RMSE: 1.0015\n",
      "Test RMSE: 0.9991\n",
      "R2 Score (Test): 0.4291\n",
      "Huấn luyện XGBoost tổ hợp 104/128\n"
     ]
    },
    {
     "name": "stderr",
     "output_type": "stream",
     "text": [
      "/usr/local/lib/python3.11/dist-packages/xgboost/sklearn.py:889: UserWarning: `eval_metric` in `fit` method is deprecated for better compatibility with scikit-learn, use `eval_metric` in constructor or`set_params` instead.\n",
      "  warnings.warn(\n"
     ]
    },
    {
     "name": "stdout",
     "output_type": "stream",
     "text": [
      "\n",
      "Đánh giá XGBoost với tham số {'n_estimators': 100, 'max_depth': 6, 'learning_rate': 0.01, 'subsample': 0.6, 'colsample_bytree': 1.0, 'min_child_weight': 3, 'gamma': 0.1}:\n",
      "Train RMSE: 1.0015\n",
      "Test RMSE: 0.9990\n",
      "R2 Score (Test): 0.4291\n",
      "Huấn luyện XGBoost tổ hợp 105/128\n"
     ]
    },
    {
     "name": "stderr",
     "output_type": "stream",
     "text": [
      "/usr/local/lib/python3.11/dist-packages/xgboost/sklearn.py:889: UserWarning: `eval_metric` in `fit` method is deprecated for better compatibility with scikit-learn, use `eval_metric` in constructor or`set_params` instead.\n",
      "  warnings.warn(\n"
     ]
    },
    {
     "name": "stdout",
     "output_type": "stream",
     "text": [
      "\n",
      "Đánh giá XGBoost với tham số {'n_estimators': 100, 'max_depth': 6, 'learning_rate': 0.01, 'subsample': 1.0, 'colsample_bytree': 0.6, 'min_child_weight': 1, 'gamma': 0}:\n",
      "Train RMSE: 1.0049\n",
      "Test RMSE: 1.0052\n",
      "R2 Score (Test): 0.4220\n",
      "Huấn luyện XGBoost tổ hợp 106/128\n"
     ]
    },
    {
     "name": "stderr",
     "output_type": "stream",
     "text": [
      "/usr/local/lib/python3.11/dist-packages/xgboost/sklearn.py:889: UserWarning: `eval_metric` in `fit` method is deprecated for better compatibility with scikit-learn, use `eval_metric` in constructor or`set_params` instead.\n",
      "  warnings.warn(\n"
     ]
    },
    {
     "name": "stdout",
     "output_type": "stream",
     "text": [
      "\n",
      "Đánh giá XGBoost với tham số {'n_estimators': 100, 'max_depth': 6, 'learning_rate': 0.01, 'subsample': 1.0, 'colsample_bytree': 0.6, 'min_child_weight': 1, 'gamma': 0.1}:\n",
      "Train RMSE: 1.0049\n",
      "Test RMSE: 1.0052\n",
      "R2 Score (Test): 0.4220\n",
      "Huấn luyện XGBoost tổ hợp 107/128\n"
     ]
    },
    {
     "name": "stderr",
     "output_type": "stream",
     "text": [
      "/usr/local/lib/python3.11/dist-packages/xgboost/sklearn.py:889: UserWarning: `eval_metric` in `fit` method is deprecated for better compatibility with scikit-learn, use `eval_metric` in constructor or`set_params` instead.\n",
      "  warnings.warn(\n"
     ]
    },
    {
     "name": "stdout",
     "output_type": "stream",
     "text": [
      "\n",
      "Đánh giá XGBoost với tham số {'n_estimators': 100, 'max_depth': 6, 'learning_rate': 0.01, 'subsample': 1.0, 'colsample_bytree': 0.6, 'min_child_weight': 3, 'gamma': 0}:\n",
      "Train RMSE: 1.0055\n",
      "Test RMSE: 1.0064\n",
      "R2 Score (Test): 0.4207\n",
      "Huấn luyện XGBoost tổ hợp 108/128\n"
     ]
    },
    {
     "name": "stderr",
     "output_type": "stream",
     "text": [
      "/usr/local/lib/python3.11/dist-packages/xgboost/sklearn.py:889: UserWarning: `eval_metric` in `fit` method is deprecated for better compatibility with scikit-learn, use `eval_metric` in constructor or`set_params` instead.\n",
      "  warnings.warn(\n"
     ]
    },
    {
     "name": "stdout",
     "output_type": "stream",
     "text": [
      "\n",
      "Đánh giá XGBoost với tham số {'n_estimators': 100, 'max_depth': 6, 'learning_rate': 0.01, 'subsample': 1.0, 'colsample_bytree': 0.6, 'min_child_weight': 3, 'gamma': 0.1}:\n",
      "Train RMSE: 1.0056\n",
      "Test RMSE: 1.0063\n",
      "R2 Score (Test): 0.4208\n",
      "Huấn luyện XGBoost tổ hợp 109/128\n"
     ]
    },
    {
     "name": "stderr",
     "output_type": "stream",
     "text": [
      "/usr/local/lib/python3.11/dist-packages/xgboost/sklearn.py:889: UserWarning: `eval_metric` in `fit` method is deprecated for better compatibility with scikit-learn, use `eval_metric` in constructor or`set_params` instead.\n",
      "  warnings.warn(\n"
     ]
    },
    {
     "name": "stdout",
     "output_type": "stream",
     "text": [
      "\n",
      "Đánh giá XGBoost với tham số {'n_estimators': 100, 'max_depth': 6, 'learning_rate': 0.01, 'subsample': 1.0, 'colsample_bytree': 1.0, 'min_child_weight': 1, 'gamma': 0}:\n",
      "Train RMSE: 1.0021\n",
      "Test RMSE: 1.0013\n",
      "R2 Score (Test): 0.4266\n",
      "Huấn luyện XGBoost tổ hợp 110/128\n"
     ]
    },
    {
     "name": "stderr",
     "output_type": "stream",
     "text": [
      "/usr/local/lib/python3.11/dist-packages/xgboost/sklearn.py:889: UserWarning: `eval_metric` in `fit` method is deprecated for better compatibility with scikit-learn, use `eval_metric` in constructor or`set_params` instead.\n",
      "  warnings.warn(\n"
     ]
    },
    {
     "name": "stdout",
     "output_type": "stream",
     "text": [
      "\n",
      "Đánh giá XGBoost với tham số {'n_estimators': 100, 'max_depth': 6, 'learning_rate': 0.01, 'subsample': 1.0, 'colsample_bytree': 1.0, 'min_child_weight': 1, 'gamma': 0.1}:\n",
      "Train RMSE: 1.0021\n",
      "Test RMSE: 1.0013\n",
      "R2 Score (Test): 0.4266\n",
      "Huấn luyện XGBoost tổ hợp 111/128\n"
     ]
    },
    {
     "name": "stderr",
     "output_type": "stream",
     "text": [
      "/usr/local/lib/python3.11/dist-packages/xgboost/sklearn.py:889: UserWarning: `eval_metric` in `fit` method is deprecated for better compatibility with scikit-learn, use `eval_metric` in constructor or`set_params` instead.\n",
      "  warnings.warn(\n"
     ]
    },
    {
     "name": "stdout",
     "output_type": "stream",
     "text": [
      "\n",
      "Đánh giá XGBoost với tham số {'n_estimators': 100, 'max_depth': 6, 'learning_rate': 0.01, 'subsample': 1.0, 'colsample_bytree': 1.0, 'min_child_weight': 3, 'gamma': 0}:\n",
      "Train RMSE: 1.0025\n",
      "Test RMSE: 1.0011\n",
      "R2 Score (Test): 0.4268\n",
      "Huấn luyện XGBoost tổ hợp 112/128\n"
     ]
    },
    {
     "name": "stderr",
     "output_type": "stream",
     "text": [
      "/usr/local/lib/python3.11/dist-packages/xgboost/sklearn.py:889: UserWarning: `eval_metric` in `fit` method is deprecated for better compatibility with scikit-learn, use `eval_metric` in constructor or`set_params` instead.\n",
      "  warnings.warn(\n"
     ]
    },
    {
     "name": "stdout",
     "output_type": "stream",
     "text": [
      "\n",
      "Đánh giá XGBoost với tham số {'n_estimators': 100, 'max_depth': 6, 'learning_rate': 0.01, 'subsample': 1.0, 'colsample_bytree': 1.0, 'min_child_weight': 3, 'gamma': 0.1}:\n",
      "Train RMSE: 1.0025\n",
      "Test RMSE: 1.0011\n",
      "R2 Score (Test): 0.4268\n",
      "Huấn luyện XGBoost tổ hợp 113/128\n"
     ]
    },
    {
     "name": "stderr",
     "output_type": "stream",
     "text": [
      "/usr/local/lib/python3.11/dist-packages/xgboost/sklearn.py:889: UserWarning: `eval_metric` in `fit` method is deprecated for better compatibility with scikit-learn, use `eval_metric` in constructor or`set_params` instead.\n",
      "  warnings.warn(\n"
     ]
    },
    {
     "name": "stdout",
     "output_type": "stream",
     "text": [
      "\n",
      "Đánh giá XGBoost với tham số {'n_estimators': 100, 'max_depth': 6, 'learning_rate': 0.1, 'subsample': 0.6, 'colsample_bytree': 0.6, 'min_child_weight': 1, 'gamma': 0}:\n",
      "Train RMSE: 0.6620\n",
      "Test RMSE: 0.7585\n",
      "R2 Score (Test): 0.6710\n",
      "Huấn luyện XGBoost tổ hợp 114/128\n"
     ]
    },
    {
     "name": "stderr",
     "output_type": "stream",
     "text": [
      "/usr/local/lib/python3.11/dist-packages/xgboost/sklearn.py:889: UserWarning: `eval_metric` in `fit` method is deprecated for better compatibility with scikit-learn, use `eval_metric` in constructor or`set_params` instead.\n",
      "  warnings.warn(\n"
     ]
    },
    {
     "name": "stdout",
     "output_type": "stream",
     "text": [
      "\n",
      "Đánh giá XGBoost với tham số {'n_estimators': 100, 'max_depth': 6, 'learning_rate': 0.1, 'subsample': 0.6, 'colsample_bytree': 0.6, 'min_child_weight': 1, 'gamma': 0.1}:\n",
      "Train RMSE: 0.6578\n",
      "Test RMSE: 0.7576\n",
      "R2 Score (Test): 0.6717\n",
      "Huấn luyện XGBoost tổ hợp 115/128\n"
     ]
    },
    {
     "name": "stderr",
     "output_type": "stream",
     "text": [
      "/usr/local/lib/python3.11/dist-packages/xgboost/sklearn.py:889: UserWarning: `eval_metric` in `fit` method is deprecated for better compatibility with scikit-learn, use `eval_metric` in constructor or`set_params` instead.\n",
      "  warnings.warn(\n"
     ]
    },
    {
     "name": "stdout",
     "output_type": "stream",
     "text": [
      "\n",
      "Đánh giá XGBoost với tham số {'n_estimators': 100, 'max_depth': 6, 'learning_rate': 0.1, 'subsample': 0.6, 'colsample_bytree': 0.6, 'min_child_weight': 3, 'gamma': 0}:\n",
      "Train RMSE: 0.6693\n",
      "Test RMSE: 0.7526\n",
      "R2 Score (Test): 0.6761\n",
      "Huấn luyện XGBoost tổ hợp 116/128\n"
     ]
    },
    {
     "name": "stderr",
     "output_type": "stream",
     "text": [
      "/usr/local/lib/python3.11/dist-packages/xgboost/sklearn.py:889: UserWarning: `eval_metric` in `fit` method is deprecated for better compatibility with scikit-learn, use `eval_metric` in constructor or`set_params` instead.\n",
      "  warnings.warn(\n"
     ]
    },
    {
     "name": "stdout",
     "output_type": "stream",
     "text": [
      "\n",
      "Đánh giá XGBoost với tham số {'n_estimators': 100, 'max_depth': 6, 'learning_rate': 0.1, 'subsample': 0.6, 'colsample_bytree': 0.6, 'min_child_weight': 3, 'gamma': 0.1}:\n",
      "Train RMSE: 0.6684\n",
      "Test RMSE: 0.7560\n",
      "R2 Score (Test): 0.6731\n",
      "Huấn luyện XGBoost tổ hợp 117/128\n"
     ]
    },
    {
     "name": "stderr",
     "output_type": "stream",
     "text": [
      "/usr/local/lib/python3.11/dist-packages/xgboost/sklearn.py:889: UserWarning: `eval_metric` in `fit` method is deprecated for better compatibility with scikit-learn, use `eval_metric` in constructor or`set_params` instead.\n",
      "  warnings.warn(\n"
     ]
    },
    {
     "name": "stdout",
     "output_type": "stream",
     "text": [
      "\n",
      "Đánh giá XGBoost với tham số {'n_estimators': 100, 'max_depth': 6, 'learning_rate': 0.1, 'subsample': 0.6, 'colsample_bytree': 1.0, 'min_child_weight': 1, 'gamma': 0}:\n",
      "Train RMSE: 0.6415\n",
      "Test RMSE: 0.7429\n",
      "R2 Score (Test): 0.6843\n",
      "Huấn luyện XGBoost tổ hợp 118/128\n"
     ]
    },
    {
     "name": "stderr",
     "output_type": "stream",
     "text": [
      "/usr/local/lib/python3.11/dist-packages/xgboost/sklearn.py:889: UserWarning: `eval_metric` in `fit` method is deprecated for better compatibility with scikit-learn, use `eval_metric` in constructor or`set_params` instead.\n",
      "  warnings.warn(\n"
     ]
    },
    {
     "name": "stdout",
     "output_type": "stream",
     "text": [
      "\n",
      "Đánh giá XGBoost với tham số {'n_estimators': 100, 'max_depth': 6, 'learning_rate': 0.1, 'subsample': 0.6, 'colsample_bytree': 1.0, 'min_child_weight': 1, 'gamma': 0.1}:\n",
      "Train RMSE: 0.6436\n",
      "Test RMSE: 0.7454\n",
      "R2 Score (Test): 0.6822\n",
      "Huấn luyện XGBoost tổ hợp 119/128\n"
     ]
    },
    {
     "name": "stderr",
     "output_type": "stream",
     "text": [
      "/usr/local/lib/python3.11/dist-packages/xgboost/sklearn.py:889: UserWarning: `eval_metric` in `fit` method is deprecated for better compatibility with scikit-learn, use `eval_metric` in constructor or`set_params` instead.\n",
      "  warnings.warn(\n"
     ]
    },
    {
     "name": "stdout",
     "output_type": "stream",
     "text": [
      "\n",
      "Đánh giá XGBoost với tham số {'n_estimators': 100, 'max_depth': 6, 'learning_rate': 0.1, 'subsample': 0.6, 'colsample_bytree': 1.0, 'min_child_weight': 3, 'gamma': 0}:\n",
      "Train RMSE: 0.6503\n",
      "Test RMSE: 0.7425\n",
      "R2 Score (Test): 0.6846\n",
      "Huấn luyện XGBoost tổ hợp 120/128\n"
     ]
    },
    {
     "name": "stderr",
     "output_type": "stream",
     "text": [
      "/usr/local/lib/python3.11/dist-packages/xgboost/sklearn.py:889: UserWarning: `eval_metric` in `fit` method is deprecated for better compatibility with scikit-learn, use `eval_metric` in constructor or`set_params` instead.\n",
      "  warnings.warn(\n"
     ]
    },
    {
     "name": "stdout",
     "output_type": "stream",
     "text": [
      "\n",
      "Đánh giá XGBoost với tham số {'n_estimators': 100, 'max_depth': 6, 'learning_rate': 0.1, 'subsample': 0.6, 'colsample_bytree': 1.0, 'min_child_weight': 3, 'gamma': 0.1}:\n",
      "Train RMSE: 0.6489\n",
      "Test RMSE: 0.7415\n",
      "R2 Score (Test): 0.6855\n",
      "Huấn luyện XGBoost tổ hợp 121/128\n"
     ]
    },
    {
     "name": "stderr",
     "output_type": "stream",
     "text": [
      "/usr/local/lib/python3.11/dist-packages/xgboost/sklearn.py:889: UserWarning: `eval_metric` in `fit` method is deprecated for better compatibility with scikit-learn, use `eval_metric` in constructor or`set_params` instead.\n",
      "  warnings.warn(\n"
     ]
    },
    {
     "name": "stdout",
     "output_type": "stream",
     "text": [
      "\n",
      "Đánh giá XGBoost với tham số {'n_estimators': 100, 'max_depth': 6, 'learning_rate': 0.1, 'subsample': 1.0, 'colsample_bytree': 0.6, 'min_child_weight': 1, 'gamma': 0}:\n",
      "Train RMSE: 0.6602\n",
      "Test RMSE: 0.7488\n",
      "R2 Score (Test): 0.6793\n",
      "Huấn luyện XGBoost tổ hợp 122/128\n"
     ]
    },
    {
     "name": "stderr",
     "output_type": "stream",
     "text": [
      "/usr/local/lib/python3.11/dist-packages/xgboost/sklearn.py:889: UserWarning: `eval_metric` in `fit` method is deprecated for better compatibility with scikit-learn, use `eval_metric` in constructor or`set_params` instead.\n",
      "  warnings.warn(\n"
     ]
    },
    {
     "name": "stdout",
     "output_type": "stream",
     "text": [
      "\n",
      "Đánh giá XGBoost với tham số {'n_estimators': 100, 'max_depth': 6, 'learning_rate': 0.1, 'subsample': 1.0, 'colsample_bytree': 0.6, 'min_child_weight': 1, 'gamma': 0.1}:\n",
      "Train RMSE: 0.6587\n",
      "Test RMSE: 0.7472\n",
      "R2 Score (Test): 0.6806\n",
      "Huấn luyện XGBoost tổ hợp 123/128\n"
     ]
    },
    {
     "name": "stderr",
     "output_type": "stream",
     "text": [
      "/usr/local/lib/python3.11/dist-packages/xgboost/sklearn.py:889: UserWarning: `eval_metric` in `fit` method is deprecated for better compatibility with scikit-learn, use `eval_metric` in constructor or`set_params` instead.\n",
      "  warnings.warn(\n"
     ]
    },
    {
     "name": "stdout",
     "output_type": "stream",
     "text": [
      "\n",
      "Đánh giá XGBoost với tham số {'n_estimators': 100, 'max_depth': 6, 'learning_rate': 0.1, 'subsample': 1.0, 'colsample_bytree': 0.6, 'min_child_weight': 3, 'gamma': 0}:\n",
      "Train RMSE: 0.6599\n",
      "Test RMSE: 0.7457\n",
      "R2 Score (Test): 0.6819\n",
      "Huấn luyện XGBoost tổ hợp 124/128\n"
     ]
    },
    {
     "name": "stderr",
     "output_type": "stream",
     "text": [
      "/usr/local/lib/python3.11/dist-packages/xgboost/sklearn.py:889: UserWarning: `eval_metric` in `fit` method is deprecated for better compatibility with scikit-learn, use `eval_metric` in constructor or`set_params` instead.\n",
      "  warnings.warn(\n"
     ]
    },
    {
     "name": "stdout",
     "output_type": "stream",
     "text": [
      "\n",
      "Đánh giá XGBoost với tham số {'n_estimators': 100, 'max_depth': 6, 'learning_rate': 0.1, 'subsample': 1.0, 'colsample_bytree': 0.6, 'min_child_weight': 3, 'gamma': 0.1}:\n",
      "Train RMSE: 0.6593\n",
      "Test RMSE: 0.7456\n",
      "R2 Score (Test): 0.6821\n",
      "Huấn luyện XGBoost tổ hợp 125/128\n"
     ]
    },
    {
     "name": "stderr",
     "output_type": "stream",
     "text": [
      "/usr/local/lib/python3.11/dist-packages/xgboost/sklearn.py:889: UserWarning: `eval_metric` in `fit` method is deprecated for better compatibility with scikit-learn, use `eval_metric` in constructor or`set_params` instead.\n",
      "  warnings.warn(\n"
     ]
    },
    {
     "name": "stdout",
     "output_type": "stream",
     "text": [
      "\n",
      "Đánh giá XGBoost với tham số {'n_estimators': 100, 'max_depth': 6, 'learning_rate': 0.1, 'subsample': 1.0, 'colsample_bytree': 1.0, 'min_child_weight': 1, 'gamma': 0}:\n",
      "Train RMSE: 0.6407\n",
      "Test RMSE: 0.7540\n",
      "R2 Score (Test): 0.6749\n",
      "Huấn luyện XGBoost tổ hợp 126/128\n"
     ]
    },
    {
     "name": "stderr",
     "output_type": "stream",
     "text": [
      "/usr/local/lib/python3.11/dist-packages/xgboost/sklearn.py:889: UserWarning: `eval_metric` in `fit` method is deprecated for better compatibility with scikit-learn, use `eval_metric` in constructor or`set_params` instead.\n",
      "  warnings.warn(\n"
     ]
    },
    {
     "name": "stdout",
     "output_type": "stream",
     "text": [
      "\n",
      "Đánh giá XGBoost với tham số {'n_estimators': 100, 'max_depth': 6, 'learning_rate': 0.1, 'subsample': 1.0, 'colsample_bytree': 1.0, 'min_child_weight': 1, 'gamma': 0.1}:\n",
      "Train RMSE: 0.6407\n",
      "Test RMSE: 0.7536\n",
      "R2 Score (Test): 0.6752\n",
      "Huấn luyện XGBoost tổ hợp 127/128\n"
     ]
    },
    {
     "name": "stderr",
     "output_type": "stream",
     "text": [
      "/usr/local/lib/python3.11/dist-packages/xgboost/sklearn.py:889: UserWarning: `eval_metric` in `fit` method is deprecated for better compatibility with scikit-learn, use `eval_metric` in constructor or`set_params` instead.\n",
      "  warnings.warn(\n"
     ]
    },
    {
     "name": "stdout",
     "output_type": "stream",
     "text": [
      "\n",
      "Đánh giá XGBoost với tham số {'n_estimators': 100, 'max_depth': 6, 'learning_rate': 0.1, 'subsample': 1.0, 'colsample_bytree': 1.0, 'min_child_weight': 3, 'gamma': 0}:\n",
      "Train RMSE: 0.6455\n",
      "Test RMSE: 0.7401\n",
      "R2 Score (Test): 0.6867\n",
      "Huấn luyện XGBoost tổ hợp 128/128\n"
     ]
    },
    {
     "name": "stderr",
     "output_type": "stream",
     "text": [
      "/usr/local/lib/python3.11/dist-packages/xgboost/sklearn.py:889: UserWarning: `eval_metric` in `fit` method is deprecated for better compatibility with scikit-learn, use `eval_metric` in constructor or`set_params` instead.\n",
      "  warnings.warn(\n"
     ]
    },
    {
     "name": "stdout",
     "output_type": "stream",
     "text": [
      "\n",
      "Đánh giá XGBoost với tham số {'n_estimators': 100, 'max_depth': 6, 'learning_rate': 0.1, 'subsample': 1.0, 'colsample_bytree': 1.0, 'min_child_weight': 3, 'gamma': 0.1}:\n",
      "Train RMSE: 0.6405\n",
      "Test RMSE: 0.7436\n",
      "R2 Score (Test): 0.6838\n"
     ]
    },
    {
     "name": "stderr",
     "output_type": "stream",
     "text": [
      "/usr/local/lib/python3.11/dist-packages/matplotlib/colors.py:721: RuntimeWarning: invalid value encountered in less\n",
      "  xa[xa < 0] = -1\n"
     ]
    },
    {
     "name": "stdout",
     "output_type": "stream",
     "text": [
      "\n",
      "Tương quan với lượng mưa (Radar):\n",
      "TCLW    0.213307\n",
      "TCW     0.193137\n",
      "TCWV    0.183497\n",
      "R500    0.173187\n",
      "VSB     0.167600\n",
      "B04B    0.145432\n",
      "R850    0.105617\n",
      "B06B    0.093121\n",
      "PEV     0.091359\n",
      "SSHF    0.091236\n",
      "KX      0.086522\n",
      "SLHF    0.065484\n",
      "R250    0.056746\n",
      "IE      0.055531\n",
      "B05B    0.006976\n",
      "CIN     0.000258\n",
      "ISOR   -0.011342\n",
      "V250   -0.025946\n",
      "CAPE   -0.045808\n",
      "EWSS   -0.053219\n",
      "SLOR   -0.068709\n",
      "U250   -0.127304\n",
      "V850   -0.135154\n",
      "WVB    -0.175059\n",
      "U850   -0.193968\n",
      "B09B   -0.195891\n",
      "B10B   -0.204308\n",
      "B12B   -0.218475\n",
      "I2B    -0.218776\n",
      "I4B    -0.218969\n",
      "B16B   -0.221843\n",
      "B14B   -0.224419\n",
      "B11B   -0.227238\n",
      "IRB    -0.227383\n",
      "Name: Radar, dtype: float64\n",
      "\n",
      "Đã lưu kết quả đánh giá vào evaluation_results.csv\n",
      "\n",
      "Tổ hợp tham số tốt nhất (dựa trên test_rmse thấp nhất):\n",
      "Model: XGBoost\n",
      "Params: {'n_estimators': 100, 'max_depth': 6, 'learning_rate': 0.1, 'subsample': 1.0, 'colsample_bytree': 1.0, 'min_child_weight': 3, 'gamma': 0}\n",
      "Test RMSE: 0.7401\n",
      "Test R2: 0.6867\n"
     ]
    }
   ],
   "source": [
    "!pip install rasterio\n",
    "\n",
    "!pip install geopandas\n",
    "import os\n",
    "import numpy as np\n",
    "import pandas as pd\n",
    "import matplotlib.pyplot as plt\n",
    "import seaborn as sns\n",
    "import cartopy.crs as ccrs\n",
    "import cartopy.feature as cfeature\n",
    "from sklearn.model_selection import train_test_split\n",
    "from sklearn.ensemble import RandomForestRegressor\n",
    "from sklearn.metrics import mean_squared_error, r2_score\n",
    "from xgboost import XGBRegressor\n",
    "from itertools import product\n",
    "import logging\n",
    "\n",
    "# Thiết lập logging\n",
    "logging.basicConfig(filename=os.path.join(\"/kaggle/working/retrain_results_all_params\", 'errors.log'), level=logging.ERROR)\n",
    "\n",
    "# Định nghĩa các thông số\n",
    "OUTPUT_PATH = \"/kaggle/working/\"\n",
    "os.makedirs(OUTPUT_PATH, exist_ok=True)\n",
    "CSV_PATH = \"/kaggle/input/data-full-features-ai/weather_data_nghean (1).csv\"\n",
    "\n",
    "# Các đặc trưng đã chọn\n",
    "SELECTED_HIMA_BANDS = ['B04B', 'B05B', 'B06B', 'B09B', 'B10B', 'B11B', 'B12B', 'B14B', 'B16B', 'I2B', 'I4B', 'IRB', 'VSB', 'WVB']\n",
    "SELECTED_ERA5_PARAMS = ['CAPE', 'CIN', 'EWSS', 'IE', 'ISOR', 'KX', 'PEV', 'R250', 'R500', 'R850', 'SLHF', 'SLOR', 'SSHF', 'TCLW', 'TCW', 'TCWV', 'U250', 'U850', 'V250', 'V850']\n",
    "SELECTED_FEATURES = SELECTED_HIMA_BANDS + SELECTED_ERA5_PARAMS\n",
    "HEIGHT, WIDTH = 90, 250\n",
    "\n",
    "# Đọc dữ liệu từ CSV\n",
    "print(\"Đang đọc dữ liệu từ CSV...\")\n",
    "df = pd.read_csv(CSV_PATH)\n",
    "if df.empty:\n",
    "    raise ValueError(\"File CSV rỗng hoặc không tồn tại!\")\n",
    "\n",
    "# Chuẩn bị dữ liệu\n",
    "X = df[SELECTED_FEATURES]\n",
    "y = df['Radar']\n",
    "X_train, X_test, y_train, y_test = train_test_split(X, y, test_size=0.2, random_state=42)\n",
    "\n",
    "# Định nghĩa lưới tham số (rút gọn để tiết kiệm thời gian)\n",
    "rf_param_grid = {\n",
    "    'n_estimators': [50, 100],\n",
    "    'max_depth': [5, 10],\n",
    "    'max_samples': [0.5, 1.0],\n",
    "    'min_samples_split': [2, 5],\n",
    "    'min_samples_leaf': [1, 2],\n",
    "    'max_features': ['sqrt', 0.5]\n",
    "}\n",
    "\n",
    "xgb_param_grid = {\n",
    "    'n_estimators': [50, 100],\n",
    "    'max_depth': [3, 6],\n",
    "    'learning_rate': [0.01, 0.1],\n",
    "    'subsample': [0.6, 1.0],\n",
    "    'colsample_bytree': [0.6, 1.0],\n",
    "    'min_child_weight': [1, 3],\n",
    "    'gamma': [0, 0.1]\n",
    "}\n",
    "\n",
    "# Lưu kết quả đánh giá\n",
    "evaluation_results = []\n",
    "\n",
    "# Hàm vẽ biểu đồ và lưu kết quả\n",
    "def plot_and_save_results(model, model_name, params, y_train_pred, y_test_pred, X_train, X_test, y_train, y_test, df, output_dir, train_losses=None, val_losses=None):\n",
    "    try:\n",
    "        os.makedirs(output_dir, exist_ok=True)\n",
    "\n",
    "        # Đánh giá\n",
    "        train_rmse = np.sqrt(mean_squared_error(y_train, y_train_pred))\n",
    "        test_rmse = np.sqrt(mean_squared_error(y_test, y_test_pred))\n",
    "        test_r2 = r2_score(y_test, y_test_pred)\n",
    "        \n",
    "        print(f\"\\nĐánh giá {model_name} với tham số {params}:\")\n",
    "        print(f\"Train RMSE: {train_rmse:.4f}\")\n",
    "        print(f\"Test RMSE: {test_rmse:.4f}\")\n",
    "        print(f\"R2 Score (Test): {test_r2:.4f}\")\n",
    "\n",
    "        # Lưu kết quả đánh giá\n",
    "        evaluation_results.append({\n",
    "            \"model\": model_name,\n",
    "            \"params\": str(params),\n",
    "            \"train_rmse\": train_rmse,\n",
    "            \"test_rmse\": test_rmse,\n",
    "            \"test_r2\": test_r2\n",
    "        })\n",
    "\n",
    "        # Vẽ đường cong tổn thất (chỉ cho XGBoost)\n",
    "        if train_losses and val_losses:\n",
    "            plt.figure(figsize=(10, 6))\n",
    "            plt.plot(train_losses, label='Train Loss')\n",
    "            plt.plot(val_losses, label='Val Loss')\n",
    "            plt.xlabel('Iteration')\n",
    "            plt.ylabel('RMSE Loss')\n",
    "            plt.title(f'{model_name} Loss Curve')\n",
    "            plt.legend()\n",
    "            plt.savefig(os.path.join(output_dir, 'loss_curve.png'))\n",
    "            plt.close()\n",
    "\n",
    "        # Vẽ bản đồ lượng mưa\n",
    "        sample_dt = df['datetime'].sample(1).iloc[0]\n",
    "        sample_df = df[df['datetime'] == sample_dt].copy()\n",
    "        sample_df['prediction'] = np.nan\n",
    "        test_indices = X_test.index\n",
    "        for idx in test_indices:\n",
    "            if idx in sample_df.index:\n",
    "                sample_df.loc[idx, 'prediction'] = y_test_pred[list(test_indices).index(idx)]\n",
    "\n",
    "        ground_truth_map = np.zeros((HEIGHT, WIDTH))\n",
    "        prediction_map = np.zeros((HEIGHT, WIDTH))\n",
    "        for _, row in sample_df.iterrows():\n",
    "            row_idx = int((row['y'] - df['y'].min()) / (df['y'].max() - df['y'].min()) * HEIGHT)\n",
    "            col_idx = int((row['x'] - df['x'].min()) / (df['x'].max() - df['x'].min()) * WIDTH)\n",
    "            if 0 <= row_idx < HEIGHT and 0 <= col_idx < WIDTH:\n",
    "                ground_truth_map[row_idx, col_idx] = row['Radar']\n",
    "                if not np.isnan(row['prediction']):\n",
    "                    prediction_map[row_idx, col_idx] = row['prediction']\n",
    "\n",
    "        fig, (ax1, ax2) = plt.subplots(1, 2, figsize=(12, 5), subplot_kw={'projection': ccrs.PlateCarree()})\n",
    "        ax1.set_title(f'Ground Truth - {sample_dt}')\n",
    "        ax2.set_title(f'Prediction ({model_name})')\n",
    "        for ax, data in [(ax1, ground_truth_map), (ax2, prediction_map)]:\n",
    "            ax.coastlines()\n",
    "            ax.add_feature(cfeature.BORDERS)\n",
    "            im = ax.imshow(data, cmap='Blues', origin='upper', transform=ccrs.PlateCarree(),\n",
    "                           extent=(df['x'].min(), df['x'].max(), df['y'].min(), df['y'].max()))\n",
    "            plt.colorbar(im, ax=ax, label='Lượng mưa (mm/h)')\n",
    "        plt.savefig(os.path.join(output_dir, f'rainfall_map_{sample_dt.replace(\":\", \"-\")}.png'))\n",
    "        plt.close()\n",
    "\n",
    "        # Vẽ biểu đồ phân tán\n",
    "        plt.figure(figsize=(8, 8))\n",
    "        plt.scatter(y_test, y_test_pred, alpha=0.5, label='Dữ liệu')\n",
    "        plt.plot([y_test.min(), y_test.max()], [y_test.min(), y_test.max()], 'r--', lw=2, label='Đường y=x')\n",
    "        plt.xlabel('Ground Truth (Lượng mưa mm/h)')\n",
    "        plt.ylabel('Dự đoán (Lượng mưa mm/h)')\n",
    "        plt.title(f'So sánh Ground Truth và Dự đoán {model_name}')\n",
    "        plt.legend()\n",
    "        plt.grid(True)\n",
    "        plt.savefig(os.path.join(output_dir, 'ground_truth_vs_prediction_scatter.png'))\n",
    "        plt.close()\n",
    "\n",
    "        # Vẽ biểu đồ tầm quan trọng của đặc trưng\n",
    "        importance = model.feature_importances_\n",
    "        feature_importance = pd.DataFrame({\n",
    "            'feature': SELECTED_FEATURES,\n",
    "            'importance': importance\n",
    "        }).sort_values(by='importance', ascending=False)\n",
    "\n",
    "        plt.figure(figsize=(10, 8))\n",
    "        sns.barplot(x='importance', y='feature', data=feature_importance)\n",
    "        plt.title(f'Feature Importance từ {model_name}')\n",
    "        plt.xlabel('Importance')\n",
    "        plt.ylabel('Feature')\n",
    "        plt.savefig(os.path.join(output_dir, 'feature_importance.png'))\n",
    "        plt.close()\n",
    "\n",
    "    except Exception as e:\n",
    "        logging.error(f\"Lỗi khi lưu kết quả cho {model_name} với tham số {params}: {str(e)}\")\n",
    "        print(f\"Lỗi khi lưu kết quả cho {model_name}: {str(e)}\")\n",
    "\n",
    "# Tạo danh sách tổ hợp tham số cho Random Forest\n",
    "rf_combinations = list(product(\n",
    "    rf_param_grid['n_estimators'],\n",
    "    rf_param_grid['max_depth'],\n",
    "    rf_param_grid['max_samples'],\n",
    "    rf_param_grid['min_samples_split'],\n",
    "    rf_param_grid['min_samples_leaf'],\n",
    "    rf_param_grid['max_features']\n",
    "))\n",
    "\n",
    "# Huấn luyện và đánh giá Random Forest\n",
    "print(f\"Tổng số tổ hợp Random Forest: {len(rf_combinations)}\")\n",
    "for i, (n_estimators, max_depth, max_samples, min_samples_split, min_samples_leaf, max_features) in enumerate(rf_combinations):\n",
    "    params = {\n",
    "        'n_estimators': n_estimators,\n",
    "        'max_depth': max_depth,\n",
    "        'max_samples': max_samples,\n",
    "        'min_samples_split': min_samples_split,\n",
    "        'min_samples_leaf': min_samples_leaf,\n",
    "        'max_features': max_features\n",
    "    }\n",
    "    print(f\"Huấn luyện Random Forest tổ hợp {i+1}/{len(rf_combinations)}\")\n",
    "    try:\n",
    "        rf_model = RandomForestRegressor(**params, random_state=42)\n",
    "        rf_model.fit(X_train, y_train)\n",
    "        y_train_pred = rf_model.predict(X_train)\n",
    "        y_test_pred = rf_model.predict(X_test)\n",
    "        output_dir = os.path.join(OUTPUT_PATH, f\"rf_comb_{i+1}\")\n",
    "        plot_and_save_results(rf_model, \"RandomForest\", params, y_train_pred, y_test_pred, X_train, X_test, y_train, y_test, df, output_dir)\n",
    "    except Exception as e:\n",
    "        logging.error(f\"Lỗi khi huấn luyện Random Forest với tham số {params}: {str(e)}\")\n",
    "        print(f\"Lỗi khi huấn luyện Random Forest tổ hợp {i+1}: {str(e)}\")\n",
    "\n",
    "# Tạo danh sách tổ hợp tham số cho XGBoost\n",
    "xgb_combinations = list(product(\n",
    "    xgb_param_grid['n_estimators'],\n",
    "    xgb_param_grid['max_depth'],\n",
    "    xgb_param_grid['learning_rate'],\n",
    "    xgb_param_grid['subsample'],\n",
    "    xgb_param_grid['colsample_bytree'],\n",
    "    xgb_param_grid['min_child_weight'],\n",
    "    xgb_param_grid['gamma']\n",
    "))\n",
    "\n",
    "# Huấn luyện và đánh giá XGBoost\n",
    "print(f\"Tổng số tổ hợp XGBoost: {len(xgb_combinations)}\")\n",
    "for i, (n_estimators, max_depth, learning_rate, subsample, colsample_bytree, min_child_weight, gamma) in enumerate(xgb_combinations):\n",
    "    params = {\n",
    "        'n_estimators': n_estimators,\n",
    "        'max_depth': max_depth,\n",
    "        'learning_rate': learning_rate,\n",
    "        'subsample': subsample,\n",
    "        'colsample_bytree': colsample_bytree,\n",
    "        'min_child_weight': min_child_weight,\n",
    "        'gamma': gamma\n",
    "    }\n",
    "    print(f\"Huấn luyện XGBoost tổ hợp {i+1}/{len(xgb_combinations)}\")\n",
    "    try:\n",
    "        xgb_model = XGBRegressor(**params, random_state=42)\n",
    "        eval_set = [(X_train, y_train), (X_test, y_test)]\n",
    "        xgb_model.fit(X_train, y_train, eval_metric=\"rmse\", eval_set=eval_set, verbose=False)\n",
    "        y_train_pred = xgb_model.predict(X_train)\n",
    "        y_test_pred = xgb_model.predict(X_test)\n",
    "        results = xgb_model.evals_result()\n",
    "        train_losses = results['validation_0']['rmse']\n",
    "        val_losses = results['validation_1']['rmse']\n",
    "        output_dir = os.path.join(OUTPUT_PATH, f\"xgb_comb_{i+1}\")\n",
    "        plot_and_save_results(xgb_model, \"XGBoost\", params, y_train_pred, y_test_pred, X_train, X_test, y_train, y_test, df, output_dir, train_losses, val_losses)\n",
    "    except Exception as e:\n",
    "        logging.error(f\"Lỗi khi huấn luyện XGBoost với tham số {params}: {str(e)}\")\n",
    "        print(f\"Lỗi khi huấn luyện XGBoost tổ hợp {i+1}: {str(e)}\")\n",
    "\n",
    "# Vẽ ma trận tương quan\n",
    "correlation_matrix = df[SELECTED_FEATURES + ['Radar']].corr()\n",
    "plt.figure(figsize=(12, 10))\n",
    "sns.heatmap(correlation_matrix, annot=False, cmap='coolwarm', center=0)\n",
    "plt.title('Ma trận tương quan giữa các đặc trưng và lượng mưa')\n",
    "plt.savefig(os.path.join(OUTPUT_PATH, 'correlation_matrix.png'))\n",
    "plt.close()\n",
    "\n",
    "# In tương quan với lượng mưa\n",
    "precip_correlations = correlation_matrix['Radar'].drop('Radar')\n",
    "print(\"\\nTương quan với lượng mưa (Radar):\")\n",
    "print(precip_correlations.sort_values(ascending=False))\n",
    "\n",
    "# Lưu kết quả đánh giá vào CSV\n",
    "eval_df = pd.DataFrame(evaluation_results)\n",
    "eval_df.to_csv(os.path.join(OUTPUT_PATH, 'evaluation_results.csv'), index=False)\n",
    "print(\"\\nĐã lưu kết quả đánh giá vào evaluation_results.csv\")\n",
    "\n",
    "# Tìm tổ hợp tham số tốt nhất\n",
    "if evaluation_results:\n",
    "    best_result = min(evaluation_results, key=lambda x: x['test_rmse'])\n",
    "    print(\"\\nTổ hợp tham số tốt nhất (dựa trên test_rmse thấp nhất):\")\n",
    "    print(f\"Model: {best_result['model']}\")\n",
    "    print(f\"Params: {best_result['params']}\")\n",
    "    print(f\"Test RMSE: {best_result['test_rmse']:.4f}\")\n",
    "    print(f\"Test R2: {best_result['test_r2']:.4f}\")"
   ]
  }
 ],
 "metadata": {
  "kaggle": {
   "accelerator": "none",
   "dataSources": [
    {
     "datasetId": 7310237,
     "sourceId": 11651856,
     "sourceType": "datasetVersion"
    }
   ],
   "dockerImageVersionId": 31012,
   "isGpuEnabled": false,
   "isInternetEnabled": true,
   "language": "python",
   "sourceType": "notebook"
  },
  "kernelspec": {
   "display_name": "Python 3",
   "language": "python",
   "name": "python3"
  },
  "language_info": {
   "codemirror_mode": {
    "name": "ipython",
    "version": 3
   },
   "file_extension": ".py",
   "mimetype": "text/x-python",
   "name": "python",
   "nbconvert_exporter": "python",
   "pygments_lexer": "ipython3",
   "version": "3.11.11"
  },
  "papermill": {
   "default_parameters": {},
   "duration": 8346.415399,
   "end_time": "2025-05-02T20:44:45.177925",
   "environment_variables": {},
   "exception": null,
   "input_path": "__notebook__.ipynb",
   "output_path": "__notebook__.ipynb",
   "parameters": {},
   "start_time": "2025-05-02T18:25:38.762526",
   "version": "2.6.0"
  }
 },
 "nbformat": 4,
 "nbformat_minor": 5
}
